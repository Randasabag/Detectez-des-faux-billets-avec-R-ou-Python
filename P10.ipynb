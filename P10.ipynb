{
  "nbformat": 4,
  "nbformat_minor": 0,
  "metadata": {
    "colab": {
      "name": "P10",
      "provenance": [],
      "toc_visible": true,
      "authorship_tag": "ABX9TyNSIsVYAdF/tkd/i438ANnF",
      "include_colab_link": true
    },
    "kernelspec": {
      "name": "python3",
      "display_name": "Python 3"
    },
    "language_info": {
      "name": "python"
    }
  },
  "cells": [
    {
      "cell_type": "markdown",
      "metadata": {
        "id": "view-in-github",
        "colab_type": "text"
      },
      "source": [
        "<a href=\"https://colab.research.google.com/github/Randasabag/P10/blob/main/P10.ipynb\" target=\"_parent\"><img src=\"https://colab.research.google.com/assets/colab-badge.svg\" alt=\"Open In Colab\"/></a>"
      ]
    },
    {
      "cell_type": "markdown",
      "source": [
        "# Sommaire :\n",
        "**Partie 1 : Importation des données**\n",
        " - <a href=\"#C1\">Importation des librairies</a>\n",
        " - <a href=\"#C2\">Importation du jeu de données</a>\n",
        " \n",
        "**Partie 2 : Analyse du jeu de données**\n",
        " - <a href=\"#C3\">Affichage du nombre de lignes et colonnes</a>\n",
        " - <a href=\"#C4\">Affichage des informations</a>\n",
        " - <a href=\"#C5\">Analyse des doublons</a>\n",
        " - <a href=\"#C6\">Analyse des valeurs manquantes</a>\n",
        "\n",
        "\n",
        "**Partie 3 : Analyse univariée des variables**\n",
        " - <a href=\"#C7\"></a>\n",
        " - <a href=\"#C8\"></a>\n",
        " - <a href=\"#C9\"\n",
        "\n",
        "\n",
        "**Partie 4 : Analyse bivariée des indicateurs**\n",
        " - <a href=\"#C18\">a>\n",
        "\n",
        "**Partie 5 : Classification** \n",
        " - <a href=\"#C24\">Classification Ascendante Hiérarchique (CAH)</a>\n",
        " - <a href=\"#C25\">Analyse en Composantes Principales (PCA)</a>\n",
        " - <a href=\"#C26\">K-Means</a>\n",
        " - <a href=\"#C27\">Analyse en Composantes Principales (PCA)</a>"
      ],
      "metadata": {
        "id": "E4XEcLS-KjHD"
      }
    },
    {
      "cell_type": "markdown",
      "source": [
        "# **<font color='indianred'>Partie 1 : Importation des données</font>**"
      ],
      "metadata": {
        "id": "hxCcGrx6KsR5"
      }
    },
    {
      "cell_type": "markdown",
      "source": [
        "## <a name=\"C1\"><font color='LightSeaGreen'>Importation des librairies</font></a>"
      ],
      "metadata": {
        "id": "CvN9fwB3Kvfl"
      }
    },
    {
      "cell_type": "code",
      "execution_count": 69,
      "metadata": {
        "id": "3d-cVhT31g_Y"
      },
      "outputs": [],
      "source": [
        "import pandas as pd\n",
        "import numpy as np\n",
        "import matplotlib.pyplot as plt\n",
        "import seaborn as sns\n",
        "import scipy.stats as st\n",
        "from scipy.stats import shapiro\n",
        "import statsmodels.api as sm\n",
        "import statsmodels.formula.api as smf\n",
        "import io\n",
        "from google.colab import files"
      ]
    },
    {
      "cell_type": "markdown",
      "source": [
        "## <a name=\"C2\"><font color='LightSeaGreen'>Importation des données</font></a>"
      ],
      "metadata": {
        "id": "rp6ErGEHKyRl"
      }
    },
    {
      "cell_type": "code",
      "source": [
        "uploaded = files.upload()"
      ],
      "metadata": {
        "colab": {
          "resources": {
            "http://localhost:8080/nbextensions/google.colab/files.js": {
              "data": "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",
              "ok": true,
              "headers": [
                [
                  "content-type",
                  "application/javascript"
                ]
              ],
              "status": 200,
              "status_text": ""
            }
          },
          "base_uri": "https://localhost:8080/",
          "height": 74
        },
        "id": "aybp_VSo1kje",
        "outputId": "023aa497-4529-4cf2-ddd3-b13777eaf458"
      },
      "execution_count": 6,
      "outputs": [
        {
          "output_type": "display_data",
          "data": {
            "text/plain": [
              "<IPython.core.display.HTML object>"
            ],
            "text/html": [
              "\n",
              "     <input type=\"file\" id=\"files-37f0e9e2-8420-4306-b142-7356cf7c7be0\" name=\"files[]\" multiple disabled\n",
              "        style=\"border:none\" />\n",
              "     <output id=\"result-37f0e9e2-8420-4306-b142-7356cf7c7be0\">\n",
              "      Upload widget is only available when the cell has been executed in the\n",
              "      current browser session. Please rerun this cell to enable.\n",
              "      </output>\n",
              "      <script src=\"/nbextensions/google.colab/files.js\"></script> "
            ]
          },
          "metadata": {}
        },
        {
          "output_type": "stream",
          "name": "stdout",
          "text": [
            "Saving billets.xlsx to billets.xlsx\n"
          ]
        }
      ]
    },
    {
      "cell_type": "code",
      "source": [
        "from google.colab import files\n",
        "functions = files.upload()"
      ],
      "metadata": {
        "colab": {
          "resources": {
            "http://localhost:8080/nbextensions/google.colab/files.js": {
              "data": "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",
              "ok": true,
              "headers": [
                [
                  "content-type",
                  "application/javascript"
                ]
              ],
              "status": 200,
              "status_text": ""
            }
          },
          "base_uri": "https://localhost:8080/",
          "height": 74
        },
        "id": "_DvDmwNqutZU",
        "outputId": "fb471564-9fec-499d-bd6c-4c96dee3e35a"
      },
      "execution_count": 7,
      "outputs": [
        {
          "output_type": "display_data",
          "data": {
            "text/plain": [
              "<IPython.core.display.HTML object>"
            ],
            "text/html": [
              "\n",
              "     <input type=\"file\" id=\"files-e5858967-96db-4d89-9d29-28152c3eec07\" name=\"files[]\" multiple disabled\n",
              "        style=\"border:none\" />\n",
              "     <output id=\"result-e5858967-96db-4d89-9d29-28152c3eec07\">\n",
              "      Upload widget is only available when the cell has been executed in the\n",
              "      current browser session. Please rerun this cell to enable.\n",
              "      </output>\n",
              "      <script src=\"/nbextensions/google.colab/files.js\"></script> "
            ]
          },
          "metadata": {}
        },
        {
          "output_type": "stream",
          "name": "stdout",
          "text": [
            "Saving functions.py to functions.py\n"
          ]
        }
      ]
    },
    {
      "cell_type": "code",
      "source": [
        "#Billets\n",
        "df_billets=pd.read_excel(io.BytesIO(uploaded['billets.xlsx'])) \n",
        "df_billets.head()"
      ],
      "metadata": {
        "colab": {
          "base_uri": "https://localhost:8080/",
          "height": 206
        },
        "id": "kIporIzs1qp2",
        "outputId": "0278cca5-d60a-4cdd-ad48-bf61d3b9417c"
      },
      "execution_count": 8,
      "outputs": [
        {
          "output_type": "execute_result",
          "data": {
            "text/plain": [
              "   is_genuine  diagonal  height_left  height_right  margin_low  margin_up  \\\n",
              "0        True    171.81       104.86        104.95        4.52       2.89   \n",
              "1        True    171.46       103.36        103.66        3.77       2.99   \n",
              "2        True    172.69       104.48        103.50        4.40       2.94   \n",
              "3        True    171.36       103.91        103.94        3.62       3.01   \n",
              "4        True    171.73       104.28        103.46        4.04       3.48   \n",
              "\n",
              "   length  \n",
              "0  112.83  \n",
              "1  113.09  \n",
              "2  113.16  \n",
              "3  113.51  \n",
              "4  112.54  "
            ],
            "text/html": [
              "\n",
              "  <div id=\"df-42909fc4-f687-4145-8b1c-fccaf44ee417\">\n",
              "    <div class=\"colab-df-container\">\n",
              "      <div>\n",
              "<style scoped>\n",
              "    .dataframe tbody tr th:only-of-type {\n",
              "        vertical-align: middle;\n",
              "    }\n",
              "\n",
              "    .dataframe tbody tr th {\n",
              "        vertical-align: top;\n",
              "    }\n",
              "\n",
              "    .dataframe thead th {\n",
              "        text-align: right;\n",
              "    }\n",
              "</style>\n",
              "<table border=\"1\" class=\"dataframe\">\n",
              "  <thead>\n",
              "    <tr style=\"text-align: right;\">\n",
              "      <th></th>\n",
              "      <th>is_genuine</th>\n",
              "      <th>diagonal</th>\n",
              "      <th>height_left</th>\n",
              "      <th>height_right</th>\n",
              "      <th>margin_low</th>\n",
              "      <th>margin_up</th>\n",
              "      <th>length</th>\n",
              "    </tr>\n",
              "  </thead>\n",
              "  <tbody>\n",
              "    <tr>\n",
              "      <th>0</th>\n",
              "      <td>True</td>\n",
              "      <td>171.81</td>\n",
              "      <td>104.86</td>\n",
              "      <td>104.95</td>\n",
              "      <td>4.52</td>\n",
              "      <td>2.89</td>\n",
              "      <td>112.83</td>\n",
              "    </tr>\n",
              "    <tr>\n",
              "      <th>1</th>\n",
              "      <td>True</td>\n",
              "      <td>171.46</td>\n",
              "      <td>103.36</td>\n",
              "      <td>103.66</td>\n",
              "      <td>3.77</td>\n",
              "      <td>2.99</td>\n",
              "      <td>113.09</td>\n",
              "    </tr>\n",
              "    <tr>\n",
              "      <th>2</th>\n",
              "      <td>True</td>\n",
              "      <td>172.69</td>\n",
              "      <td>104.48</td>\n",
              "      <td>103.50</td>\n",
              "      <td>4.40</td>\n",
              "      <td>2.94</td>\n",
              "      <td>113.16</td>\n",
              "    </tr>\n",
              "    <tr>\n",
              "      <th>3</th>\n",
              "      <td>True</td>\n",
              "      <td>171.36</td>\n",
              "      <td>103.91</td>\n",
              "      <td>103.94</td>\n",
              "      <td>3.62</td>\n",
              "      <td>3.01</td>\n",
              "      <td>113.51</td>\n",
              "    </tr>\n",
              "    <tr>\n",
              "      <th>4</th>\n",
              "      <td>True</td>\n",
              "      <td>171.73</td>\n",
              "      <td>104.28</td>\n",
              "      <td>103.46</td>\n",
              "      <td>4.04</td>\n",
              "      <td>3.48</td>\n",
              "      <td>112.54</td>\n",
              "    </tr>\n",
              "  </tbody>\n",
              "</table>\n",
              "</div>\n",
              "      <button class=\"colab-df-convert\" onclick=\"convertToInteractive('df-42909fc4-f687-4145-8b1c-fccaf44ee417')\"\n",
              "              title=\"Convert this dataframe to an interactive table.\"\n",
              "              style=\"display:none;\">\n",
              "        \n",
              "  <svg xmlns=\"http://www.w3.org/2000/svg\" height=\"24px\"viewBox=\"0 0 24 24\"\n",
              "       width=\"24px\">\n",
              "    <path d=\"M0 0h24v24H0V0z\" fill=\"none\"/>\n",
              "    <path d=\"M18.56 5.44l.94 2.06.94-2.06 2.06-.94-2.06-.94-.94-2.06-.94 2.06-2.06.94zm-11 1L8.5 8.5l.94-2.06 2.06-.94-2.06-.94L8.5 2.5l-.94 2.06-2.06.94zm10 10l.94 2.06.94-2.06 2.06-.94-2.06-.94-.94-2.06-.94 2.06-2.06.94z\"/><path d=\"M17.41 7.96l-1.37-1.37c-.4-.4-.92-.59-1.43-.59-.52 0-1.04.2-1.43.59L10.3 9.45l-7.72 7.72c-.78.78-.78 2.05 0 2.83L4 21.41c.39.39.9.59 1.41.59.51 0 1.02-.2 1.41-.59l7.78-7.78 2.81-2.81c.8-.78.8-2.07 0-2.86zM5.41 20L4 18.59l7.72-7.72 1.47 1.35L5.41 20z\"/>\n",
              "  </svg>\n",
              "      </button>\n",
              "      \n",
              "  <style>\n",
              "    .colab-df-container {\n",
              "      display:flex;\n",
              "      flex-wrap:wrap;\n",
              "      gap: 12px;\n",
              "    }\n",
              "\n",
              "    .colab-df-convert {\n",
              "      background-color: #E8F0FE;\n",
              "      border: none;\n",
              "      border-radius: 50%;\n",
              "      cursor: pointer;\n",
              "      display: none;\n",
              "      fill: #1967D2;\n",
              "      height: 32px;\n",
              "      padding: 0 0 0 0;\n",
              "      width: 32px;\n",
              "    }\n",
              "\n",
              "    .colab-df-convert:hover {\n",
              "      background-color: #E2EBFA;\n",
              "      box-shadow: 0px 1px 2px rgba(60, 64, 67, 0.3), 0px 1px 3px 1px rgba(60, 64, 67, 0.15);\n",
              "      fill: #174EA6;\n",
              "    }\n",
              "\n",
              "    [theme=dark] .colab-df-convert {\n",
              "      background-color: #3B4455;\n",
              "      fill: #D2E3FC;\n",
              "    }\n",
              "\n",
              "    [theme=dark] .colab-df-convert:hover {\n",
              "      background-color: #434B5C;\n",
              "      box-shadow: 0px 1px 3px 1px rgba(0, 0, 0, 0.15);\n",
              "      filter: drop-shadow(0px 1px 2px rgba(0, 0, 0, 0.3));\n",
              "      fill: #FFFFFF;\n",
              "    }\n",
              "  </style>\n",
              "\n",
              "      <script>\n",
              "        const buttonEl =\n",
              "          document.querySelector('#df-42909fc4-f687-4145-8b1c-fccaf44ee417 button.colab-df-convert');\n",
              "        buttonEl.style.display =\n",
              "          google.colab.kernel.accessAllowed ? 'block' : 'none';\n",
              "\n",
              "        async function convertToInteractive(key) {\n",
              "          const element = document.querySelector('#df-42909fc4-f687-4145-8b1c-fccaf44ee417');\n",
              "          const dataTable =\n",
              "            await google.colab.kernel.invokeFunction('convertToInteractive',\n",
              "                                                     [key], {});\n",
              "          if (!dataTable) return;\n",
              "\n",
              "          const docLinkHtml = 'Like what you see? Visit the ' +\n",
              "            '<a target=\"_blank\" href=https://colab.research.google.com/notebooks/data_table.ipynb>data table notebook</a>'\n",
              "            + ' to learn more about interactive tables.';\n",
              "          element.innerHTML = '';\n",
              "          dataTable['output_type'] = 'display_data';\n",
              "          await google.colab.output.renderOutput(dataTable, element);\n",
              "          const docLink = document.createElement('div');\n",
              "          docLink.innerHTML = docLinkHtml;\n",
              "          element.appendChild(docLink);\n",
              "        }\n",
              "      </script>\n",
              "    </div>\n",
              "  </div>\n",
              "  "
            ]
          },
          "metadata": {},
          "execution_count": 8
        }
      ]
    },
    {
      "cell_type": "markdown",
      "source": [
        "# **<font color='indianred'>Partie 2 : Analyse du jeu de données</font>**"
      ],
      "metadata": {
        "id": "zpdjOlctK2cX"
      }
    },
    {
      "cell_type": "markdown",
      "source": [
        "## <a name=\"C3\"><font color='LightSeaGreen'>Affichage du nombre de lignes et colonnes</font></a>"
      ],
      "metadata": {
        "id": "HWhu9brAK6xd"
      }
    },
    {
      "cell_type": "code",
      "source": [
        "#nombre de lignes et colonnes\n",
        "print('Billets',df_billets.shape)"
      ],
      "metadata": {
        "colab": {
          "base_uri": "https://localhost:8080/"
        },
        "id": "5AjQ1jAF1xaA",
        "outputId": "74e6fb39-e069-42a9-a352-e371ecc141a8"
      },
      "execution_count": 9,
      "outputs": [
        {
          "output_type": "stream",
          "name": "stdout",
          "text": [
            "Billets (1500, 7)\n"
          ]
        }
      ]
    },
    {
      "cell_type": "markdown",
      "source": [
        "## <a name=\"C4\"><font color='LightSeaGreen'>Affichage des informations</font></a>"
      ],
      "metadata": {
        "id": "sPIMtfJGLA2Z"
      }
    },
    {
      "cell_type": "code",
      "source": [
        "print('Table billets')\n",
        "df_billets.info()"
      ],
      "metadata": {
        "colab": {
          "base_uri": "https://localhost:8080/"
        },
        "id": "cnbI18s72ngr",
        "outputId": "6f85bed0-3731-4ed5-a998-e87e45ea280d"
      },
      "execution_count": 10,
      "outputs": [
        {
          "output_type": "stream",
          "name": "stdout",
          "text": [
            "Table billets\n",
            "<class 'pandas.core.frame.DataFrame'>\n",
            "RangeIndex: 1500 entries, 0 to 1499\n",
            "Data columns (total 7 columns):\n",
            " #   Column        Non-Null Count  Dtype  \n",
            "---  ------        --------------  -----  \n",
            " 0   is_genuine    1500 non-null   bool   \n",
            " 1   diagonal      1500 non-null   float64\n",
            " 2   height_left   1500 non-null   float64\n",
            " 3   height_right  1500 non-null   float64\n",
            " 4   margin_low    1463 non-null   float64\n",
            " 5   margin_up     1500 non-null   float64\n",
            " 6   length        1500 non-null   float64\n",
            "dtypes: bool(1), float64(6)\n",
            "memory usage: 71.9 KB\n"
          ]
        }
      ]
    },
    {
      "cell_type": "markdown",
      "source": [
        "###<font color='purple'>Encodage</font>"
      ],
      "metadata": {
        "id": "C_iEeTTYMZCd"
      }
    },
    {
      "cell_type": "code",
      "source": [
        "#renommage : is_gunuine en nature\n",
        "df_billets=df_billets.rename(columns={'is_genuine':'nature'}).replace({False: 1, True: 0})"
      ],
      "metadata": {
        "id": "g8NO49ggMYZT"
      },
      "execution_count": 11,
      "outputs": []
    },
    {
      "cell_type": "code",
      "source": [
        "#Encodage transforme les variables qualitatives False et True en 1 et 0\n",
        "#from sklearn.preprocessing import LabelEncoder\n",
        "#y = np.array(['False', 'True'])\n",
        "#encoder = LabelEncoder()\n",
        "#df_billets['nature'] = encoder.fit_transform(df_billets['nature'])"
      ],
      "metadata": {
        "id": "S5nBkX-2wXbW"
      },
      "execution_count": 12,
      "outputs": []
    },
    {
      "cell_type": "code",
      "source": [
        "df_billets.info()"
      ],
      "metadata": {
        "colab": {
          "base_uri": "https://localhost:8080/"
        },
        "id": "XFxI6oGak7-f",
        "outputId": "83813c29-ab39-4d9c-a7b6-6f3a90575452"
      },
      "execution_count": 13,
      "outputs": [
        {
          "output_type": "stream",
          "name": "stdout",
          "text": [
            "<class 'pandas.core.frame.DataFrame'>\n",
            "RangeIndex: 1500 entries, 0 to 1499\n",
            "Data columns (total 7 columns):\n",
            " #   Column        Non-Null Count  Dtype  \n",
            "---  ------        --------------  -----  \n",
            " 0   nature        1500 non-null   int64  \n",
            " 1   diagonal      1500 non-null   float64\n",
            " 2   height_left   1500 non-null   float64\n",
            " 3   height_right  1500 non-null   float64\n",
            " 4   margin_low    1463 non-null   float64\n",
            " 5   margin_up     1500 non-null   float64\n",
            " 6   length        1500 non-null   float64\n",
            "dtypes: float64(6), int64(1)\n",
            "memory usage: 82.2 KB\n"
          ]
        }
      ]
    },
    {
      "cell_type": "code",
      "source": [
        "#donner un nom aux billets\n",
        "df_billets['code_billet']=\"b\"+(df_billets.index).astype(str)\n",
        "df_billets=df_billets.set_index('code_billet')\n",
        "df_billets.head(60)"
      ],
      "metadata": {
        "colab": {
          "base_uri": "https://localhost:8080/",
          "height": 1000
        },
        "id": "Ga_5vskuiw1Z",
        "outputId": "2765ed05-ba19-44c9-9486-031c4e5edebf"
      },
      "execution_count": 14,
      "outputs": [
        {
          "output_type": "execute_result",
          "data": {
            "text/plain": [
              "             nature  diagonal  height_left  height_right  margin_low  \\\n",
              "code_billet                                                            \n",
              "b0                0    171.81       104.86        104.95        4.52   \n",
              "b1                0    171.46       103.36        103.66        3.77   \n",
              "b2                0    172.69       104.48        103.50        4.40   \n",
              "b3                0    171.36       103.91        103.94        3.62   \n",
              "b4                0    171.73       104.28        103.46        4.04   \n",
              "b5                0    172.17       103.74        104.08        4.42   \n",
              "b6                0    172.34       104.18        103.85        4.58   \n",
              "b7                0    171.88       103.76        104.08        3.98   \n",
              "b8                0    172.47       103.92        103.67        4.00   \n",
              "b9                0    172.47       104.07        104.02        4.04   \n",
              "b10               0    171.83       104.14        103.62        3.16   \n",
              "b11               0    171.84       104.59        104.00        3.88   \n",
              "b12               0    171.89       103.89        103.40        4.11   \n",
              "b13               0    172.20       104.35        103.67        4.44   \n",
              "b14               0    172.06       103.87        103.83        4.09   \n",
              "b15               0    171.73       103.92        103.74        4.43   \n",
              "b16               0    171.30       104.19        103.70        4.12   \n",
              "b17               0    171.88       104.47        103.45        4.56   \n",
              "b18               0    172.47       103.89        104.14        3.74   \n",
              "b19               0    171.90       103.67        103.15        4.55   \n",
              "b20               0    171.87       103.91        103.96        3.74   \n",
              "b21               0    171.82       103.65        103.64        4.25   \n",
              "b22               0    172.10       103.96        103.71        3.93   \n",
              "b23               0    172.56       103.85        103.62        3.32   \n",
              "b24               0    172.22       103.75        103.89        4.18   \n",
              "b25               0    172.09       103.63        103.33        4.32   \n",
              "b26               0    171.83       103.44        103.70        4.15   \n",
              "b27               0    171.88       103.92        103.74        4.02   \n",
              "b28               0    172.02       104.18        104.16        3.97   \n",
              "b29               0    171.58       103.59        103.79        4.10   \n",
              "b30               0    171.71       103.95        103.97        4.00   \n",
              "b31               0    171.98       104.33        103.61        3.68   \n",
              "b32               0    171.99       103.79        103.90        4.62   \n",
              "b33               0    171.85       104.10        103.88        4.13   \n",
              "b34               0    172.29       103.61        104.44        4.54   \n",
              "b35               0    172.01       103.81        103.65        4.36   \n",
              "b36               0    171.80       104.28        104.06        4.47   \n",
              "b37               0    171.73       104.10        104.19        3.39   \n",
              "b38               0    172.00       103.76        104.27        4.42   \n",
              "b39               0    172.28       104.11        104.19        3.93   \n",
              "b40               0    172.44       103.96        104.55        3.73   \n",
              "b41               0    172.08       104.19        103.82        3.99   \n",
              "b42               0    172.10       103.73        103.33        3.72   \n",
              "b43               0    172.40       103.41        103.85        4.01   \n",
              "b44               0    171.79       103.83        103.76        3.99   \n",
              "b45               0    171.42       104.65        103.63        3.99   \n",
              "b46               0    171.47       103.74        104.42        4.19   \n",
              "b47               0    172.13       104.15        103.93        3.97   \n",
              "b48               0    172.07       104.05        103.82        3.71   \n",
              "b49               0    171.82       103.82        103.61        4.42   \n",
              "b50               0    171.95       104.02        103.82        4.28   \n",
              "b51               0    172.03       103.59        104.09        4.49   \n",
              "b52               0    171.64       104.18        103.78        3.49   \n",
              "b53               0    171.71       103.99        103.47        4.49   \n",
              "b54               0    172.02       103.58        103.80        3.95   \n",
              "b55               0    171.56       103.42        103.64        3.77   \n",
              "b56               0    171.25       104.23        103.93        4.36   \n",
              "b57               0    171.66       103.75        104.07        4.01   \n",
              "b58               0    171.88       104.12        103.86        4.07   \n",
              "b59               0    171.88       103.91        103.88        4.05   \n",
              "\n",
              "             margin_up  length  \n",
              "code_billet                     \n",
              "b0                2.89  112.83  \n",
              "b1                2.99  113.09  \n",
              "b2                2.94  113.16  \n",
              "b3                3.01  113.51  \n",
              "b4                3.48  112.54  \n",
              "b5                2.95  112.81  \n",
              "b6                3.26  112.81  \n",
              "b7                2.92  113.08  \n",
              "b8                3.25  112.85  \n",
              "b9                3.25  113.45  \n",
              "b10               3.18  113.22  \n",
              "b11               3.27  113.08  \n",
              "b12               2.96  113.24  \n",
              "b13               3.38  113.65  \n",
              "b14               2.92  113.19  \n",
              "b15               2.78  112.98  \n",
              "b16               2.82  112.87  \n",
              "b17               3.33  113.01  \n",
              "b18               3.28  113.47  \n",
              "b19               3.15  113.12  \n",
              "b20               2.97  113.59  \n",
              "b21               2.80  112.57  \n",
              "b22               2.89  112.68  \n",
              "b23               3.13  113.37  \n",
              "b24               3.19  113.34  \n",
              "b25               2.88  113.46  \n",
              "b26               3.10  113.47  \n",
              "b27               3.17  113.76  \n",
              "b28               3.23  113.64  \n",
              "b29               2.92  113.56  \n",
              "b30               2.83  113.55  \n",
              "b31               3.14  113.41  \n",
              "b32               2.90  112.92  \n",
              "b33               2.93  112.93  \n",
              "b34               2.69  113.48  \n",
              "b35               3.03  113.26  \n",
              "b36               3.29  113.93  \n",
              "b37               3.19  112.79  \n",
              "b38               3.29  112.67  \n",
              "b39               3.08  113.51  \n",
              "b40               2.86  113.16  \n",
              "b41               3.21  113.20  \n",
              "b42               3.02  113.50  \n",
              "b43               3.15  113.45  \n",
              "b44               3.18  112.90  \n",
              "b45               3.05  113.08  \n",
              "b46               2.92  113.53  \n",
              "b47               2.87  113.31  \n",
              "b48               3.61  113.05  \n",
              "b49               2.90  113.02  \n",
              "b50               3.00  113.28  \n",
              "b51               2.85  113.44  \n",
              "b52               3.74  113.94  \n",
              "b53               3.04  113.07  \n",
              "b54               3.46  112.40  \n",
              "b55               3.04  113.30  \n",
              "b56               2.68  113.50  \n",
              "b57               2.98  113.47  \n",
              "b58               3.41  113.50  \n",
              "b59               3.16  113.24  "
            ],
            "text/html": [
              "\n",
              "  <div id=\"df-a4e99dc5-d26e-4ab3-8382-3ce9e006e2db\">\n",
              "    <div class=\"colab-df-container\">\n",
              "      <div>\n",
              "<style scoped>\n",
              "    .dataframe tbody tr th:only-of-type {\n",
              "        vertical-align: middle;\n",
              "    }\n",
              "\n",
              "    .dataframe tbody tr th {\n",
              "        vertical-align: top;\n",
              "    }\n",
              "\n",
              "    .dataframe thead th {\n",
              "        text-align: right;\n",
              "    }\n",
              "</style>\n",
              "<table border=\"1\" class=\"dataframe\">\n",
              "  <thead>\n",
              "    <tr style=\"text-align: right;\">\n",
              "      <th></th>\n",
              "      <th>nature</th>\n",
              "      <th>diagonal</th>\n",
              "      <th>height_left</th>\n",
              "      <th>height_right</th>\n",
              "      <th>margin_low</th>\n",
              "      <th>margin_up</th>\n",
              "      <th>length</th>\n",
              "    </tr>\n",
              "    <tr>\n",
              "      <th>code_billet</th>\n",
              "      <th></th>\n",
              "      <th></th>\n",
              "      <th></th>\n",
              "      <th></th>\n",
              "      <th></th>\n",
              "      <th></th>\n",
              "      <th></th>\n",
              "    </tr>\n",
              "  </thead>\n",
              "  <tbody>\n",
              "    <tr>\n",
              "      <th>b0</th>\n",
              "      <td>0</td>\n",
              "      <td>171.81</td>\n",
              "      <td>104.86</td>\n",
              "      <td>104.95</td>\n",
              "      <td>4.52</td>\n",
              "      <td>2.89</td>\n",
              "      <td>112.83</td>\n",
              "    </tr>\n",
              "    <tr>\n",
              "      <th>b1</th>\n",
              "      <td>0</td>\n",
              "      <td>171.46</td>\n",
              "      <td>103.36</td>\n",
              "      <td>103.66</td>\n",
              "      <td>3.77</td>\n",
              "      <td>2.99</td>\n",
              "      <td>113.09</td>\n",
              "    </tr>\n",
              "    <tr>\n",
              "      <th>b2</th>\n",
              "      <td>0</td>\n",
              "      <td>172.69</td>\n",
              "      <td>104.48</td>\n",
              "      <td>103.50</td>\n",
              "      <td>4.40</td>\n",
              "      <td>2.94</td>\n",
              "      <td>113.16</td>\n",
              "    </tr>\n",
              "    <tr>\n",
              "      <th>b3</th>\n",
              "      <td>0</td>\n",
              "      <td>171.36</td>\n",
              "      <td>103.91</td>\n",
              "      <td>103.94</td>\n",
              "      <td>3.62</td>\n",
              "      <td>3.01</td>\n",
              "      <td>113.51</td>\n",
              "    </tr>\n",
              "    <tr>\n",
              "      <th>b4</th>\n",
              "      <td>0</td>\n",
              "      <td>171.73</td>\n",
              "      <td>104.28</td>\n",
              "      <td>103.46</td>\n",
              "      <td>4.04</td>\n",
              "      <td>3.48</td>\n",
              "      <td>112.54</td>\n",
              "    </tr>\n",
              "    <tr>\n",
              "      <th>b5</th>\n",
              "      <td>0</td>\n",
              "      <td>172.17</td>\n",
              "      <td>103.74</td>\n",
              "      <td>104.08</td>\n",
              "      <td>4.42</td>\n",
              "      <td>2.95</td>\n",
              "      <td>112.81</td>\n",
              "    </tr>\n",
              "    <tr>\n",
              "      <th>b6</th>\n",
              "      <td>0</td>\n",
              "      <td>172.34</td>\n",
              "      <td>104.18</td>\n",
              "      <td>103.85</td>\n",
              "      <td>4.58</td>\n",
              "      <td>3.26</td>\n",
              "      <td>112.81</td>\n",
              "    </tr>\n",
              "    <tr>\n",
              "      <th>b7</th>\n",
              "      <td>0</td>\n",
              "      <td>171.88</td>\n",
              "      <td>103.76</td>\n",
              "      <td>104.08</td>\n",
              "      <td>3.98</td>\n",
              "      <td>2.92</td>\n",
              "      <td>113.08</td>\n",
              "    </tr>\n",
              "    <tr>\n",
              "      <th>b8</th>\n",
              "      <td>0</td>\n",
              "      <td>172.47</td>\n",
              "      <td>103.92</td>\n",
              "      <td>103.67</td>\n",
              "      <td>4.00</td>\n",
              "      <td>3.25</td>\n",
              "      <td>112.85</td>\n",
              "    </tr>\n",
              "    <tr>\n",
              "      <th>b9</th>\n",
              "      <td>0</td>\n",
              "      <td>172.47</td>\n",
              "      <td>104.07</td>\n",
              "      <td>104.02</td>\n",
              "      <td>4.04</td>\n",
              "      <td>3.25</td>\n",
              "      <td>113.45</td>\n",
              "    </tr>\n",
              "    <tr>\n",
              "      <th>b10</th>\n",
              "      <td>0</td>\n",
              "      <td>171.83</td>\n",
              "      <td>104.14</td>\n",
              "      <td>103.62</td>\n",
              "      <td>3.16</td>\n",
              "      <td>3.18</td>\n",
              "      <td>113.22</td>\n",
              "    </tr>\n",
              "    <tr>\n",
              "      <th>b11</th>\n",
              "      <td>0</td>\n",
              "      <td>171.84</td>\n",
              "      <td>104.59</td>\n",
              "      <td>104.00</td>\n",
              "      <td>3.88</td>\n",
              "      <td>3.27</td>\n",
              "      <td>113.08</td>\n",
              "    </tr>\n",
              "    <tr>\n",
              "      <th>b12</th>\n",
              "      <td>0</td>\n",
              "      <td>171.89</td>\n",
              "      <td>103.89</td>\n",
              "      <td>103.40</td>\n",
              "      <td>4.11</td>\n",
              "      <td>2.96</td>\n",
              "      <td>113.24</td>\n",
              "    </tr>\n",
              "    <tr>\n",
              "      <th>b13</th>\n",
              "      <td>0</td>\n",
              "      <td>172.20</td>\n",
              "      <td>104.35</td>\n",
              "      <td>103.67</td>\n",
              "      <td>4.44</td>\n",
              "      <td>3.38</td>\n",
              "      <td>113.65</td>\n",
              "    </tr>\n",
              "    <tr>\n",
              "      <th>b14</th>\n",
              "      <td>0</td>\n",
              "      <td>172.06</td>\n",
              "      <td>103.87</td>\n",
              "      <td>103.83</td>\n",
              "      <td>4.09</td>\n",
              "      <td>2.92</td>\n",
              "      <td>113.19</td>\n",
              "    </tr>\n",
              "    <tr>\n",
              "      <th>b15</th>\n",
              "      <td>0</td>\n",
              "      <td>171.73</td>\n",
              "      <td>103.92</td>\n",
              "      <td>103.74</td>\n",
              "      <td>4.43</td>\n",
              "      <td>2.78</td>\n",
              "      <td>112.98</td>\n",
              "    </tr>\n",
              "    <tr>\n",
              "      <th>b16</th>\n",
              "      <td>0</td>\n",
              "      <td>171.30</td>\n",
              "      <td>104.19</td>\n",
              "      <td>103.70</td>\n",
              "      <td>4.12</td>\n",
              "      <td>2.82</td>\n",
              "      <td>112.87</td>\n",
              "    </tr>\n",
              "    <tr>\n",
              "      <th>b17</th>\n",
              "      <td>0</td>\n",
              "      <td>171.88</td>\n",
              "      <td>104.47</td>\n",
              "      <td>103.45</td>\n",
              "      <td>4.56</td>\n",
              "      <td>3.33</td>\n",
              "      <td>113.01</td>\n",
              "    </tr>\n",
              "    <tr>\n",
              "      <th>b18</th>\n",
              "      <td>0</td>\n",
              "      <td>172.47</td>\n",
              "      <td>103.89</td>\n",
              "      <td>104.14</td>\n",
              "      <td>3.74</td>\n",
              "      <td>3.28</td>\n",
              "      <td>113.47</td>\n",
              "    </tr>\n",
              "    <tr>\n",
              "      <th>b19</th>\n",
              "      <td>0</td>\n",
              "      <td>171.90</td>\n",
              "      <td>103.67</td>\n",
              "      <td>103.15</td>\n",
              "      <td>4.55</td>\n",
              "      <td>3.15</td>\n",
              "      <td>113.12</td>\n",
              "    </tr>\n",
              "    <tr>\n",
              "      <th>b20</th>\n",
              "      <td>0</td>\n",
              "      <td>171.87</td>\n",
              "      <td>103.91</td>\n",
              "      <td>103.96</td>\n",
              "      <td>3.74</td>\n",
              "      <td>2.97</td>\n",
              "      <td>113.59</td>\n",
              "    </tr>\n",
              "    <tr>\n",
              "      <th>b21</th>\n",
              "      <td>0</td>\n",
              "      <td>171.82</td>\n",
              "      <td>103.65</td>\n",
              "      <td>103.64</td>\n",
              "      <td>4.25</td>\n",
              "      <td>2.80</td>\n",
              "      <td>112.57</td>\n",
              "    </tr>\n",
              "    <tr>\n",
              "      <th>b22</th>\n",
              "      <td>0</td>\n",
              "      <td>172.10</td>\n",
              "      <td>103.96</td>\n",
              "      <td>103.71</td>\n",
              "      <td>3.93</td>\n",
              "      <td>2.89</td>\n",
              "      <td>112.68</td>\n",
              "    </tr>\n",
              "    <tr>\n",
              "      <th>b23</th>\n",
              "      <td>0</td>\n",
              "      <td>172.56</td>\n",
              "      <td>103.85</td>\n",
              "      <td>103.62</td>\n",
              "      <td>3.32</td>\n",
              "      <td>3.13</td>\n",
              "      <td>113.37</td>\n",
              "    </tr>\n",
              "    <tr>\n",
              "      <th>b24</th>\n",
              "      <td>0</td>\n",
              "      <td>172.22</td>\n",
              "      <td>103.75</td>\n",
              "      <td>103.89</td>\n",
              "      <td>4.18</td>\n",
              "      <td>3.19</td>\n",
              "      <td>113.34</td>\n",
              "    </tr>\n",
              "    <tr>\n",
              "      <th>b25</th>\n",
              "      <td>0</td>\n",
              "      <td>172.09</td>\n",
              "      <td>103.63</td>\n",
              "      <td>103.33</td>\n",
              "      <td>4.32</td>\n",
              "      <td>2.88</td>\n",
              "      <td>113.46</td>\n",
              "    </tr>\n",
              "    <tr>\n",
              "      <th>b26</th>\n",
              "      <td>0</td>\n",
              "      <td>171.83</td>\n",
              "      <td>103.44</td>\n",
              "      <td>103.70</td>\n",
              "      <td>4.15</td>\n",
              "      <td>3.10</td>\n",
              "      <td>113.47</td>\n",
              "    </tr>\n",
              "    <tr>\n",
              "      <th>b27</th>\n",
              "      <td>0</td>\n",
              "      <td>171.88</td>\n",
              "      <td>103.92</td>\n",
              "      <td>103.74</td>\n",
              "      <td>4.02</td>\n",
              "      <td>3.17</td>\n",
              "      <td>113.76</td>\n",
              "    </tr>\n",
              "    <tr>\n",
              "      <th>b28</th>\n",
              "      <td>0</td>\n",
              "      <td>172.02</td>\n",
              "      <td>104.18</td>\n",
              "      <td>104.16</td>\n",
              "      <td>3.97</td>\n",
              "      <td>3.23</td>\n",
              "      <td>113.64</td>\n",
              "    </tr>\n",
              "    <tr>\n",
              "      <th>b29</th>\n",
              "      <td>0</td>\n",
              "      <td>171.58</td>\n",
              "      <td>103.59</td>\n",
              "      <td>103.79</td>\n",
              "      <td>4.10</td>\n",
              "      <td>2.92</td>\n",
              "      <td>113.56</td>\n",
              "    </tr>\n",
              "    <tr>\n",
              "      <th>b30</th>\n",
              "      <td>0</td>\n",
              "      <td>171.71</td>\n",
              "      <td>103.95</td>\n",
              "      <td>103.97</td>\n",
              "      <td>4.00</td>\n",
              "      <td>2.83</td>\n",
              "      <td>113.55</td>\n",
              "    </tr>\n",
              "    <tr>\n",
              "      <th>b31</th>\n",
              "      <td>0</td>\n",
              "      <td>171.98</td>\n",
              "      <td>104.33</td>\n",
              "      <td>103.61</td>\n",
              "      <td>3.68</td>\n",
              "      <td>3.14</td>\n",
              "      <td>113.41</td>\n",
              "    </tr>\n",
              "    <tr>\n",
              "      <th>b32</th>\n",
              "      <td>0</td>\n",
              "      <td>171.99</td>\n",
              "      <td>103.79</td>\n",
              "      <td>103.90</td>\n",
              "      <td>4.62</td>\n",
              "      <td>2.90</td>\n",
              "      <td>112.92</td>\n",
              "    </tr>\n",
              "    <tr>\n",
              "      <th>b33</th>\n",
              "      <td>0</td>\n",
              "      <td>171.85</td>\n",
              "      <td>104.10</td>\n",
              "      <td>103.88</td>\n",
              "      <td>4.13</td>\n",
              "      <td>2.93</td>\n",
              "      <td>112.93</td>\n",
              "    </tr>\n",
              "    <tr>\n",
              "      <th>b34</th>\n",
              "      <td>0</td>\n",
              "      <td>172.29</td>\n",
              "      <td>103.61</td>\n",
              "      <td>104.44</td>\n",
              "      <td>4.54</td>\n",
              "      <td>2.69</td>\n",
              "      <td>113.48</td>\n",
              "    </tr>\n",
              "    <tr>\n",
              "      <th>b35</th>\n",
              "      <td>0</td>\n",
              "      <td>172.01</td>\n",
              "      <td>103.81</td>\n",
              "      <td>103.65</td>\n",
              "      <td>4.36</td>\n",
              "      <td>3.03</td>\n",
              "      <td>113.26</td>\n",
              "    </tr>\n",
              "    <tr>\n",
              "      <th>b36</th>\n",
              "      <td>0</td>\n",
              "      <td>171.80</td>\n",
              "      <td>104.28</td>\n",
              "      <td>104.06</td>\n",
              "      <td>4.47</td>\n",
              "      <td>3.29</td>\n",
              "      <td>113.93</td>\n",
              "    </tr>\n",
              "    <tr>\n",
              "      <th>b37</th>\n",
              "      <td>0</td>\n",
              "      <td>171.73</td>\n",
              "      <td>104.10</td>\n",
              "      <td>104.19</td>\n",
              "      <td>3.39</td>\n",
              "      <td>3.19</td>\n",
              "      <td>112.79</td>\n",
              "    </tr>\n",
              "    <tr>\n",
              "      <th>b38</th>\n",
              "      <td>0</td>\n",
              "      <td>172.00</td>\n",
              "      <td>103.76</td>\n",
              "      <td>104.27</td>\n",
              "      <td>4.42</td>\n",
              "      <td>3.29</td>\n",
              "      <td>112.67</td>\n",
              "    </tr>\n",
              "    <tr>\n",
              "      <th>b39</th>\n",
              "      <td>0</td>\n",
              "      <td>172.28</td>\n",
              "      <td>104.11</td>\n",
              "      <td>104.19</td>\n",
              "      <td>3.93</td>\n",
              "      <td>3.08</td>\n",
              "      <td>113.51</td>\n",
              "    </tr>\n",
              "    <tr>\n",
              "      <th>b40</th>\n",
              "      <td>0</td>\n",
              "      <td>172.44</td>\n",
              "      <td>103.96</td>\n",
              "      <td>104.55</td>\n",
              "      <td>3.73</td>\n",
              "      <td>2.86</td>\n",
              "      <td>113.16</td>\n",
              "    </tr>\n",
              "    <tr>\n",
              "      <th>b41</th>\n",
              "      <td>0</td>\n",
              "      <td>172.08</td>\n",
              "      <td>104.19</td>\n",
              "      <td>103.82</td>\n",
              "      <td>3.99</td>\n",
              "      <td>3.21</td>\n",
              "      <td>113.20</td>\n",
              "    </tr>\n",
              "    <tr>\n",
              "      <th>b42</th>\n",
              "      <td>0</td>\n",
              "      <td>172.10</td>\n",
              "      <td>103.73</td>\n",
              "      <td>103.33</td>\n",
              "      <td>3.72</td>\n",
              "      <td>3.02</td>\n",
              "      <td>113.50</td>\n",
              "    </tr>\n",
              "    <tr>\n",
              "      <th>b43</th>\n",
              "      <td>0</td>\n",
              "      <td>172.40</td>\n",
              "      <td>103.41</td>\n",
              "      <td>103.85</td>\n",
              "      <td>4.01</td>\n",
              "      <td>3.15</td>\n",
              "      <td>113.45</td>\n",
              "    </tr>\n",
              "    <tr>\n",
              "      <th>b44</th>\n",
              "      <td>0</td>\n",
              "      <td>171.79</td>\n",
              "      <td>103.83</td>\n",
              "      <td>103.76</td>\n",
              "      <td>3.99</td>\n",
              "      <td>3.18</td>\n",
              "      <td>112.90</td>\n",
              "    </tr>\n",
              "    <tr>\n",
              "      <th>b45</th>\n",
              "      <td>0</td>\n",
              "      <td>171.42</td>\n",
              "      <td>104.65</td>\n",
              "      <td>103.63</td>\n",
              "      <td>3.99</td>\n",
              "      <td>3.05</td>\n",
              "      <td>113.08</td>\n",
              "    </tr>\n",
              "    <tr>\n",
              "      <th>b46</th>\n",
              "      <td>0</td>\n",
              "      <td>171.47</td>\n",
              "      <td>103.74</td>\n",
              "      <td>104.42</td>\n",
              "      <td>4.19</td>\n",
              "      <td>2.92</td>\n",
              "      <td>113.53</td>\n",
              "    </tr>\n",
              "    <tr>\n",
              "      <th>b47</th>\n",
              "      <td>0</td>\n",
              "      <td>172.13</td>\n",
              "      <td>104.15</td>\n",
              "      <td>103.93</td>\n",
              "      <td>3.97</td>\n",
              "      <td>2.87</td>\n",
              "      <td>113.31</td>\n",
              "    </tr>\n",
              "    <tr>\n",
              "      <th>b48</th>\n",
              "      <td>0</td>\n",
              "      <td>172.07</td>\n",
              "      <td>104.05</td>\n",
              "      <td>103.82</td>\n",
              "      <td>3.71</td>\n",
              "      <td>3.61</td>\n",
              "      <td>113.05</td>\n",
              "    </tr>\n",
              "    <tr>\n",
              "      <th>b49</th>\n",
              "      <td>0</td>\n",
              "      <td>171.82</td>\n",
              "      <td>103.82</td>\n",
              "      <td>103.61</td>\n",
              "      <td>4.42</td>\n",
              "      <td>2.90</td>\n",
              "      <td>113.02</td>\n",
              "    </tr>\n",
              "    <tr>\n",
              "      <th>b50</th>\n",
              "      <td>0</td>\n",
              "      <td>171.95</td>\n",
              "      <td>104.02</td>\n",
              "      <td>103.82</td>\n",
              "      <td>4.28</td>\n",
              "      <td>3.00</td>\n",
              "      <td>113.28</td>\n",
              "    </tr>\n",
              "    <tr>\n",
              "      <th>b51</th>\n",
              "      <td>0</td>\n",
              "      <td>172.03</td>\n",
              "      <td>103.59</td>\n",
              "      <td>104.09</td>\n",
              "      <td>4.49</td>\n",
              "      <td>2.85</td>\n",
              "      <td>113.44</td>\n",
              "    </tr>\n",
              "    <tr>\n",
              "      <th>b52</th>\n",
              "      <td>0</td>\n",
              "      <td>171.64</td>\n",
              "      <td>104.18</td>\n",
              "      <td>103.78</td>\n",
              "      <td>3.49</td>\n",
              "      <td>3.74</td>\n",
              "      <td>113.94</td>\n",
              "    </tr>\n",
              "    <tr>\n",
              "      <th>b53</th>\n",
              "      <td>0</td>\n",
              "      <td>171.71</td>\n",
              "      <td>103.99</td>\n",
              "      <td>103.47</td>\n",
              "      <td>4.49</td>\n",
              "      <td>3.04</td>\n",
              "      <td>113.07</td>\n",
              "    </tr>\n",
              "    <tr>\n",
              "      <th>b54</th>\n",
              "      <td>0</td>\n",
              "      <td>172.02</td>\n",
              "      <td>103.58</td>\n",
              "      <td>103.80</td>\n",
              "      <td>3.95</td>\n",
              "      <td>3.46</td>\n",
              "      <td>112.40</td>\n",
              "    </tr>\n",
              "    <tr>\n",
              "      <th>b55</th>\n",
              "      <td>0</td>\n",
              "      <td>171.56</td>\n",
              "      <td>103.42</td>\n",
              "      <td>103.64</td>\n",
              "      <td>3.77</td>\n",
              "      <td>3.04</td>\n",
              "      <td>113.30</td>\n",
              "    </tr>\n",
              "    <tr>\n",
              "      <th>b56</th>\n",
              "      <td>0</td>\n",
              "      <td>171.25</td>\n",
              "      <td>104.23</td>\n",
              "      <td>103.93</td>\n",
              "      <td>4.36</td>\n",
              "      <td>2.68</td>\n",
              "      <td>113.50</td>\n",
              "    </tr>\n",
              "    <tr>\n",
              "      <th>b57</th>\n",
              "      <td>0</td>\n",
              "      <td>171.66</td>\n",
              "      <td>103.75</td>\n",
              "      <td>104.07</td>\n",
              "      <td>4.01</td>\n",
              "      <td>2.98</td>\n",
              "      <td>113.47</td>\n",
              "    </tr>\n",
              "    <tr>\n",
              "      <th>b58</th>\n",
              "      <td>0</td>\n",
              "      <td>171.88</td>\n",
              "      <td>104.12</td>\n",
              "      <td>103.86</td>\n",
              "      <td>4.07</td>\n",
              "      <td>3.41</td>\n",
              "      <td>113.50</td>\n",
              "    </tr>\n",
              "    <tr>\n",
              "      <th>b59</th>\n",
              "      <td>0</td>\n",
              "      <td>171.88</td>\n",
              "      <td>103.91</td>\n",
              "      <td>103.88</td>\n",
              "      <td>4.05</td>\n",
              "      <td>3.16</td>\n",
              "      <td>113.24</td>\n",
              "    </tr>\n",
              "  </tbody>\n",
              "</table>\n",
              "</div>\n",
              "      <button class=\"colab-df-convert\" onclick=\"convertToInteractive('df-a4e99dc5-d26e-4ab3-8382-3ce9e006e2db')\"\n",
              "              title=\"Convert this dataframe to an interactive table.\"\n",
              "              style=\"display:none;\">\n",
              "        \n",
              "  <svg xmlns=\"http://www.w3.org/2000/svg\" height=\"24px\"viewBox=\"0 0 24 24\"\n",
              "       width=\"24px\">\n",
              "    <path d=\"M0 0h24v24H0V0z\" fill=\"none\"/>\n",
              "    <path d=\"M18.56 5.44l.94 2.06.94-2.06 2.06-.94-2.06-.94-.94-2.06-.94 2.06-2.06.94zm-11 1L8.5 8.5l.94-2.06 2.06-.94-2.06-.94L8.5 2.5l-.94 2.06-2.06.94zm10 10l.94 2.06.94-2.06 2.06-.94-2.06-.94-.94-2.06-.94 2.06-2.06.94z\"/><path d=\"M17.41 7.96l-1.37-1.37c-.4-.4-.92-.59-1.43-.59-.52 0-1.04.2-1.43.59L10.3 9.45l-7.72 7.72c-.78.78-.78 2.05 0 2.83L4 21.41c.39.39.9.59 1.41.59.51 0 1.02-.2 1.41-.59l7.78-7.78 2.81-2.81c.8-.78.8-2.07 0-2.86zM5.41 20L4 18.59l7.72-7.72 1.47 1.35L5.41 20z\"/>\n",
              "  </svg>\n",
              "      </button>\n",
              "      \n",
              "  <style>\n",
              "    .colab-df-container {\n",
              "      display:flex;\n",
              "      flex-wrap:wrap;\n",
              "      gap: 12px;\n",
              "    }\n",
              "\n",
              "    .colab-df-convert {\n",
              "      background-color: #E8F0FE;\n",
              "      border: none;\n",
              "      border-radius: 50%;\n",
              "      cursor: pointer;\n",
              "      display: none;\n",
              "      fill: #1967D2;\n",
              "      height: 32px;\n",
              "      padding: 0 0 0 0;\n",
              "      width: 32px;\n",
              "    }\n",
              "\n",
              "    .colab-df-convert:hover {\n",
              "      background-color: #E2EBFA;\n",
              "      box-shadow: 0px 1px 2px rgba(60, 64, 67, 0.3), 0px 1px 3px 1px rgba(60, 64, 67, 0.15);\n",
              "      fill: #174EA6;\n",
              "    }\n",
              "\n",
              "    [theme=dark] .colab-df-convert {\n",
              "      background-color: #3B4455;\n",
              "      fill: #D2E3FC;\n",
              "    }\n",
              "\n",
              "    [theme=dark] .colab-df-convert:hover {\n",
              "      background-color: #434B5C;\n",
              "      box-shadow: 0px 1px 3px 1px rgba(0, 0, 0, 0.15);\n",
              "      filter: drop-shadow(0px 1px 2px rgba(0, 0, 0, 0.3));\n",
              "      fill: #FFFFFF;\n",
              "    }\n",
              "  </style>\n",
              "\n",
              "      <script>\n",
              "        const buttonEl =\n",
              "          document.querySelector('#df-a4e99dc5-d26e-4ab3-8382-3ce9e006e2db button.colab-df-convert');\n",
              "        buttonEl.style.display =\n",
              "          google.colab.kernel.accessAllowed ? 'block' : 'none';\n",
              "\n",
              "        async function convertToInteractive(key) {\n",
              "          const element = document.querySelector('#df-a4e99dc5-d26e-4ab3-8382-3ce9e006e2db');\n",
              "          const dataTable =\n",
              "            await google.colab.kernel.invokeFunction('convertToInteractive',\n",
              "                                                     [key], {});\n",
              "          if (!dataTable) return;\n",
              "\n",
              "          const docLinkHtml = 'Like what you see? Visit the ' +\n",
              "            '<a target=\"_blank\" href=https://colab.research.google.com/notebooks/data_table.ipynb>data table notebook</a>'\n",
              "            + ' to learn more about interactive tables.';\n",
              "          element.innerHTML = '';\n",
              "          dataTable['output_type'] = 'display_data';\n",
              "          await google.colab.output.renderOutput(dataTable, element);\n",
              "          const docLink = document.createElement('div');\n",
              "          docLink.innerHTML = docLinkHtml;\n",
              "          element.appendChild(docLink);\n",
              "        }\n",
              "      </script>\n",
              "    </div>\n",
              "  </div>\n",
              "  "
            ]
          },
          "metadata": {},
          "execution_count": 14
        }
      ]
    },
    {
      "cell_type": "code",
      "source": [
        "df_billets['nature'].value_counts()"
      ],
      "metadata": {
        "colab": {
          "base_uri": "https://localhost:8080/"
        },
        "id": "wua_kQY2L90K",
        "outputId": "546fe253-c052-42b1-c4b0-bd451554bad9"
      },
      "execution_count": 15,
      "outputs": [
        {
          "output_type": "execute_result",
          "data": {
            "text/plain": [
              "0    1000\n",
              "1     500\n",
              "Name: nature, dtype: int64"
            ]
          },
          "metadata": {},
          "execution_count": 15
        }
      ]
    },
    {
      "cell_type": "markdown",
      "source": [
        "Il y a 1000 vrais billets et 500 faux billets."
      ],
      "metadata": {
        "id": "EzHUFtS4MID7"
      }
    },
    {
      "cell_type": "markdown",
      "source": [
        "###<font color='purple'>Analyse statistique</font>"
      ],
      "metadata": {
        "id": "Q6S5R4HeM7AY"
      }
    },
    {
      "cell_type": "code",
      "source": [
        "df_billets.describe()"
      ],
      "metadata": {
        "colab": {
          "base_uri": "https://localhost:8080/",
          "height": 300
        },
        "id": "KqvEk1Ck3KrY",
        "outputId": "ee266126-22bd-4ea2-a4c3-b304b8a7366d"
      },
      "execution_count": 16,
      "outputs": [
        {
          "output_type": "execute_result",
          "data": {
            "text/plain": [
              "            nature     diagonal  height_left  height_right   margin_low  \\\n",
              "count  1500.000000  1500.000000  1500.000000   1500.000000  1463.000000   \n",
              "mean      0.333333   171.958440   104.029533    103.920307     4.485967   \n",
              "std       0.471562     0.305195     0.299462      0.325627     0.663813   \n",
              "min       0.000000   171.040000   103.140000    102.820000     2.980000   \n",
              "25%       0.000000   171.750000   103.820000    103.710000     4.015000   \n",
              "50%       0.000000   171.960000   104.040000    103.920000     4.310000   \n",
              "75%       1.000000   172.170000   104.230000    104.150000     4.870000   \n",
              "max       1.000000   173.010000   104.880000    104.950000     6.900000   \n",
              "\n",
              "         margin_up      length  \n",
              "count  1500.000000  1500.00000  \n",
              "mean      3.151473   112.67850  \n",
              "std       0.231813     0.87273  \n",
              "min       2.270000   109.49000  \n",
              "25%       2.990000   112.03000  \n",
              "50%       3.140000   112.96000  \n",
              "75%       3.310000   113.34000  \n",
              "max       3.910000   114.44000  "
            ],
            "text/html": [
              "\n",
              "  <div id=\"df-92208d65-1bcc-4b8a-84b0-7bfa8f93a850\">\n",
              "    <div class=\"colab-df-container\">\n",
              "      <div>\n",
              "<style scoped>\n",
              "    .dataframe tbody tr th:only-of-type {\n",
              "        vertical-align: middle;\n",
              "    }\n",
              "\n",
              "    .dataframe tbody tr th {\n",
              "        vertical-align: top;\n",
              "    }\n",
              "\n",
              "    .dataframe thead th {\n",
              "        text-align: right;\n",
              "    }\n",
              "</style>\n",
              "<table border=\"1\" class=\"dataframe\">\n",
              "  <thead>\n",
              "    <tr style=\"text-align: right;\">\n",
              "      <th></th>\n",
              "      <th>nature</th>\n",
              "      <th>diagonal</th>\n",
              "      <th>height_left</th>\n",
              "      <th>height_right</th>\n",
              "      <th>margin_low</th>\n",
              "      <th>margin_up</th>\n",
              "      <th>length</th>\n",
              "    </tr>\n",
              "  </thead>\n",
              "  <tbody>\n",
              "    <tr>\n",
              "      <th>count</th>\n",
              "      <td>1500.000000</td>\n",
              "      <td>1500.000000</td>\n",
              "      <td>1500.000000</td>\n",
              "      <td>1500.000000</td>\n",
              "      <td>1463.000000</td>\n",
              "      <td>1500.000000</td>\n",
              "      <td>1500.00000</td>\n",
              "    </tr>\n",
              "    <tr>\n",
              "      <th>mean</th>\n",
              "      <td>0.333333</td>\n",
              "      <td>171.958440</td>\n",
              "      <td>104.029533</td>\n",
              "      <td>103.920307</td>\n",
              "      <td>4.485967</td>\n",
              "      <td>3.151473</td>\n",
              "      <td>112.67850</td>\n",
              "    </tr>\n",
              "    <tr>\n",
              "      <th>std</th>\n",
              "      <td>0.471562</td>\n",
              "      <td>0.305195</td>\n",
              "      <td>0.299462</td>\n",
              "      <td>0.325627</td>\n",
              "      <td>0.663813</td>\n",
              "      <td>0.231813</td>\n",
              "      <td>0.87273</td>\n",
              "    </tr>\n",
              "    <tr>\n",
              "      <th>min</th>\n",
              "      <td>0.000000</td>\n",
              "      <td>171.040000</td>\n",
              "      <td>103.140000</td>\n",
              "      <td>102.820000</td>\n",
              "      <td>2.980000</td>\n",
              "      <td>2.270000</td>\n",
              "      <td>109.49000</td>\n",
              "    </tr>\n",
              "    <tr>\n",
              "      <th>25%</th>\n",
              "      <td>0.000000</td>\n",
              "      <td>171.750000</td>\n",
              "      <td>103.820000</td>\n",
              "      <td>103.710000</td>\n",
              "      <td>4.015000</td>\n",
              "      <td>2.990000</td>\n",
              "      <td>112.03000</td>\n",
              "    </tr>\n",
              "    <tr>\n",
              "      <th>50%</th>\n",
              "      <td>0.000000</td>\n",
              "      <td>171.960000</td>\n",
              "      <td>104.040000</td>\n",
              "      <td>103.920000</td>\n",
              "      <td>4.310000</td>\n",
              "      <td>3.140000</td>\n",
              "      <td>112.96000</td>\n",
              "    </tr>\n",
              "    <tr>\n",
              "      <th>75%</th>\n",
              "      <td>1.000000</td>\n",
              "      <td>172.170000</td>\n",
              "      <td>104.230000</td>\n",
              "      <td>104.150000</td>\n",
              "      <td>4.870000</td>\n",
              "      <td>3.310000</td>\n",
              "      <td>113.34000</td>\n",
              "    </tr>\n",
              "    <tr>\n",
              "      <th>max</th>\n",
              "      <td>1.000000</td>\n",
              "      <td>173.010000</td>\n",
              "      <td>104.880000</td>\n",
              "      <td>104.950000</td>\n",
              "      <td>6.900000</td>\n",
              "      <td>3.910000</td>\n",
              "      <td>114.44000</td>\n",
              "    </tr>\n",
              "  </tbody>\n",
              "</table>\n",
              "</div>\n",
              "      <button class=\"colab-df-convert\" onclick=\"convertToInteractive('df-92208d65-1bcc-4b8a-84b0-7bfa8f93a850')\"\n",
              "              title=\"Convert this dataframe to an interactive table.\"\n",
              "              style=\"display:none;\">\n",
              "        \n",
              "  <svg xmlns=\"http://www.w3.org/2000/svg\" height=\"24px\"viewBox=\"0 0 24 24\"\n",
              "       width=\"24px\">\n",
              "    <path d=\"M0 0h24v24H0V0z\" fill=\"none\"/>\n",
              "    <path d=\"M18.56 5.44l.94 2.06.94-2.06 2.06-.94-2.06-.94-.94-2.06-.94 2.06-2.06.94zm-11 1L8.5 8.5l.94-2.06 2.06-.94-2.06-.94L8.5 2.5l-.94 2.06-2.06.94zm10 10l.94 2.06.94-2.06 2.06-.94-2.06-.94-.94-2.06-.94 2.06-2.06.94z\"/><path d=\"M17.41 7.96l-1.37-1.37c-.4-.4-.92-.59-1.43-.59-.52 0-1.04.2-1.43.59L10.3 9.45l-7.72 7.72c-.78.78-.78 2.05 0 2.83L4 21.41c.39.39.9.59 1.41.59.51 0 1.02-.2 1.41-.59l7.78-7.78 2.81-2.81c.8-.78.8-2.07 0-2.86zM5.41 20L4 18.59l7.72-7.72 1.47 1.35L5.41 20z\"/>\n",
              "  </svg>\n",
              "      </button>\n",
              "      \n",
              "  <style>\n",
              "    .colab-df-container {\n",
              "      display:flex;\n",
              "      flex-wrap:wrap;\n",
              "      gap: 12px;\n",
              "    }\n",
              "\n",
              "    .colab-df-convert {\n",
              "      background-color: #E8F0FE;\n",
              "      border: none;\n",
              "      border-radius: 50%;\n",
              "      cursor: pointer;\n",
              "      display: none;\n",
              "      fill: #1967D2;\n",
              "      height: 32px;\n",
              "      padding: 0 0 0 0;\n",
              "      width: 32px;\n",
              "    }\n",
              "\n",
              "    .colab-df-convert:hover {\n",
              "      background-color: #E2EBFA;\n",
              "      box-shadow: 0px 1px 2px rgba(60, 64, 67, 0.3), 0px 1px 3px 1px rgba(60, 64, 67, 0.15);\n",
              "      fill: #174EA6;\n",
              "    }\n",
              "\n",
              "    [theme=dark] .colab-df-convert {\n",
              "      background-color: #3B4455;\n",
              "      fill: #D2E3FC;\n",
              "    }\n",
              "\n",
              "    [theme=dark] .colab-df-convert:hover {\n",
              "      background-color: #434B5C;\n",
              "      box-shadow: 0px 1px 3px 1px rgba(0, 0, 0, 0.15);\n",
              "      filter: drop-shadow(0px 1px 2px rgba(0, 0, 0, 0.3));\n",
              "      fill: #FFFFFF;\n",
              "    }\n",
              "  </style>\n",
              "\n",
              "      <script>\n",
              "        const buttonEl =\n",
              "          document.querySelector('#df-92208d65-1bcc-4b8a-84b0-7bfa8f93a850 button.colab-df-convert');\n",
              "        buttonEl.style.display =\n",
              "          google.colab.kernel.accessAllowed ? 'block' : 'none';\n",
              "\n",
              "        async function convertToInteractive(key) {\n",
              "          const element = document.querySelector('#df-92208d65-1bcc-4b8a-84b0-7bfa8f93a850');\n",
              "          const dataTable =\n",
              "            await google.colab.kernel.invokeFunction('convertToInteractive',\n",
              "                                                     [key], {});\n",
              "          if (!dataTable) return;\n",
              "\n",
              "          const docLinkHtml = 'Like what you see? Visit the ' +\n",
              "            '<a target=\"_blank\" href=https://colab.research.google.com/notebooks/data_table.ipynb>data table notebook</a>'\n",
              "            + ' to learn more about interactive tables.';\n",
              "          element.innerHTML = '';\n",
              "          dataTable['output_type'] = 'display_data';\n",
              "          await google.colab.output.renderOutput(dataTable, element);\n",
              "          const docLink = document.createElement('div');\n",
              "          docLink.innerHTML = docLinkHtml;\n",
              "          element.appendChild(docLink);\n",
              "        }\n",
              "      </script>\n",
              "    </div>\n",
              "  </div>\n",
              "  "
            ]
          },
          "metadata": {},
          "execution_count": 16
        }
      ]
    },
    {
      "cell_type": "markdown",
      "source": [
        "## <a name=\"C7\"><font color='LightSeaGreen'>Analyse des doublons</font></a>"
      ],
      "metadata": {
        "id": "ppVTvjEiLO5V"
      }
    },
    {
      "cell_type": "code",
      "source": [
        "#Fonction qui detecte les doublons\n",
        "def detect_doublons(df):\n",
        "    doub=df[df[df.columns].duplicated(subset=None, keep='first')]\n",
        "    print('------------------') \n",
        "    print('La table contient', len(doub), 'doublons.')\n",
        "    print(doub.shape)\n",
        "    print('\\n') \n",
        "    print(doub)\n",
        "    print('\\n')"
      ],
      "metadata": {
        "id": "eaiTOwbS23SA"
      },
      "execution_count": 17,
      "outputs": []
    },
    {
      "cell_type": "code",
      "source": [
        "detect_doublons(df_billets)"
      ],
      "metadata": {
        "colab": {
          "base_uri": "https://localhost:8080/"
        },
        "id": "8IL9uYQB3B5B",
        "outputId": "71193f39-9c08-470c-f8aa-2802088258cf"
      },
      "execution_count": 18,
      "outputs": [
        {
          "output_type": "stream",
          "name": "stdout",
          "text": [
            "------------------\n",
            "La table contient 0 doublons.\n",
            "(0, 7)\n",
            "\n",
            "\n",
            "Empty DataFrame\n",
            "Columns: [nature, diagonal, height_left, height_right, margin_low, margin_up, length]\n",
            "Index: []\n",
            "\n",
            "\n"
          ]
        }
      ]
    },
    {
      "cell_type": "markdown",
      "source": [
        "## <a name=\"C5\"><font color='LightSeaGreen'>Analyse des valeurs manquantes</font></a>"
      ],
      "metadata": {
        "id": "-jAUnJLvLVdI"
      }
    },
    {
      "cell_type": "code",
      "source": [
        "#Création d'une fonction calculant le pourcentage de valeurs manquantes \n",
        "#et affichant une heatmap pour visualiser les valeurs manquantes \n",
        "def val_manq(df):\n",
        "    ligne,colonne=df.shape\n",
        "    nb_cell=ligne*colonne\n",
        "    nb_null=df.isnull().sum().sum()\n",
        "    prct=nb_null *100/nb_cell\n",
        "    print('Nombre de valeurs manquantes =',nb_null)\n",
        "    print('Nombre de cellulles totales =',nb_cell)\n",
        "    print('Pourcentage de valeurs manquantes = ',round(prct,2),'%') \n",
        "    print('\\n')\n",
        "    #print('Pourcentage de valeurs manquantes avec le nombre de colonnes =\\n',(df.isna().sum()).value_counts(ascending=True))\n",
        "    #Calcul des pourcentages de valeurs manquantes par variable(colonne)\n",
        "    print('\\n')\n",
        "    print('Pourcentage de valeurs manquantes par variable/colonne =\\n', \n",
        "          (df.isna().sum()).sort_values(ascending=True))\n",
        "    print('\\n')"
      ],
      "metadata": {
        "id": "tD3NyN8z2uRP"
      },
      "execution_count": 19,
      "outputs": []
    },
    {
      "cell_type": "code",
      "source": [
        "val_manq(df_billets)"
      ],
      "metadata": {
        "colab": {
          "base_uri": "https://localhost:8080/"
        },
        "id": "So64ec4-2zu8",
        "outputId": "66db8216-d246-4ac7-e257-319eb7650b8e"
      },
      "execution_count": 20,
      "outputs": [
        {
          "output_type": "stream",
          "name": "stdout",
          "text": [
            "Nombre de valeurs manquantes = 37\n",
            "Nombre de cellulles totales = 10500\n",
            "Pourcentage de valeurs manquantes =  0.35 %\n",
            "\n",
            "\n",
            "\n",
            "\n",
            "Pourcentage de valeurs manquantes par variable/colonne =\n",
            " nature           0\n",
            "diagonal         0\n",
            "height_left      0\n",
            "height_right     0\n",
            "margin_up        0\n",
            "length           0\n",
            "margin_low      37\n",
            "dtype: int64\n",
            "\n",
            "\n"
          ]
        }
      ]
    },
    {
      "cell_type": "markdown",
      "source": [
        "# **<font color='indianred'>Partie 5 : Régression Linéaire Multiple</font>**"
      ],
      "metadata": {
        "id": "7oDPuRyzSbw9"
      }
    },
    {
      "cell_type": "markdown",
      "source": [
        "## <a name=\"C23\"><font color='LightSeaGreen'>Création de 2 dataframes : Vrais et Faux billets</font></a>"
      ],
      "metadata": {
        "id": "2BWRzjGb0SPa"
      }
    },
    {
      "cell_type": "code",
      "source": [
        "variables=['diagonal','height_left','height_right','margin_low','margin_up','length']"
      ],
      "metadata": {
        "id": "DH0MVs9ZZjOb"
      },
      "execution_count": 21,
      "outputs": []
    },
    {
      "cell_type": "code",
      "source": [
        "sum(df_billets[df_billets.isnull().any(axis=1)]['nature']==0)"
      ],
      "metadata": {
        "id": "NSuJPHKIAPe_",
        "outputId": "c81bf788-4306-4d5a-e222-8d3460197613",
        "colab": {
          "base_uri": "https://localhost:8080/"
        }
      },
      "execution_count": 22,
      "outputs": [
        {
          "output_type": "execute_result",
          "data": {
            "text/plain": [
              "29"
            ]
          },
          "metadata": {},
          "execution_count": 22
        }
      ]
    },
    {
      "cell_type": "code",
      "source": [
        "sum(df_billets[df_billets.isnull().any(axis=1)]['nature']==1)"
      ],
      "metadata": {
        "id": "Q3fCeu0AA-Xv",
        "outputId": "76df0e85-9ce8-4a64-a2f4-9f4f1b1de327",
        "colab": {
          "base_uri": "https://localhost:8080/"
        }
      },
      "execution_count": 23,
      "outputs": [
        {
          "output_type": "execute_result",
          "data": {
            "text/plain": [
              "8"
            ]
          },
          "metadata": {},
          "execution_count": 23
        }
      ]
    },
    {
      "cell_type": "markdown",
      "source": [
        "Il y a 8 valeurs manquantes parmi les faux billets et 29 valeurs manquantes parmi les vrais billets."
      ],
      "metadata": {
        "id": "-DFUuCNXR0HG"
      }
    },
    {
      "cell_type": "code",
      "source": [
        "#Récupération des lignes sans valeurs manquantes\n",
        "df_billets_train=df_billets[df_billets['margin_low'].isnull()==False]\n",
        "#avec valeurs manquantes\n",
        "df_billets_test=df_billets[df_billets['margin_low'].isnull()==True]\n",
        "df_billets_train"
      ],
      "metadata": {
        "id": "DMim1xKcLlFG",
        "outputId": "b7e1c7cf-faf4-46b4-b935-7d59d79c9ddb",
        "colab": {
          "base_uri": "https://localhost:8080/",
          "height": 455
        }
      },
      "execution_count": 46,
      "outputs": [
        {
          "output_type": "execute_result",
          "data": {
            "text/plain": [
              "             nature  diagonal  height_left  height_right  margin_low  \\\n",
              "code_billet                                                            \n",
              "b0                0    171.81       104.86        104.95        4.52   \n",
              "b1                0    171.46       103.36        103.66        3.77   \n",
              "b2                0    172.69       104.48        103.50        4.40   \n",
              "b3                0    171.36       103.91        103.94        3.62   \n",
              "b4                0    171.73       104.28        103.46        4.04   \n",
              "...             ...       ...          ...           ...         ...   \n",
              "b1495             1    171.75       104.38        104.17        4.42   \n",
              "b1496             1    172.19       104.63        104.44        5.27   \n",
              "b1497             1    171.80       104.01        104.12        5.51   \n",
              "b1498             1    172.06       104.28        104.06        5.17   \n",
              "b1499             1    171.47       104.15        103.82        4.63   \n",
              "\n",
              "             margin_up  length  \n",
              "code_billet                     \n",
              "b0                2.89  112.83  \n",
              "b1                2.99  113.09  \n",
              "b2                2.94  113.16  \n",
              "b3                3.01  113.51  \n",
              "b4                3.48  112.54  \n",
              "...                ...     ...  \n",
              "b1495             3.09  111.28  \n",
              "b1496             3.37  110.97  \n",
              "b1497             3.36  111.95  \n",
              "b1498             3.46  112.25  \n",
              "b1499             3.37  112.07  \n",
              "\n",
              "[1463 rows x 7 columns]"
            ],
            "text/html": [
              "\n",
              "  <div id=\"df-e60e9fc5-a7b8-456c-b3fb-61d52890f74d\">\n",
              "    <div class=\"colab-df-container\">\n",
              "      <div>\n",
              "<style scoped>\n",
              "    .dataframe tbody tr th:only-of-type {\n",
              "        vertical-align: middle;\n",
              "    }\n",
              "\n",
              "    .dataframe tbody tr th {\n",
              "        vertical-align: top;\n",
              "    }\n",
              "\n",
              "    .dataframe thead th {\n",
              "        text-align: right;\n",
              "    }\n",
              "</style>\n",
              "<table border=\"1\" class=\"dataframe\">\n",
              "  <thead>\n",
              "    <tr style=\"text-align: right;\">\n",
              "      <th></th>\n",
              "      <th>nature</th>\n",
              "      <th>diagonal</th>\n",
              "      <th>height_left</th>\n",
              "      <th>height_right</th>\n",
              "      <th>margin_low</th>\n",
              "      <th>margin_up</th>\n",
              "      <th>length</th>\n",
              "    </tr>\n",
              "    <tr>\n",
              "      <th>code_billet</th>\n",
              "      <th></th>\n",
              "      <th></th>\n",
              "      <th></th>\n",
              "      <th></th>\n",
              "      <th></th>\n",
              "      <th></th>\n",
              "      <th></th>\n",
              "    </tr>\n",
              "  </thead>\n",
              "  <tbody>\n",
              "    <tr>\n",
              "      <th>b0</th>\n",
              "      <td>0</td>\n",
              "      <td>171.81</td>\n",
              "      <td>104.86</td>\n",
              "      <td>104.95</td>\n",
              "      <td>4.52</td>\n",
              "      <td>2.89</td>\n",
              "      <td>112.83</td>\n",
              "    </tr>\n",
              "    <tr>\n",
              "      <th>b1</th>\n",
              "      <td>0</td>\n",
              "      <td>171.46</td>\n",
              "      <td>103.36</td>\n",
              "      <td>103.66</td>\n",
              "      <td>3.77</td>\n",
              "      <td>2.99</td>\n",
              "      <td>113.09</td>\n",
              "    </tr>\n",
              "    <tr>\n",
              "      <th>b2</th>\n",
              "      <td>0</td>\n",
              "      <td>172.69</td>\n",
              "      <td>104.48</td>\n",
              "      <td>103.50</td>\n",
              "      <td>4.40</td>\n",
              "      <td>2.94</td>\n",
              "      <td>113.16</td>\n",
              "    </tr>\n",
              "    <tr>\n",
              "      <th>b3</th>\n",
              "      <td>0</td>\n",
              "      <td>171.36</td>\n",
              "      <td>103.91</td>\n",
              "      <td>103.94</td>\n",
              "      <td>3.62</td>\n",
              "      <td>3.01</td>\n",
              "      <td>113.51</td>\n",
              "    </tr>\n",
              "    <tr>\n",
              "      <th>b4</th>\n",
              "      <td>0</td>\n",
              "      <td>171.73</td>\n",
              "      <td>104.28</td>\n",
              "      <td>103.46</td>\n",
              "      <td>4.04</td>\n",
              "      <td>3.48</td>\n",
              "      <td>112.54</td>\n",
              "    </tr>\n",
              "    <tr>\n",
              "      <th>...</th>\n",
              "      <td>...</td>\n",
              "      <td>...</td>\n",
              "      <td>...</td>\n",
              "      <td>...</td>\n",
              "      <td>...</td>\n",
              "      <td>...</td>\n",
              "      <td>...</td>\n",
              "    </tr>\n",
              "    <tr>\n",
              "      <th>b1495</th>\n",
              "      <td>1</td>\n",
              "      <td>171.75</td>\n",
              "      <td>104.38</td>\n",
              "      <td>104.17</td>\n",
              "      <td>4.42</td>\n",
              "      <td>3.09</td>\n",
              "      <td>111.28</td>\n",
              "    </tr>\n",
              "    <tr>\n",
              "      <th>b1496</th>\n",
              "      <td>1</td>\n",
              "      <td>172.19</td>\n",
              "      <td>104.63</td>\n",
              "      <td>104.44</td>\n",
              "      <td>5.27</td>\n",
              "      <td>3.37</td>\n",
              "      <td>110.97</td>\n",
              "    </tr>\n",
              "    <tr>\n",
              "      <th>b1497</th>\n",
              "      <td>1</td>\n",
              "      <td>171.80</td>\n",
              "      <td>104.01</td>\n",
              "      <td>104.12</td>\n",
              "      <td>5.51</td>\n",
              "      <td>3.36</td>\n",
              "      <td>111.95</td>\n",
              "    </tr>\n",
              "    <tr>\n",
              "      <th>b1498</th>\n",
              "      <td>1</td>\n",
              "      <td>172.06</td>\n",
              "      <td>104.28</td>\n",
              "      <td>104.06</td>\n",
              "      <td>5.17</td>\n",
              "      <td>3.46</td>\n",
              "      <td>112.25</td>\n",
              "    </tr>\n",
              "    <tr>\n",
              "      <th>b1499</th>\n",
              "      <td>1</td>\n",
              "      <td>171.47</td>\n",
              "      <td>104.15</td>\n",
              "      <td>103.82</td>\n",
              "      <td>4.63</td>\n",
              "      <td>3.37</td>\n",
              "      <td>112.07</td>\n",
              "    </tr>\n",
              "  </tbody>\n",
              "</table>\n",
              "<p>1463 rows × 7 columns</p>\n",
              "</div>\n",
              "      <button class=\"colab-df-convert\" onclick=\"convertToInteractive('df-e60e9fc5-a7b8-456c-b3fb-61d52890f74d')\"\n",
              "              title=\"Convert this dataframe to an interactive table.\"\n",
              "              style=\"display:none;\">\n",
              "        \n",
              "  <svg xmlns=\"http://www.w3.org/2000/svg\" height=\"24px\"viewBox=\"0 0 24 24\"\n",
              "       width=\"24px\">\n",
              "    <path d=\"M0 0h24v24H0V0z\" fill=\"none\"/>\n",
              "    <path d=\"M18.56 5.44l.94 2.06.94-2.06 2.06-.94-2.06-.94-.94-2.06-.94 2.06-2.06.94zm-11 1L8.5 8.5l.94-2.06 2.06-.94-2.06-.94L8.5 2.5l-.94 2.06-2.06.94zm10 10l.94 2.06.94-2.06 2.06-.94-2.06-.94-.94-2.06-.94 2.06-2.06.94z\"/><path d=\"M17.41 7.96l-1.37-1.37c-.4-.4-.92-.59-1.43-.59-.52 0-1.04.2-1.43.59L10.3 9.45l-7.72 7.72c-.78.78-.78 2.05 0 2.83L4 21.41c.39.39.9.59 1.41.59.51 0 1.02-.2 1.41-.59l7.78-7.78 2.81-2.81c.8-.78.8-2.07 0-2.86zM5.41 20L4 18.59l7.72-7.72 1.47 1.35L5.41 20z\"/>\n",
              "  </svg>\n",
              "      </button>\n",
              "      \n",
              "  <style>\n",
              "    .colab-df-container {\n",
              "      display:flex;\n",
              "      flex-wrap:wrap;\n",
              "      gap: 12px;\n",
              "    }\n",
              "\n",
              "    .colab-df-convert {\n",
              "      background-color: #E8F0FE;\n",
              "      border: none;\n",
              "      border-radius: 50%;\n",
              "      cursor: pointer;\n",
              "      display: none;\n",
              "      fill: #1967D2;\n",
              "      height: 32px;\n",
              "      padding: 0 0 0 0;\n",
              "      width: 32px;\n",
              "    }\n",
              "\n",
              "    .colab-df-convert:hover {\n",
              "      background-color: #E2EBFA;\n",
              "      box-shadow: 0px 1px 2px rgba(60, 64, 67, 0.3), 0px 1px 3px 1px rgba(60, 64, 67, 0.15);\n",
              "      fill: #174EA6;\n",
              "    }\n",
              "\n",
              "    [theme=dark] .colab-df-convert {\n",
              "      background-color: #3B4455;\n",
              "      fill: #D2E3FC;\n",
              "    }\n",
              "\n",
              "    [theme=dark] .colab-df-convert:hover {\n",
              "      background-color: #434B5C;\n",
              "      box-shadow: 0px 1px 3px 1px rgba(0, 0, 0, 0.15);\n",
              "      filter: drop-shadow(0px 1px 2px rgba(0, 0, 0, 0.3));\n",
              "      fill: #FFFFFF;\n",
              "    }\n",
              "  </style>\n",
              "\n",
              "      <script>\n",
              "        const buttonEl =\n",
              "          document.querySelector('#df-e60e9fc5-a7b8-456c-b3fb-61d52890f74d button.colab-df-convert');\n",
              "        buttonEl.style.display =\n",
              "          google.colab.kernel.accessAllowed ? 'block' : 'none';\n",
              "\n",
              "        async function convertToInteractive(key) {\n",
              "          const element = document.querySelector('#df-e60e9fc5-a7b8-456c-b3fb-61d52890f74d');\n",
              "          const dataTable =\n",
              "            await google.colab.kernel.invokeFunction('convertToInteractive',\n",
              "                                                     [key], {});\n",
              "          if (!dataTable) return;\n",
              "\n",
              "          const docLinkHtml = 'Like what you see? Visit the ' +\n",
              "            '<a target=\"_blank\" href=https://colab.research.google.com/notebooks/data_table.ipynb>data table notebook</a>'\n",
              "            + ' to learn more about interactive tables.';\n",
              "          element.innerHTML = '';\n",
              "          dataTable['output_type'] = 'display_data';\n",
              "          await google.colab.output.renderOutput(dataTable, element);\n",
              "          const docLink = document.createElement('div');\n",
              "          docLink.innerHTML = docLinkHtml;\n",
              "          element.appendChild(docLink);\n",
              "        }\n",
              "      </script>\n",
              "    </div>\n",
              "  </div>\n",
              "  "
            ]
          },
          "metadata": {},
          "execution_count": 46
        }
      ]
    },
    {
      "cell_type": "code",
      "source": [
        "#Création de X_train et y_train\n",
        "X_train = df_billets_train.drop(\"margin_low\", axis=1)\n",
        "y_train = df_billets_train[\"margin_low\"]"
      ],
      "metadata": {
        "id": "jRo3d-S0T_HG"
      },
      "execution_count": 25,
      "outputs": []
    },
    {
      "cell_type": "markdown",
      "source": [
        "## <a name=\"C23\"><font color='LightSeaGreen'>Régression Linéaire Multiple</font></a>"
      ],
      "metadata": {
        "id": "8X_dEyHRcoac"
      }
    },
    {
      "cell_type": "code",
      "source": [
        "#Création du modèle de Régression Linéaire\n",
        "from sklearn.linear_model import LinearRegression\n",
        "reg_lin_multi = LinearRegression()\n",
        "reg_lin_multi_model = reg_lin_multi.fit(X_train, y_train)\n",
        "\n",
        "#Prédictions\n",
        "X_train = df_billets_train[[\"nature\",\"diagonal\",\"height_left\",\"height_right\", \"margin_up\", \"length\"]]\n",
        "df_billets_train[\"pred_train\"] = reg_lin_multi.predict(X_train)"
      ],
      "metadata": {
        "id": "dF9bhfI8bIzv",
        "outputId": "f29e400a-786a-4770-ea73-7f777c149719",
        "colab": {
          "base_uri": "https://localhost:8080/"
        }
      },
      "execution_count": 26,
      "outputs": [
        {
          "output_type": "stream",
          "name": "stderr",
          "text": [
            "/usr/local/lib/python3.7/dist-packages/ipykernel_launcher.py:8: SettingWithCopyWarning: \n",
            "A value is trying to be set on a copy of a slice from a DataFrame.\n",
            "Try using .loc[row_indexer,col_indexer] = value instead\n",
            "\n",
            "See the caveats in the documentation: https://pandas.pydata.org/pandas-docs/stable/user_guide/indexing.html#returning-a-view-versus-a-copy\n",
            "  \n"
          ]
        }
      ]
    },
    {
      "cell_type": "code",
      "source": [
        "print(\"Constante :\", reg_lin_multi_model.intercept_)\n",
        "print(\"Coefficients du modèle :\", reg_lin_multi_model.coef_)"
      ],
      "metadata": {
        "id": "MRnq_NIkb6oM",
        "outputId": "2d21e25e-1739-4837-b193-4bd3b0cdec8a",
        "colab": {
          "base_uri": "https://localhost:8080/"
        }
      },
      "execution_count": 27,
      "outputs": [
        {
          "output_type": "stream",
          "name": "stdout",
          "text": [
            "Constante : 1.726226134410131\n",
            "Coefficients du modèle : [ 1.14059676 -0.0130159   0.02829069  0.02674982 -0.21284432 -0.00388299]\n"
          ]
        }
      ]
    },
    {
      "cell_type": "code",
      "source": [
        "#Régression Linéaire Multiple sur le dataframe des df_billets\n",
        "resultats = smf.ols('margin_low~diagonal+height_left+height_right+margin_up+length', data=df_billets).fit()\n",
        "print(resultats.summary())"
      ],
      "metadata": {
        "id": "QGZrEdntOQY3",
        "outputId": "a891ea77-1af0-4064-f096-7cea22bcd367",
        "colab": {
          "base_uri": "https://localhost:8080/"
        }
      },
      "execution_count": 28,
      "outputs": [
        {
          "output_type": "stream",
          "name": "stdout",
          "text": [
            "                            OLS Regression Results                            \n",
            "==============================================================================\n",
            "Dep. Variable:             margin_low   R-squared:                       0.477\n",
            "Model:                            OLS   Adj. R-squared:                  0.476\n",
            "Method:                 Least Squares   F-statistic:                     266.1\n",
            "Date:                Fri, 02 Sep 2022   Prob (F-statistic):          2.60e-202\n",
            "Time:                        15:43:20   Log-Likelihood:                -1001.3\n",
            "No. Observations:                1463   AIC:                             2015.\n",
            "Df Residuals:                    1457   BIC:                             2046.\n",
            "Df Model:                           5                                         \n",
            "Covariance Type:            nonrobust                                         \n",
            "================================================================================\n",
            "                   coef    std err          t      P>|t|      [0.025      0.975]\n",
            "--------------------------------------------------------------------------------\n",
            "Intercept       22.9948      9.656      2.382      0.017       4.055      41.935\n",
            "diagonal        -0.1111      0.041     -2.680      0.007      -0.192      -0.030\n",
            "height_left      0.1841      0.045      4.113      0.000       0.096       0.272\n",
            "height_right     0.2571      0.043      5.978      0.000       0.173       0.342\n",
            "margin_up        0.2562      0.064      3.980      0.000       0.130       0.382\n",
            "length          -0.4091      0.018    -22.627      0.000      -0.445      -0.374\n",
            "==============================================================================\n",
            "Omnibus:                       73.627   Durbin-Watson:                   1.893\n",
            "Prob(Omnibus):                  0.000   Jarque-Bera (JB):               95.862\n",
            "Skew:                           0.482   Prob(JB):                     1.53e-21\n",
            "Kurtosis:                       3.801   Cond. No.                     1.94e+05\n",
            "==============================================================================\n",
            "\n",
            "Notes:\n",
            "[1] Standard Errors assume that the covariance matrix of the errors is correctly specified.\n",
            "[2] The condition number is large, 1.94e+05. This might indicate that there are\n",
            "strong multicollinearity or other numerical problems.\n"
          ]
        }
      ]
    },
    {
      "cell_type": "markdown",
      "source": [
        "R2 = 0.477 et R2 ajusté = 0.476\n",
        "\n",
        "Toutes les p-values des variables sont inférieures à 0.05 donc ce sont toutes des variables significatives qu'on va garder."
      ],
      "metadata": {
        "id": "-evPxNYDO6-e"
      }
    },
    {
      "cell_type": "code",
      "source": [
        "y_pred = resultats.predict(df_billets_test).round(2)  # Faire de prédiction sur le test\n",
        "Coef = resultats.params  # coefficients du modèle\n",
        "#y_pred\n"
      ],
      "metadata": {
        "id": "CJB_ETqWDY_X"
      },
      "execution_count": null,
      "outputs": []
    },
    {
      "cell_type": "markdown",
      "source": [
        "## <a name=\"C23\"><font color='LightSeaGreen'>Hypothèses</font></a>"
      ],
      "metadata": {
        "id": "dPTQ7m__d27X"
      }
    },
    {
      "cell_type": "code",
      "source": [
        "#Moyenne des residus \n",
        "resultats.resid.mean()"
      ],
      "metadata": {
        "id": "cUyh674eFVD1",
        "outputId": "84b0732a-47d4-4313-eea2-cfa779af9b62",
        "colab": {
          "base_uri": "https://localhost:8080/"
        }
      },
      "execution_count": 30,
      "outputs": [
        {
          "output_type": "execute_result",
          "data": {
            "text/plain": [
              "2.449016913923654e-13"
            ]
          },
          "metadata": {},
          "execution_count": 30
        }
      ]
    },
    {
      "cell_type": "markdown",
      "source": [
        "On a une moyenne de résidus pratiquement nulle."
      ],
      "metadata": {
        "id": "HeQ4KTsYH-zx"
      }
    },
    {
      "cell_type": "markdown",
      "source": [
        "###<font color='purple'>Vérification de l'hypothèse de Multicollinéarité</font> "
      ],
      "metadata": {
        "id": "nI3GYKXZIZwN"
      }
    },
    {
      "cell_type": "code",
      "source": [
        "resultats.model.exog"
      ],
      "metadata": {
        "id": "4wmmrFrEJmYV",
        "outputId": "67835785-6cdb-4939-d232-462412d411c1",
        "colab": {
          "base_uri": "https://localhost:8080/"
        }
      },
      "execution_count": 31,
      "outputs": [
        {
          "output_type": "execute_result",
          "data": {
            "text/plain": [
              "array([[  1.  , 171.81, 104.86, 104.95,   2.89, 112.83],\n",
              "       [  1.  , 171.46, 103.36, 103.66,   2.99, 113.09],\n",
              "       [  1.  , 172.69, 104.48, 103.5 ,   2.94, 113.16],\n",
              "       ...,\n",
              "       [  1.  , 171.8 , 104.01, 104.12,   3.36, 111.95],\n",
              "       [  1.  , 172.06, 104.28, 104.06,   3.46, 112.25],\n",
              "       [  1.  , 171.47, 104.15, 103.82,   3.37, 112.07]])"
            ]
          },
          "metadata": {},
          "execution_count": 31
        }
      ]
    },
    {
      "cell_type": "code",
      "source": [
        "#Vérification de la colinéarité des variables\n",
        "var = resultats.model.exog\n",
        "\n",
        "from statsmodels.stats.outliers_influence import variance_inflation_factor\n",
        "[variance_inflation_factor(var, i) for i in np.arange(1,var.shape[1])]"
      ],
      "metadata": {
        "id": "qd2CMGaOIln-",
        "outputId": "e5169aab-0ac0-49a5-c990-69b9108efd98",
        "colab": {
          "base_uri": "https://localhost:8080/"
        }
      },
      "execution_count": 32,
      "outputs": [
        {
          "output_type": "execute_result",
          "data": {
            "text/plain": [
              "[1.0136128990686286,\n",
              " 1.1382605736082485,\n",
              " 1.230114515556037,\n",
              " 1.4044037781843612,\n",
              " 1.5769501453665828]"
            ]
          },
          "metadata": {},
          "execution_count": 32
        }
      ]
    },
    {
      "cell_type": "code",
      "source": [
        "#x_regr=df_billets_train.loc[:,['nature','margin_up']]\n",
        "#y_test=df_billets_train['margin_low']"
      ],
      "metadata": {
        "id": "iH6mUHf2PWgu"
      },
      "execution_count": 33,
      "outputs": []
    },
    {
      "cell_type": "code",
      "source": [
        "pred_train = resultats.predict(df_billets_train).round(2)  # Faire de prédiction sur le df des valeurs manquantes\n",
        "pred_train"
      ],
      "metadata": {
        "id": "XZHVuPhgTyPc",
        "outputId": "5dfa24e3-e172-4947-fe7d-e98e8acf6fca",
        "colab": {
          "base_uri": "https://localhost:8080/"
        }
      },
      "execution_count": 35,
      "outputs": [
        {
          "output_type": "execute_result",
          "data": {
            "text/plain": [
              "code_billet\n",
              "b0       4.79\n",
              "b1       4.14\n",
              "b2       4.13\n",
              "b3       4.16\n",
              "b4       4.58\n",
              "         ... \n",
              "b1495    5.19\n",
              "b1496    5.46\n",
              "b1497    4.90\n",
              "b1498    4.81\n",
              "b1499    4.84\n",
              "Length: 1463, dtype: float64"
            ]
          },
          "metadata": {},
          "execution_count": 35
        }
      ]
    },
    {
      "cell_type": "code",
      "source": [
        "#df_pred=pd.DataFrame({\"margin_low\": df_billets_train['margin_low']})\n",
        "df_billets_train['margin_low_pred'] = pred_train\n",
        "df_billets_train['residuals'] = df_billets_train['margin_low'] - df_billets_train['margin_low_pred']\n",
        "df_billets_train"
      ],
      "metadata": {
        "id": "7DroQgpi4e4X",
        "outputId": "c661ddf0-113c-41b2-c125-1cedec42d1ba",
        "colab": {
          "base_uri": "https://localhost:8080/",
          "height": 669
        }
      },
      "execution_count": 85,
      "outputs": [
        {
          "output_type": "stream",
          "name": "stderr",
          "text": [
            "/usr/local/lib/python3.7/dist-packages/ipykernel_launcher.py:2: SettingWithCopyWarning: \n",
            "A value is trying to be set on a copy of a slice from a DataFrame.\n",
            "Try using .loc[row_indexer,col_indexer] = value instead\n",
            "\n",
            "See the caveats in the documentation: https://pandas.pydata.org/pandas-docs/stable/user_guide/indexing.html#returning-a-view-versus-a-copy\n",
            "  \n",
            "/usr/local/lib/python3.7/dist-packages/ipykernel_launcher.py:3: SettingWithCopyWarning: \n",
            "A value is trying to be set on a copy of a slice from a DataFrame.\n",
            "Try using .loc[row_indexer,col_indexer] = value instead\n",
            "\n",
            "See the caveats in the documentation: https://pandas.pydata.org/pandas-docs/stable/user_guide/indexing.html#returning-a-view-versus-a-copy\n",
            "  This is separate from the ipykernel package so we can avoid doing imports until\n"
          ]
        },
        {
          "output_type": "execute_result",
          "data": {
            "text/plain": [
              "             nature  diagonal  height_left  height_right  margin_low  \\\n",
              "code_billet                                                            \n",
              "b0                0    171.81       104.86        104.95        4.52   \n",
              "b1                0    171.46       103.36        103.66        3.77   \n",
              "b2                0    172.69       104.48        103.50        4.40   \n",
              "b3                0    171.36       103.91        103.94        3.62   \n",
              "b4                0    171.73       104.28        103.46        4.04   \n",
              "...             ...       ...          ...           ...         ...   \n",
              "b1495             1    171.75       104.38        104.17        4.42   \n",
              "b1496             1    172.19       104.63        104.44        5.27   \n",
              "b1497             1    171.80       104.01        104.12        5.51   \n",
              "b1498             1    172.06       104.28        104.06        5.17   \n",
              "b1499             1    171.47       104.15        103.82        4.63   \n",
              "\n",
              "             margin_up  length  margin_low_pred  residuals  \n",
              "code_billet                                                 \n",
              "b0                2.89  112.83             4.79      -0.27  \n",
              "b1                2.99  113.09             4.14      -0.37  \n",
              "b2                2.94  113.16             4.13       0.27  \n",
              "b3                3.01  113.51             4.16      -0.54  \n",
              "b4                3.48  112.54             4.58      -0.54  \n",
              "...                ...     ...              ...        ...  \n",
              "b1495             3.09  111.28             5.19      -0.77  \n",
              "b1496             3.37  110.97             5.46      -0.19  \n",
              "b1497             3.36  111.95             4.90       0.61  \n",
              "b1498             3.46  112.25             4.81       0.36  \n",
              "b1499             3.37  112.07             4.84      -0.21  \n",
              "\n",
              "[1463 rows x 9 columns]"
            ],
            "text/html": [
              "\n",
              "  <div id=\"df-3abbf5c6-4e50-4664-9f59-1acf8219fea5\">\n",
              "    <div class=\"colab-df-container\">\n",
              "      <div>\n",
              "<style scoped>\n",
              "    .dataframe tbody tr th:only-of-type {\n",
              "        vertical-align: middle;\n",
              "    }\n",
              "\n",
              "    .dataframe tbody tr th {\n",
              "        vertical-align: top;\n",
              "    }\n",
              "\n",
              "    .dataframe thead th {\n",
              "        text-align: right;\n",
              "    }\n",
              "</style>\n",
              "<table border=\"1\" class=\"dataframe\">\n",
              "  <thead>\n",
              "    <tr style=\"text-align: right;\">\n",
              "      <th></th>\n",
              "      <th>nature</th>\n",
              "      <th>diagonal</th>\n",
              "      <th>height_left</th>\n",
              "      <th>height_right</th>\n",
              "      <th>margin_low</th>\n",
              "      <th>margin_up</th>\n",
              "      <th>length</th>\n",
              "      <th>margin_low_pred</th>\n",
              "      <th>residuals</th>\n",
              "    </tr>\n",
              "    <tr>\n",
              "      <th>code_billet</th>\n",
              "      <th></th>\n",
              "      <th></th>\n",
              "      <th></th>\n",
              "      <th></th>\n",
              "      <th></th>\n",
              "      <th></th>\n",
              "      <th></th>\n",
              "      <th></th>\n",
              "      <th></th>\n",
              "    </tr>\n",
              "  </thead>\n",
              "  <tbody>\n",
              "    <tr>\n",
              "      <th>b0</th>\n",
              "      <td>0</td>\n",
              "      <td>171.81</td>\n",
              "      <td>104.86</td>\n",
              "      <td>104.95</td>\n",
              "      <td>4.52</td>\n",
              "      <td>2.89</td>\n",
              "      <td>112.83</td>\n",
              "      <td>4.79</td>\n",
              "      <td>-0.27</td>\n",
              "    </tr>\n",
              "    <tr>\n",
              "      <th>b1</th>\n",
              "      <td>0</td>\n",
              "      <td>171.46</td>\n",
              "      <td>103.36</td>\n",
              "      <td>103.66</td>\n",
              "      <td>3.77</td>\n",
              "      <td>2.99</td>\n",
              "      <td>113.09</td>\n",
              "      <td>4.14</td>\n",
              "      <td>-0.37</td>\n",
              "    </tr>\n",
              "    <tr>\n",
              "      <th>b2</th>\n",
              "      <td>0</td>\n",
              "      <td>172.69</td>\n",
              "      <td>104.48</td>\n",
              "      <td>103.50</td>\n",
              "      <td>4.40</td>\n",
              "      <td>2.94</td>\n",
              "      <td>113.16</td>\n",
              "      <td>4.13</td>\n",
              "      <td>0.27</td>\n",
              "    </tr>\n",
              "    <tr>\n",
              "      <th>b3</th>\n",
              "      <td>0</td>\n",
              "      <td>171.36</td>\n",
              "      <td>103.91</td>\n",
              "      <td>103.94</td>\n",
              "      <td>3.62</td>\n",
              "      <td>3.01</td>\n",
              "      <td>113.51</td>\n",
              "      <td>4.16</td>\n",
              "      <td>-0.54</td>\n",
              "    </tr>\n",
              "    <tr>\n",
              "      <th>b4</th>\n",
              "      <td>0</td>\n",
              "      <td>171.73</td>\n",
              "      <td>104.28</td>\n",
              "      <td>103.46</td>\n",
              "      <td>4.04</td>\n",
              "      <td>3.48</td>\n",
              "      <td>112.54</td>\n",
              "      <td>4.58</td>\n",
              "      <td>-0.54</td>\n",
              "    </tr>\n",
              "    <tr>\n",
              "      <th>...</th>\n",
              "      <td>...</td>\n",
              "      <td>...</td>\n",
              "      <td>...</td>\n",
              "      <td>...</td>\n",
              "      <td>...</td>\n",
              "      <td>...</td>\n",
              "      <td>...</td>\n",
              "      <td>...</td>\n",
              "      <td>...</td>\n",
              "    </tr>\n",
              "    <tr>\n",
              "      <th>b1495</th>\n",
              "      <td>1</td>\n",
              "      <td>171.75</td>\n",
              "      <td>104.38</td>\n",
              "      <td>104.17</td>\n",
              "      <td>4.42</td>\n",
              "      <td>3.09</td>\n",
              "      <td>111.28</td>\n",
              "      <td>5.19</td>\n",
              "      <td>-0.77</td>\n",
              "    </tr>\n",
              "    <tr>\n",
              "      <th>b1496</th>\n",
              "      <td>1</td>\n",
              "      <td>172.19</td>\n",
              "      <td>104.63</td>\n",
              "      <td>104.44</td>\n",
              "      <td>5.27</td>\n",
              "      <td>3.37</td>\n",
              "      <td>110.97</td>\n",
              "      <td>5.46</td>\n",
              "      <td>-0.19</td>\n",
              "    </tr>\n",
              "    <tr>\n",
              "      <th>b1497</th>\n",
              "      <td>1</td>\n",
              "      <td>171.80</td>\n",
              "      <td>104.01</td>\n",
              "      <td>104.12</td>\n",
              "      <td>5.51</td>\n",
              "      <td>3.36</td>\n",
              "      <td>111.95</td>\n",
              "      <td>4.90</td>\n",
              "      <td>0.61</td>\n",
              "    </tr>\n",
              "    <tr>\n",
              "      <th>b1498</th>\n",
              "      <td>1</td>\n",
              "      <td>172.06</td>\n",
              "      <td>104.28</td>\n",
              "      <td>104.06</td>\n",
              "      <td>5.17</td>\n",
              "      <td>3.46</td>\n",
              "      <td>112.25</td>\n",
              "      <td>4.81</td>\n",
              "      <td>0.36</td>\n",
              "    </tr>\n",
              "    <tr>\n",
              "      <th>b1499</th>\n",
              "      <td>1</td>\n",
              "      <td>171.47</td>\n",
              "      <td>104.15</td>\n",
              "      <td>103.82</td>\n",
              "      <td>4.63</td>\n",
              "      <td>3.37</td>\n",
              "      <td>112.07</td>\n",
              "      <td>4.84</td>\n",
              "      <td>-0.21</td>\n",
              "    </tr>\n",
              "  </tbody>\n",
              "</table>\n",
              "<p>1463 rows × 9 columns</p>\n",
              "</div>\n",
              "      <button class=\"colab-df-convert\" onclick=\"convertToInteractive('df-3abbf5c6-4e50-4664-9f59-1acf8219fea5')\"\n",
              "              title=\"Convert this dataframe to an interactive table.\"\n",
              "              style=\"display:none;\">\n",
              "        \n",
              "  <svg xmlns=\"http://www.w3.org/2000/svg\" height=\"24px\"viewBox=\"0 0 24 24\"\n",
              "       width=\"24px\">\n",
              "    <path d=\"M0 0h24v24H0V0z\" fill=\"none\"/>\n",
              "    <path d=\"M18.56 5.44l.94 2.06.94-2.06 2.06-.94-2.06-.94-.94-2.06-.94 2.06-2.06.94zm-11 1L8.5 8.5l.94-2.06 2.06-.94-2.06-.94L8.5 2.5l-.94 2.06-2.06.94zm10 10l.94 2.06.94-2.06 2.06-.94-2.06-.94-.94-2.06-.94 2.06-2.06.94z\"/><path d=\"M17.41 7.96l-1.37-1.37c-.4-.4-.92-.59-1.43-.59-.52 0-1.04.2-1.43.59L10.3 9.45l-7.72 7.72c-.78.78-.78 2.05 0 2.83L4 21.41c.39.39.9.59 1.41.59.51 0 1.02-.2 1.41-.59l7.78-7.78 2.81-2.81c.8-.78.8-2.07 0-2.86zM5.41 20L4 18.59l7.72-7.72 1.47 1.35L5.41 20z\"/>\n",
              "  </svg>\n",
              "      </button>\n",
              "      \n",
              "  <style>\n",
              "    .colab-df-container {\n",
              "      display:flex;\n",
              "      flex-wrap:wrap;\n",
              "      gap: 12px;\n",
              "    }\n",
              "\n",
              "    .colab-df-convert {\n",
              "      background-color: #E8F0FE;\n",
              "      border: none;\n",
              "      border-radius: 50%;\n",
              "      cursor: pointer;\n",
              "      display: none;\n",
              "      fill: #1967D2;\n",
              "      height: 32px;\n",
              "      padding: 0 0 0 0;\n",
              "      width: 32px;\n",
              "    }\n",
              "\n",
              "    .colab-df-convert:hover {\n",
              "      background-color: #E2EBFA;\n",
              "      box-shadow: 0px 1px 2px rgba(60, 64, 67, 0.3), 0px 1px 3px 1px rgba(60, 64, 67, 0.15);\n",
              "      fill: #174EA6;\n",
              "    }\n",
              "\n",
              "    [theme=dark] .colab-df-convert {\n",
              "      background-color: #3B4455;\n",
              "      fill: #D2E3FC;\n",
              "    }\n",
              "\n",
              "    [theme=dark] .colab-df-convert:hover {\n",
              "      background-color: #434B5C;\n",
              "      box-shadow: 0px 1px 3px 1px rgba(0, 0, 0, 0.15);\n",
              "      filter: drop-shadow(0px 1px 2px rgba(0, 0, 0, 0.3));\n",
              "      fill: #FFFFFF;\n",
              "    }\n",
              "  </style>\n",
              "\n",
              "      <script>\n",
              "        const buttonEl =\n",
              "          document.querySelector('#df-3abbf5c6-4e50-4664-9f59-1acf8219fea5 button.colab-df-convert');\n",
              "        buttonEl.style.display =\n",
              "          google.colab.kernel.accessAllowed ? 'block' : 'none';\n",
              "\n",
              "        async function convertToInteractive(key) {\n",
              "          const element = document.querySelector('#df-3abbf5c6-4e50-4664-9f59-1acf8219fea5');\n",
              "          const dataTable =\n",
              "            await google.colab.kernel.invokeFunction('convertToInteractive',\n",
              "                                                     [key], {});\n",
              "          if (!dataTable) return;\n",
              "\n",
              "          const docLinkHtml = 'Like what you see? Visit the ' +\n",
              "            '<a target=\"_blank\" href=https://colab.research.google.com/notebooks/data_table.ipynb>data table notebook</a>'\n",
              "            + ' to learn more about interactive tables.';\n",
              "          element.innerHTML = '';\n",
              "          dataTable['output_type'] = 'display_data';\n",
              "          await google.colab.output.renderOutput(dataTable, element);\n",
              "          const docLink = document.createElement('div');\n",
              "          docLink.innerHTML = docLinkHtml;\n",
              "          element.appendChild(docLink);\n",
              "        }\n",
              "      </script>\n",
              "    </div>\n",
              "  </div>\n",
              "  "
            ]
          },
          "metadata": {},
          "execution_count": 85
        }
      ]
    },
    {
      "cell_type": "markdown",
      "source": [
        "###<font color='purple'>Vérification de l'hypothèse de Linéarité</font> "
      ],
      "metadata": {
        "id": "yf5rBC3sFYjx"
      }
    },
    {
      "cell_type": "code",
      "source": [
        "def linear_assumption(df):\n",
        "   \n",
        "    print(\"Hypothèse 1 : Relation linéaire entre la cible et l'entité\", '\\n')\n",
        "    print(\"Vérification avec un nuage de points de la valeur réelle par rapport à la prévision.',« Les prédictions doivent suivre la ligne diagonale. »\")\n",
        "    \n",
        "    #Plotting the actual vs predicted values\n",
        "    sns.lmplot(x='margin_low', y='margin_low_pred', data=df, fit_reg=False, size=7)\n",
        "        \n",
        "    #Plotting the diagonal line\n",
        "    line_coords = np.arange(df.min().min(), df.max().max())\n",
        "    plt.plot(line_coords, line_coords,  # X and y points\n",
        "             color='darkorange', linestyle='--')\n",
        "    plt.title('Actual vs. Predicted')\n",
        "    plt.show()"
      ],
      "metadata": {
        "id": "mabFRs2Y8UZK"
      },
      "execution_count": 57,
      "outputs": []
    },
    {
      "cell_type": "code",
      "source": [
        "linear_assumption(df_billets_train[['margin_low', 'margin_low_pred']])"
      ],
      "metadata": {
        "id": "SKnXcYph8ZYb",
        "outputId": "3c9c612f-3464-4dbc-bf66-efbc7339e39b",
        "colab": {
          "base_uri": "https://localhost:8080/",
          "height": 638
        }
      },
      "execution_count": 90,
      "outputs": [
        {
          "output_type": "stream",
          "name": "stdout",
          "text": [
            "Hypothèse 1 : Relation linéaire entre la cible et l'entité \n",
            "\n",
            "Vérification avec un nuage de points de la valeur réelle par rapport à la prévision.',« Les prédictions doivent suivre la ligne diagonale. »\n"
          ]
        },
        {
          "output_type": "stream",
          "name": "stderr",
          "text": [
            "/usr/local/lib/python3.7/dist-packages/seaborn/regression.py:581: UserWarning: The `size` parameter has been renamed to `height`; please update your code.\n",
            "  warnings.warn(msg, UserWarning)\n"
          ]
        },
        {
          "output_type": "display_data",
          "data": {
            "text/plain": [
              "<Figure size 504x504 with 1 Axes>"
            ],
            "image/png": "[encoded data removed]"
          },
          "metadata": {
            "needs_background": "light"
          }
        }
      ]
    },
    {
      "cell_type": "markdown",
      "source": [
        "###<font color='purple'>Vérification de l'hypothèse de Normalité des résidus</font> "
      ],
      "metadata": {
        "id": "wQNsRKVjFjJX"
      }
    },
    {
      "cell_type": "code",
      "source": [
        "#Test de la normalité des résidus\n",
        "print(\"Test de Shapiro : \", shapiro(df_billets_train['residuals']))\n",
        "print(\"\\n\")\n",
        "\n",
        "# Graphique\n",
        "sns.histplot(df_billets_train[\"residuals\"], kde=True)\n",
        "plt.xlabel(\"Résidus\")\n",
        "plt.ylabel(\"Compte\")\n",
        "plt.title(\"Distribution des résidus\")\n",
        "plt.show()"
      ],
      "metadata": {
        "id": "Fz7-CF29-Ktf",
        "outputId": "eba660d4-de5e-40ca-abda-0e6fea3cf4c6",
        "colab": {
          "base_uri": "https://localhost:8080/",
          "height": 349
        }
      },
      "execution_count": 87,
      "outputs": [
        {
          "output_type": "stream",
          "name": "stdout",
          "text": [
            "Test de Shapiro :  ShapiroResult(statistic=0.9856875538825989, pvalue=7.603635776565199e-11)\n",
            "\n",
            "\n"
          ]
        },
        {
          "output_type": "display_data",
          "data": {
            "text/plain": [
              "<Figure size 432x288 with 1 Axes>"
            ],
            "image/png": "[encoded data removed]"
          },
          "metadata": {
            "needs_background": "light"
          }
        }
      ]
    },
    {
      "cell_type": "markdown",
      "source": [
        "Nous avons une p-value < 0.05 avec le test de Shapiro qui indique la normalité des données qu'on lui donne. Dans ce cas, nous pouvons le vérifier graphiquement : les résidus suivent une loi Normale."
      ],
      "metadata": {
        "id": "C5UtgBnHB_iN"
      }
    },
    {
      "cell_type": "markdown",
      "source": [
        "###<font color='purple'>Vérification de l'hypothèse de l'Homoscédasticité</font> "
      ],
      "metadata": {
        "id": "vdSgkv3FFtnr"
      }
    },
    {
      "cell_type": "code",
      "source": [
        "def homoscedasticity_assumption(df):\n",
        "  \n",
        "    print(\"Hypothèse de l'Homoscédasticité\", '\\n')\n",
        "    \n",
        "    print('Les résidus doivent avoir une variance relative constante')\n",
        "        \n",
        "    #Plotting the residuals\n",
        "    plt.subplots(figsize=(12, 6))\n",
        "    ax = plt.subplot(111)  # To remove spines\n",
        "    plt.scatter(x=df.index, y=df.residuals, alpha=0.5)\n",
        "    plt.plot(np.repeat(0, len(df.index)), color='darkorange', linestyle='--')\n",
        "    ax.spines['right'].set_visible(False)  # Removing the right spine\n",
        "    ax.spines['top'].set_visible(False)  # Removing the top spine\n",
        "    plt.title('Les résidus')\n",
        "    plt.show() "
      ],
      "metadata": {
        "id": "DC8ydLxDGBWz"
      },
      "execution_count": 92,
      "outputs": []
    },
    {
      "cell_type": "code",
      "source": [
        "#Test de l'Homoscédasticité\n",
        "import statsmodels.formula.api as smf\n",
        "from statsmodels.compat import lzip\n",
        "import statsmodels.stats.api as sms\n",
        "\n",
        "#Breusch-Pagan test\n",
        "names = ['Lagrange multiplier statistic', 'p-value', 'f-value', 'f p-value']\n",
        " \n",
        "#Résultats du test\n",
        "test_result = sms.het_breuschpagan(resultats.resid, resultats.model.exog)\n",
        " \n",
        "lzip(names, test_result)"
      ],
      "metadata": {
        "id": "2ERz03qbGkHr",
        "outputId": "ab6c6f65-b477-4d19-f751-c19c1fab7181",
        "colab": {
          "base_uri": "https://localhost:8080/"
        }
      },
      "execution_count": 97,
      "outputs": [
        {
          "output_type": "execute_result",
          "data": {
            "text/plain": [
              "[('Lagrange multiplier statistic', 80.16261280172587),\n",
              " ('p-value', 7.759535216287205e-16),\n",
              " ('f-value', 16.892358846147992),\n",
              " ('f p-value', 2.92274965665814e-16)]"
            ]
          },
          "metadata": {},
          "execution_count": 97
        }
      ]
    },
    {
      "cell_type": "code",
      "source": [
        "homoscedasticity_assumption(df_billets_train)"
      ],
      "metadata": {
        "id": "rNHaI_ICUum9",
        "outputId": "5117d0b6-5363-4ba6-bd0e-91a3a034db6a",
        "colab": {
          "base_uri": "https://localhost:8080/",
          "height": 444
        }
      },
      "execution_count": 98,
      "outputs": [
        {
          "output_type": "stream",
          "name": "stdout",
          "text": [
            "Hypothèse de l'Homoscédasticité \n",
            "\n",
            "Les résidus doivent avoir une variance relative constante\n"
          ]
        },
        {
          "output_type": "display_data",
          "data": {
            "text/plain": [
              "<Figure size 864x432 with 1 Axes>"
            ],
            "image/png": "[encoded data removed]"
          },
          "metadata": {
            "needs_background": "light"
          }
        }
      ]
    },
    {
      "cell_type": "markdown",
      "source": [
        "## <a name=\"C23\"><font color='LightSeaGreen'>Remplacement des valeurs manquantes</font></a>"
      ],
      "metadata": {
        "id": "-6xDYouucwYr"
      }
    },
    {
      "cell_type": "code",
      "source": [
        "#df_billets['margin_low']=df_billets['margin_low'].fillna(pred)"
      ],
      "metadata": {
        "id": "gsFLkhvGU14l"
      },
      "execution_count": null,
      "outputs": []
    },
    {
      "cell_type": "code",
      "source": [
        "df_billets[df_billets.isnull().any(axis=1)]"
      ],
      "metadata": {
        "id": "8g2glUDwY9rH"
      },
      "execution_count": null,
      "outputs": []
    },
    {
      "cell_type": "markdown",
      "source": [
        " ## <a name=\"C23\"><font color='LightSeaGreen'>Evaluation de la regression linéaire</font></a>"
      ],
      "metadata": {
        "id": "n6ZnqMy4ef-o"
      }
    },
    {
      "cell_type": "code",
      "source": [
        "import sklearn.metrics as metrics\n",
        "from sklearn.metrics import mean_absolute_error\n",
        "from sklearn.metrics import mean_squared_error\n",
        "rmse=mean_squared_error(y_pred,y_test)**(1/2)\n",
        "#distribution des erreurs\n",
        "plt1.figure\n",
        "sns.histplot((y_test-y_pred))\n",
        "#MAE,MSE,RMSE\n",
        "print('MAE: ',mean_absolute_error(y_test,y_pred))\n",
        "print('MSE: ',mean_squared_error(y_test,y_pred))\n",
        "print('RMSE: ',rmse)\n",
        "\n",
        "#R au carré - coefficient de détermination\n",
        "from sklearn.metrics import r2_score\n",
        "print('R au carré: ',r2_score(y_pred,y_test))"
      ],
      "metadata": {
        "id": "xV7m18Zeee0a"
      },
      "execution_count": null,
      "outputs": []
    },
    {
      "cell_type": "markdown",
      "source": [
        "# **<font color='indianred'>Partie 3 : Analyse univariée des variables</font>**"
      ],
      "metadata": {
        "id": "G7kZlcHsWJZL"
      }
    },
    {
      "cell_type": "markdown",
      "source": [
        "## <a name=\"C11\"><font color='LightSeaGreen'>diagonal</font></a>"
      ],
      "metadata": {
        "id": "nPcT13UAWOiO"
      }
    },
    {
      "cell_type": "code",
      "source": [
        "#Représentation la variable diagonal sous forme de boxplot\n",
        "plt.figure(figsize=(12, 3))\n",
        "sns.set(style=\"darkgrid\")\n",
        "sns.boxplot(x=df_billets[\"diagonal\"], color=\"b\")\n",
        "plt.title('Distribution de la variable diagonal')\n",
        "plt.savefig(\"distribution_diagonal_boxplot.png\")\n",
        "plt.show"
      ],
      "metadata": {
        "id": "OaHnXC2ZPYuv"
      },
      "execution_count": null,
      "outputs": []
    },
    {
      "cell_type": "code",
      "source": [
        "#détecte les outliers et les filtre pour avoir un nouveau dataframe sans outliers\n",
        "def liste_outliers(df, colonne):\n",
        "  #1er quartile\n",
        "  q1 = df[colonne].quantile(0.25)\n",
        "  #3eme quartile\n",
        "  q3 = df[colonne].quantile(0.75)\n",
        "  #écart interquatile\n",
        "  iqr = q3 - q1\n",
        "  print('Ecart interquatile =', round(iqr,2))\n",
        "  seuil_min = q1 -(1.5 * iqr) \n",
        "  seuil_max = q3 +(1.5 * iqr)\n",
        "  print('Seuil minimum =', round(seuil_min,2))\n",
        "  print('Seuil maximum =', round(seuil_max,2))\n",
        "\n",
        "  #dataframe des outliers\n",
        "  dfo = df[(df[colonne] < seuil_min) | (df[colonne] > seuil_max)]\n",
        "  #liste des outliers\n",
        "  liste_out=(dfo[colonne].tolist())\n",
        "  print('Nombre doutliers:', len(liste_out))\n",
        "  print('Liste des outliers :', liste_out)\n",
        "  print('\\n')"
      ],
      "metadata": {
        "id": "T28HGbRZc2sg"
      },
      "execution_count": null,
      "outputs": []
    },
    {
      "cell_type": "code",
      "source": [
        "#affichage des outliers \n",
        "liste_outliers(df_billets, 'diagonal')"
      ],
      "metadata": {
        "id": "CkO9odDth_bO"
      },
      "execution_count": null,
      "outputs": []
    },
    {
      "cell_type": "code",
      "source": [
        "l=[171.04, 172.92, 172.89, 172.89, 171.04, 173.01, 171.05]\n",
        "df_billets[df_billets['diagonal'].isin (l)].sort_values('diagonal')"
      ],
      "metadata": {
        "id": "gOqD3vLcqYz2"
      },
      "execution_count": null,
      "outputs": []
    },
    {
      "cell_type": "code",
      "source": [
        "#df_outdiag=df_billets[df_billets['diagonal'].isin (l)]\n",
        "#df_outdiag[['nature', 'diagonal']].sort_values('diagonal')"
      ],
      "metadata": {
        "id": "otJiU8K4b5i9"
      },
      "execution_count": null,
      "outputs": []
    },
    {
      "cell_type": "markdown",
      "source": [
        "On trouve 7 outliers pour la variable diagonal dont 3 vrais billets et 4 faux billets."
      ],
      "metadata": {
        "id": "rUJDQqYqXOJN"
      }
    },
    {
      "cell_type": "markdown",
      "source": [
        "## <a name=\"C11\"><font color='LightSeaGreen'>height_left</font></a>"
      ],
      "metadata": {
        "id": "M7GNb4sCWrcP"
      }
    },
    {
      "cell_type": "code",
      "source": [
        "#Représentation la variable height_left sous forme de boxplot\n",
        "plt.figure(figsize=(12, 3))\n",
        "sns.set(style=\"darkgrid\")\n",
        "sns.boxplot(x=df_billets[\"height_left\"], color=\"purple\")\n",
        "plt.title('Distribution de la variable height_left')\n",
        "plt.savefig(\"distribution_height_left_boxplot.png\")\n",
        "plt.show"
      ],
      "metadata": {
        "id": "TpB-jSMCWgm1"
      },
      "execution_count": null,
      "outputs": []
    },
    {
      "cell_type": "code",
      "source": [
        "#affichage des outliers \n",
        "liste_outliers(df_billets, 'height_left')"
      ],
      "metadata": {
        "id": "pWn6qe_acRx-"
      },
      "execution_count": null,
      "outputs": []
    },
    {
      "cell_type": "code",
      "source": [
        "l=[104.86, 103.2, 103.14, 104.88, 104.86, 104.85]\n",
        "df_billets[df_billets['height_left'].isin (l)].sort_values('height_left')"
      ],
      "metadata": {
        "id": "b272WHKprKEs"
      },
      "execution_count": null,
      "outputs": []
    },
    {
      "cell_type": "markdown",
      "source": [
        "On trouve 6 outliers pour la variable height_left dont 3 vrais billets et 3 faux billets."
      ],
      "metadata": {
        "id": "skwlq6cwXS56"
      }
    },
    {
      "cell_type": "markdown",
      "source": [
        "## <a name=\"C11\"><font color='LightSeaGreen'>height_right</font></a>"
      ],
      "metadata": {
        "id": "Fa6l_uL3XaXG"
      }
    },
    {
      "cell_type": "code",
      "source": [
        "#Représentation la variable height_right sous forme de boxplot\n",
        "plt.figure(figsize=(12, 3))\n",
        "sns.set(style=\"darkgrid\")\n",
        "sns.boxplot(x=df_billets[\"height_right\"], color=\"pink\")\n",
        "plt.title('Distribution de la variable height_right')\n",
        "plt.savefig(\"distribution_height_right_boxplot.png\")\n",
        "plt.show"
      ],
      "metadata": {
        "id": "hd3tsff4XI4f"
      },
      "execution_count": null,
      "outputs": []
    },
    {
      "cell_type": "code",
      "source": [
        "#affichage des outliers \n",
        "liste_outliers(df_billets, 'height_right')"
      ],
      "metadata": {
        "id": "ttoyXnspcj1n"
      },
      "execution_count": null,
      "outputs": []
    },
    {
      "cell_type": "code",
      "source": [
        "l=[104.95, 103.03, 102.97, 102.95, 102.82, 102.91, 103.04, 104.87, 104.86, 104.83, 104.95]\n",
        "df_billets[df_billets['height_right'].isin (l)].sort_values('height_right')"
      ],
      "metadata": {
        "id": "g_ZjIq49rhpb"
      },
      "execution_count": null,
      "outputs": []
    },
    {
      "cell_type": "markdown",
      "source": [
        "Il y a 11 outliers pour la variable height_right dont 7 vrais billets et 4 faux billets."
      ],
      "metadata": {
        "id": "vJuexY9NXmJr"
      }
    },
    {
      "cell_type": "markdown",
      "source": [
        "## <a name=\"C11\"><font color='LightSeaGreen'>margin_low</font></a>"
      ],
      "metadata": {
        "id": "V_1BUm1zXtcN"
      }
    },
    {
      "cell_type": "code",
      "source": [
        "#Représentation la variable margin_low sous forme de boxplot\n",
        "plt.figure(figsize=(12, 3))\n",
        "sns.set(style=\"darkgrid\")\n",
        "sns.boxplot(x=df_billets[\"margin_low\"], color=\"orange\")\n",
        "plt.title('Distribution de la variable margin_low')\n",
        "plt.savefig(\"distribution_margin_low_boxplot.png\")\n",
        "plt.show"
      ],
      "metadata": {
        "id": "u6kEuWzxXh9V"
      },
      "execution_count": null,
      "outputs": []
    },
    {
      "cell_type": "code",
      "source": [
        "#affichage des outliers \n",
        "liste_outliers(df_billets, 'margin_low')"
      ],
      "metadata": {
        "id": "Ju1Iypeqanbn"
      },
      "execution_count": null,
      "outputs": []
    },
    {
      "cell_type": "code",
      "source": [
        "l=[6.2, 6.7, 6.33, 6.65, 6.21, 6.23, 6.3, 6.56, 6.7, 6.16, 6.34, 6.48, 6.11, 6.14, 6.49, 6.9, 6.19, 6.16, 6.28, 6.19, 6.38, 6.25, 6.56, 6.19, 6.54, 6.29]\n",
        "df_billets[df_billets['margin_low'].isin (l)].sort_values('margin_low')"
      ],
      "metadata": {
        "id": "oIR8HwZOr846"
      },
      "execution_count": null,
      "outputs": []
    },
    {
      "cell_type": "markdown",
      "source": [
        "On trouve 24 outliers pour la variable margin_low qui sont tous de faux billets."
      ],
      "metadata": {
        "id": "Rnls-0pRsHUw"
      }
    },
    {
      "cell_type": "markdown",
      "source": [
        "## <a name=\"C11\"><font color='LightSeaGreen'>margin_up</font></a>"
      ],
      "metadata": {
        "id": "UEYPZpPcX9Za"
      }
    },
    {
      "cell_type": "code",
      "source": [
        "#Représentation la variable margin_up sous forme de boxplot\n",
        "plt.figure(figsize=(12, 3))\n",
        "sns.set(style=\"darkgrid\")\n",
        "sns.boxplot(x=df_billets[\"margin_up\"], color=\"lightblue\")\n",
        "plt.title('Distribution de la variable margin_up')\n",
        "plt.savefig(\"distribution_margin_up_boxplot.png\")\n",
        "plt.show"
      ],
      "metadata": {
        "id": "O7e58uI8X123"
      },
      "execution_count": null,
      "outputs": []
    },
    {
      "cell_type": "code",
      "source": [
        "#affichage des outliers \n",
        "liste_outliers(df_billets, 'margin_up')"
      ],
      "metadata": {
        "id": "eeGHXBmssay8"
      },
      "execution_count": null,
      "outputs": []
    },
    {
      "cell_type": "code",
      "source": [
        "l=[2.27, 3.91, 3.81]\n",
        "df_billets[df_billets['margin_up'].isin (l)].sort_values('margin_up')"
      ],
      "metadata": {
        "id": "yLsCZ5x0sfj_"
      },
      "execution_count": null,
      "outputs": []
    },
    {
      "cell_type": "markdown",
      "source": [
        "On voit 3 outliers pour la variable margin_up dont 1 vrai billet et 2 faux billets."
      ],
      "metadata": {
        "id": "pBwaOyUEYIJN"
      }
    },
    {
      "cell_type": "markdown",
      "source": [
        "## <a name=\"C11\"><font color='LightSeaGreen'>length</font></a>"
      ],
      "metadata": {
        "id": "8klGJwQ4YcKK"
      }
    },
    {
      "cell_type": "code",
      "source": [
        "#Représentation la variable length sous forme de boxplot\n",
        "plt.figure(figsize=(12, 3))\n",
        "sns.set(style=\"darkgrid\")\n",
        "sns.boxplot(x=df_billets[\"length\"], color=\"lightgreen\")\n",
        "plt.title('Distribution de la variable length')\n",
        "plt.savefig(\"distribution_length_boxplot.png\")\n",
        "plt.show"
      ],
      "metadata": {
        "id": "pF_xl0NWYCg0"
      },
      "execution_count": null,
      "outputs": []
    },
    {
      "cell_type": "code",
      "source": [
        "#affichage des outliers \n",
        "liste_outliers(df_billets, 'length')"
      ],
      "metadata": {
        "id": "2So5DfGrsrwn"
      },
      "execution_count": null,
      "outputs": []
    },
    {
      "cell_type": "code",
      "source": [
        "l=[109.49, 109.97, 109.93]\n",
        "df_billets[df_billets['length'].isin (l)].sort_values('length')"
      ],
      "metadata": {
        "id": "_mXIhlK3sxMf"
      },
      "execution_count": null,
      "outputs": []
    },
    {
      "cell_type": "markdown",
      "source": [
        "On voit 3 outliers pour la variable length qui sont tous de faux billets."
      ],
      "metadata": {
        "id": "7UyAfQrcYnNY"
      }
    },
    {
      "cell_type": "markdown",
      "source": [
        "# **<font color='indianred'>Partie 4 : Analyse bivariée des variables</font>**"
      ],
      "metadata": {
        "id": "8wb26Tf6thR4"
      }
    },
    {
      "cell_type": "markdown",
      "source": [
        "## <a name=\"C23\"><font color='LightSeaGreen'>Matrice de corrélation</font></a>"
      ],
      "metadata": {
        "id": "6pG-lgONtmi6"
      }
    },
    {
      "cell_type": "code",
      "source": [
        "matrix = df_billets[variables].corr()\n",
        "sns.heatmap(data=matrix, annot=True, cmap='PiYG');"
      ],
      "metadata": {
        "id": "5r0Gps3113-R"
      },
      "execution_count": null,
      "outputs": []
    },
    {
      "cell_type": "markdown",
      "source": [
        "## <a name=\"C23\"><font color='LightSeaGreen'>Visualisation par paires</font></a>"
      ],
      "metadata": {
        "id": "eejZJR0ZhYPZ"
      }
    },
    {
      "cell_type": "code",
      "source": [
        "#Visualisation\n",
        "#sns.pairplot(df_billets, x_vars=['diagonal','height_left','height_right','margin_low','margin_up','length'], y_vars='nature', kind='reg')\n",
        "sns.pairplot(df_billets, diag_kind=\"kde\",height=1.5, x_vars=variables, y_vars=variables, kind='reg')"
      ],
      "metadata": {
        "id": "Gdsc2_-TSgQO"
      },
      "execution_count": null,
      "outputs": []
    },
    {
      "cell_type": "markdown",
      "source": [
        "## <a name=\"C23\"><font color='LightSeaGreen'>Visualisation des groupes par boxplot</font></a>"
      ],
      "metadata": {
        "id": "Is97Bsrehflz"
      }
    },
    {
      "cell_type": "code",
      "source": [
        "#Comparaison visuelle des clusters par boxplot\n",
        "plt.figure(figsize=(15, 8))\n",
        "sns.set(style=\"white\", palette=\"husl\")\n",
        "plt.subplot(2, 3, 1)\n",
        "\n",
        "plt.subplot(231)\n",
        "sns.boxplot(data=df_billets, x='nature', y='diagonal')\n",
        "\n",
        "plt.subplot(232)\n",
        "sns.boxplot(data=df_billets, x='nature', y='height_left')\n",
        "\n",
        "plt.subplot(233)\n",
        "sns.boxplot(data=df_billets, x='nature', y='height_right')\n",
        "\n",
        "plt.subplot(234)\n",
        "sns.boxplot(data=df_billets, x='nature', y='margin_low')\n",
        "\n",
        "plt.subplot(235)\n",
        "sns.boxplot(data=df_billets, x='nature', y='margin_up')\n",
        "\n",
        "plt.subplot(236)\n",
        "sns.boxplot(data=df_billets, x='nature', y='length')\n",
        "\n",
        "plt.savefig(\"boxplots.png\")\n",
        "plt.show()"
      ],
      "metadata": {
        "id": "CM-NXL9nmuZm"
      },
      "execution_count": null,
      "outputs": []
    },
    {
      "cell_type": "markdown",
      "source": [
        "Caractéristiques des VRAIS / FAUX BILLETS :\n",
        "*   Les *faux* billets ont une ***hauteur*** (droite/gauche) et une ***marge*** (bas/haut) plus **grandes** que les vrais billets\n",
        "*   Les *faux* billets ont une **longueur** plus **petite** que celles des *vrais* billets\n",
        "*   Les *faux* billets ont une **diagonale** un peu plus petite que celles des *vrais* billets\n"
      ],
      "metadata": {
        "id": "qasMrd0A1YmN"
      }
    },
    {
      "cell_type": "markdown",
      "source": [
        "# **<font color='indianred'>Partie 7 : Classification Supervisée</font>**"
      ],
      "metadata": {
        "id": "oIkY5qQp8Zoo"
      }
    },
    {
      "cell_type": "markdown",
      "source": [
        "## <a name=\"C27\"><font color='LightSeaGreen'>Création de X et y</font></a>"
      ],
      "metadata": {
        "id": "VPfaNFrDm9NT"
      }
    },
    {
      "cell_type": "code",
      "source": [
        "X = df_billets.drop('nature', axis=1)\n",
        "y = df_billets['nature']"
      ],
      "metadata": {
        "id": "uUpJU4WHiewT"
      },
      "execution_count": null,
      "outputs": []
    },
    {
      "cell_type": "markdown",
      "source": [
        "## <a name=\"C27\"><font color='LightSeaGreen'>Test train split</font></a>"
      ],
      "metadata": {
        "id": "RmUiWlMLnCLS"
      }
    },
    {
      "cell_type": "code",
      "source": [
        "from sklearn.model_selection import train_test_split\n",
        "#random_state=42 est utilisé pour avoir le meme test set à chaque execution du code\n",
        "X_train, X_test, y_train, y_test = train_test_split(X, y, test_size=0.2, random_state=42)\n",
        "X_train"
      ],
      "metadata": {
        "id": "7x66bf5XnX6y"
      },
      "execution_count": null,
      "outputs": []
    },
    {
      "cell_type": "code",
      "source": [
        "print(f\"Forme de X_train : {X_train.shape} et forme de y_train : {y_train.shape}\")\n",
        "print(f\"Forme de X_train : {X_test.shape} et forme de y_train : {y_test.shape}\")"
      ],
      "metadata": {
        "id": "5vU68wOgo-rJ"
      },
      "execution_count": null,
      "outputs": []
    },
    {
      "cell_type": "markdown",
      "source": [
        "###<font color='purple'>Centrage et Réduction</font>"
      ],
      "metadata": {
        "id": "aTFnZXGkyGME"
      }
    },
    {
      "cell_type": "code",
      "source": [
        "#Centrage et Réduction\n",
        "from sklearn import decomposition, preprocessing\n",
        "from sklearn.preprocessing import StandardScaler\n",
        "scaler = StandardScaler()\n",
        "#entraînement de X_train\n",
        "scaler.fit(X_train)\n",
        "X_train = scaler.transform(X_train)\n",
        "X_test = scaler.transform(X_test)\n",
        "\n",
        "X_train\n",
        "#std_scale = preprocessing.StandardScaler().fit(X)\n",
        "#X_scaled = std_scale.transform(X)\n",
        "#X_scaled"
      ],
      "metadata": {
        "id": "DuvRZRRhnP5i"
      },
      "execution_count": null,
      "outputs": []
    },
    {
      "cell_type": "code",
      "source": [
        "y_test"
      ],
      "metadata": {
        "id": "KF7k_ldH9ruW"
      },
      "execution_count": null,
      "outputs": []
    },
    {
      "cell_type": "markdown",
      "source": [
        "## <a name=\"C27\"><font color='LightSeaGreen'>Modélisation</font></a>"
      ],
      "metadata": {
        "id": "3LsSISndyVOI"
      }
    },
    {
      "cell_type": "markdown",
      "source": [
        "###<font color='purple'>Dummy Classifier</font>"
      ],
      "metadata": {
        "id": "FgyTXrqQ8h47"
      }
    },
    {
      "cell_type": "code",
      "source": [
        "#On va utiliser l'algorithme le plus simple pour avoir un score de base et le comparer avec celui d'autres algos\n",
        "from sklearn.dummy import DummyClassifier\n",
        "#La classe la plus fréquente\n",
        "dummy = DummyClassifier(strategy = \"most_frequent\")\n",
        "dummy.fit(X_train,y_train)"
      ],
      "metadata": {
        "id": "2iW3exK7yUBl"
      },
      "execution_count": null,
      "outputs": []
    },
    {
      "cell_type": "code",
      "source": [
        "y_pred=dummy.predict(X_test)\n",
        "y_pred"
      ],
      "metadata": {
        "id": "aw-3u3xGy4S8"
      },
      "execution_count": null,
      "outputs": []
    },
    {
      "cell_type": "code",
      "source": [
        "pd.Series(y_pred).value_counts()"
      ],
      "metadata": {
        "id": "zqGdrkXSzTFE"
      },
      "execution_count": null,
      "outputs": []
    },
    {
      "cell_type": "code",
      "source": [
        "y_test.value_counts(normalize=True).round(2)"
      ],
      "metadata": {
        "id": "jx7pAxj-zgC5"
      },
      "execution_count": null,
      "outputs": []
    },
    {
      "cell_type": "markdown",
      "source": [
        "La classe 0 est beaucoup plus fréquente que la classe 1."
      ],
      "metadata": {
        "id": "CP4p_NYkz0Kx"
      }
    },
    {
      "cell_type": "code",
      "source": [
        "y_test.values"
      ],
      "metadata": {
        "id": "lqz5jcE6z66x"
      },
      "execution_count": null,
      "outputs": []
    },
    {
      "cell_type": "code",
      "source": [
        "def score(estimator) :\n",
        "  train_score = estimator.score(X_train,y_train).round(2)\n",
        "  test_score = estimator.score(X_test,y_test).round(2)\n",
        "\n",
        "  print(f\"Score du train set : {train_score}\")      \n",
        "  print(f\"Score du test set : {test_score}\")"
      ],
      "metadata": {
        "id": "S9uOOPoDz-zX"
      },
      "execution_count": null,
      "outputs": []
    },
    {
      "cell_type": "code",
      "source": [
        "score(dummy)"
      ],
      "metadata": {
        "id": "uOVxEm130lPy"
      },
      "execution_count": null,
      "outputs": []
    },
    {
      "cell_type": "code",
      "source": [
        "from sklearn.metrics import confusion_matrix\n",
        "\n",
        "def confusion(y_test, y_pred) :\n",
        "  mat=confusion_matrix(y_test, y_pred)\n",
        "  mat=pd.DataFrame(mat)\n",
        "  mat.columns=[f\"valeurs_prédites_{i}\" for i in mat.columns]\n",
        "  mat.index = [f\"vraies_valeurs_{i}\" for i in mat.index]\n",
        "\n",
        "  return (mat)"
      ],
      "metadata": {
        "id": "TnVcETal1OmN"
      },
      "execution_count": null,
      "outputs": []
    },
    {
      "cell_type": "code",
      "source": [
        "confusion(y_test, y_pred)"
      ],
      "metadata": {
        "id": "6Zb5LSVZ2L8t"
      },
      "execution_count": null,
      "outputs": []
    },
    {
      "cell_type": "markdown",
      "source": [
        "###<font color='purple'>Régression Logistique</font>"
      ],
      "metadata": {
        "id": "iFo_vblK8n-l"
      }
    },
    {
      "cell_type": "markdown",
      "source": [
        "####<font color='orange'>Régression Logistique simple</font>"
      ],
      "metadata": {
        "id": "ac_55bkXWDvC"
      }
    },
    {
      "cell_type": "code",
      "source": [
        "logit_model=sm.Logit(y,X)\n",
        "result=logit_model.fit()\n",
        "print(result.summary2())  "
      ],
      "metadata": {
        "id": "eygOyz_f_1zQ"
      },
      "execution_count": null,
      "outputs": []
    },
    {
      "cell_type": "code",
      "source": [
        "#On va utiliser l'algorithme de la régression logistique\n",
        "from sklearn.linear_model import LogisticRegression\n",
        "#La classe la plus fréquente\n",
        "logreg=LogisticRegression(solver=\"liblinear\")\n",
        "logreg.fit(X_train,y_train)"
      ],
      "metadata": {
        "id": "pkC0_7Y8VjFE"
      },
      "execution_count": null,
      "outputs": []
    },
    {
      "cell_type": "code",
      "source": [
        "y_pred=logreg.predict(X_test)\n",
        "y_pred"
      ],
      "metadata": {
        "id": "tQ4qM9j_V3Li"
      },
      "execution_count": null,
      "outputs": []
    },
    {
      "cell_type": "code",
      "source": [
        "y_proba=logreg.predict_proba(X_test).round(2)"
      ],
      "metadata": {
        "id": "_JgMXjCTV5v6"
      },
      "execution_count": null,
      "outputs": []
    },
    {
      "cell_type": "code",
      "source": [
        "score(logreg)\n",
        "confusion(y_test, y_pred)"
      ],
      "metadata": {
        "id": "ejwm7X1YV9MC"
      },
      "execution_count": null,
      "outputs": []
    },
    {
      "cell_type": "code",
      "source": [
        "from sklearn.metrics import roc_curve\n",
        "from sklearn.metrics import auc\n",
        "false_positive_rate, true_positive_rate, thresholds = roc_curve(y_test, y_pred)\n",
        "roc_auc = auc(false_positive_rate, true_positive_rate).round(2)\n",
        "print(roc_curve(y_test, y_pred))\n",
        "print(f\"Sensibilité ie taux de vrais billets classés vrais {true_positive_rate}\")\n",
        "print(f\"Spécificité ie taux de faux billets classés faux {false_positive_rate}\")\n",
        "print(thresholds)\n",
        "print(roc_auc)"
      ],
      "metadata": {
        "id": "uSRuK400W7uQ"
      },
      "execution_count": null,
      "outputs": []
    },
    {
      "cell_type": "markdown",
      "source": [
        "Caractéristique de performance (d'un test) ou Courbe sensibilité/spécificité : \n",
        "mesure de la performance d'un classificateur binaire / catégorisation des éléments en deux groupes distincts "
      ],
      "metadata": {
        "id": "mbY4GEVDdmO1"
      }
    },
    {
      "cell_type": "code",
      "source": [
        "plt.figure(figsize=(10,10))\n",
        "plt.title('Receiver Operating Characteristic')\n",
        "plt.plot(false_positive_rate, true_positive_rate, color='blue', label='AUC=%0.2f'%roc_auc)\n",
        "plt.legend(loc='lower right')\n",
        "plt.plot([0,1], [0,1], linestyle='--')\n",
        "plt.axis('tight')\n",
        "plt.ylabel('Sensibility : True Positive Rate')\n",
        "plt.xlabel('Specificity : False Positive Rate')\n",
        "plt.show()"
      ],
      "metadata": {
        "id": "9hUNSxbFbsof"
      },
      "execution_count": null,
      "outputs": []
    },
    {
      "cell_type": "markdown",
      "source": [
        "####<font color='orange'>Régression Logistique Optimisée</font>"
      ],
      "metadata": {
        "id": "YQmQk-mNWRAy"
      }
    },
    {
      "cell_type": "code",
      "source": [
        "#On va utiliser l'algorithme de la régression logistique\n",
        "from sklearn.linear_model import LogisticRegression\n",
        "logregop=LogisticRegression()\n",
        "params = { 'C' : np.logspace(-3, 3, 7),\n",
        "           'penalty' : ['l1', 'l2'],\n",
        "           'solver' : ['newton-cg', 'lbfgs', 'liblinear']}"
      ],
      "metadata": {
        "id": "3EW5woey8wFE"
      },
      "execution_count": null,
      "outputs": []
    },
    {
      "cell_type": "code",
      "source": [
        "from sklearn.model_selection import GridSearchCV\n",
        "grid = GridSearchCV(logregop, params, cv=5, n_jobs=-1, return_train_score=True, verbose=1)\n",
        "\n",
        "grid.fit(X_train,y_train)"
      ],
      "metadata": {
        "id": "4llr4aNn1_z2"
      },
      "execution_count": null,
      "outputs": []
    },
    {
      "cell_type": "code",
      "source": [
        "best_params = grid.best_params_\n",
        "best_params"
      ],
      "metadata": {
        "id": "EWeGi7cd1_Gd"
      },
      "execution_count": null,
      "outputs": []
    },
    {
      "cell_type": "code",
      "source": [
        "grid.best_estimator_"
      ],
      "metadata": {
        "id": "RK8Y8tVV22mc"
      },
      "execution_count": null,
      "outputs": []
    },
    {
      "cell_type": "code",
      "source": [
        "#def resultize(grid) :\n",
        " # res = grid.cv_results_\n",
        "  #res = pd.DataFrame(res)\n",
        "  #cols = [i for i in res.columns if \"split\" not in i]\n",
        "  #res = res[cols]\n",
        "  #res = res.sort_values('rank_test_score')\n",
        "\n",
        "  #return res"
      ],
      "metadata": {
        "id": "Q9UgsBaT6wvq"
      },
      "execution_count": null,
      "outputs": []
    },
    {
      "cell_type": "code",
      "source": [
        "#resultize(grid).head()"
      ],
      "metadata": {
        "id": "nUhBZnyB7Rzr"
      },
      "execution_count": null,
      "outputs": []
    },
    {
      "cell_type": "code",
      "source": [
        "#logregop = LogisticRegression(penalty = 'l1', C=0.1, solver = 'liblinear')\n",
        "#logregop"
      ],
      "metadata": {
        "id": "qOsu7ueI7Xah"
      },
      "execution_count": null,
      "outputs": []
    },
    {
      "cell_type": "code",
      "source": [
        "logregop = LogisticRegression(**best_params)\n",
        "logregop.fit(X_train, y_train)\n",
        "y_pred = logregop.predict(X_test)\n",
        "logregop"
      ],
      "metadata": {
        "id": "upcHoRPh8Jyp"
      },
      "execution_count": null,
      "outputs": []
    },
    {
      "cell_type": "code",
      "source": [
        "score(logregop)\n",
        "confusion(y_test, y_pred)"
      ],
      "metadata": {
        "id": "3IH6rBmK8e_7"
      },
      "execution_count": null,
      "outputs": []
    },
    {
      "cell_type": "code",
      "source": [
        "from sklearn.metrics import roc_curve\n",
        "from sklearn.metrics import auc\n",
        "false_positive_rate, true_positive_rate, thresholds = roc_curve(y_test, y_pred)\n",
        "roc_auc = auc(false_positive_rate, true_positive_rate).round(2)\n",
        "print(f\"Sensibilité ie taux de vrais billets classés vrais {true_positive_rate}\")\n",
        "print(f\"Spécificité ie taux de faux billets classés faux {false_positive_rate}\")\n",
        "print(thresholds)\n",
        "print(roc_auc)"
      ],
      "metadata": {
        "id": "Uc0luVeo89oV"
      },
      "execution_count": null,
      "outputs": []
    },
    {
      "cell_type": "code",
      "source": [
        "plt.figure(figsize=(10,10))\n",
        "plt.title('Receiver Operating Characteristic')\n",
        "plt.plot(false_positive_rate, true_positive_rate, color='red', label='AUC=%0.2f'%roc_auc)\n",
        "plt.legend(loc='lower right')\n",
        "plt.plot([0,1], [0,1], linestyle='--')\n",
        "plt.axis('tight')\n",
        "plt.ylabel('Sensibility : True Positive Rate')\n",
        "plt.xlabel('Specificity : False Positive Rate')\n",
        "plt.show()"
      ],
      "metadata": {
        "id": "DhRiZKF3e8Wu"
      },
      "execution_count": null,
      "outputs": []
    },
    {
      "cell_type": "code",
      "source": [
        "from sklearn.metrics import classification_report \n",
        "classif_report = classification_report(y_test, y_pred)\n",
        "print(classif_report)"
      ],
      "metadata": {
        "id": "JFyQ7uMjBH9c"
      },
      "execution_count": null,
      "outputs": []
    },
    {
      "cell_type": "markdown",
      "source": [
        "# **<font color='indianred'>Partie 6 : Classification non supervisée</font>**"
      ],
      "metadata": {
        "id": "uRLN7WJA-NQE"
      }
    },
    {
      "cell_type": "markdown",
      "source": [
        "## <a name=\"C27\"><font color='LightSeaGreen'>KMEANS</font></a>"
      ],
      "metadata": {
        "id": "LzSQ3vgb2FM2"
      }
    },
    {
      "cell_type": "markdown",
      "source": [
        "###<font color='purple'>Coefficient de silhouette</font>"
      ],
      "metadata": {
        "id": "wwZHNTKMyN7o"
      }
    },
    {
      "cell_type": "code",
      "source": [
        "from sklearn.cluster import KMeans\n",
        "import sklearn.metrics as metrics\n",
        "\n",
        "#Liste pour stocker nos coefficients\n",
        "silhouettes = [] \n",
        "\n",
        "#Boucle itérative de 2 à 10 clusters pour tester toutes les possibilités de k\n",
        "for k in range(2, 10): \n",
        "    #Création et ajustement d'un modèle pour chaque k\n",
        "    cls = KMeans(n_clusters=k)  \n",
        "    cls.fit(X_train)\n",
        "    \n",
        "    #Stockage des coefficients associés\n",
        "    silh = metrics.silhouette_score(X_train, cls.labels_)\n",
        "    silhouettes.append(silh)\n",
        "    \n",
        "#Visualisation des valeurs de coefficient de silhouette pour chaque nombre de cluster\n",
        "plt.plot(range(2, 10), silhouettes, marker='o')\n",
        "plt.savefig('silhouette.png')\n",
        "plt.show()"
      ],
      "metadata": {
        "id": "gvFGOYiKC4TS"
      },
      "execution_count": null,
      "outputs": []
    },
    {
      "cell_type": "markdown",
      "source": [
        "Le coefficient de silhouette nous indique une valeur de k=2."
      ],
      "metadata": {
        "id": "RiEp_zmvRjt9"
      }
    },
    {
      "cell_type": "markdown",
      "source": [
        "###<font color='purple'>Algorithme du Kmeans</font>"
      ],
      "metadata": {
        "id": "LNJ_8cJ7zdzs"
      }
    },
    {
      "cell_type": "code",
      "source": [
        "#Algorithme du Kmeans \n",
        "from sklearn.cluster import KMeans\n",
        "\n",
        "#Création du modèle k-means \n",
        "kmeans = KMeans(n_clusters=2, n_init=300, init='k-means++', random_state=42)\n",
        "kmeans"
      ],
      "metadata": {
        "id": "28oh59fiIgUK"
      },
      "execution_count": null,
      "outputs": []
    },
    {
      "cell_type": "code",
      "source": [
        "from sklearn.model_selection import cross_val_score\n",
        "from sklearn.metrics import make_scorer, r2_score\n",
        "from sklearn.metrics import mean_squared_error\n",
        "CV_scores=cross_val_score(kmeans, X_train, y_train, cv=5, scoring='accuracy')\n",
        "print (\"Le score obtenu pour chacun des 5 fold créé est : \",CV_scores.round(2))\n",
        "print (\"Cela fait une moyenne de : \",CV_scores.mean().round(2))\n",
        "print (\"Et un écart-type de  : \",CV_scores.std().round(2))"
      ],
      "metadata": {
        "id": "va8inUIPmy2x"
      },
      "execution_count": null,
      "outputs": []
    },
    {
      "cell_type": "code",
      "source": [
        "kmeans.fit(X_train,y_train)\n",
        "\n",
        "#Détermine à quel cluster appartient chaque point (kmeans.labels_)\n",
        "y_pred =  kmeans.predict(X_test)\n",
        "y_pred"
      ],
      "metadata": {
        "id": "NW3Td9qjrs5y"
      },
      "execution_count": null,
      "outputs": []
    },
    {
      "cell_type": "code",
      "source": [
        "pd.Series(y_pred).value_counts()"
      ],
      "metadata": {
        "id": "QG8OZFJxHQ1j"
      },
      "execution_count": null,
      "outputs": []
    },
    {
      "cell_type": "code",
      "source": [
        "y_test"
      ],
      "metadata": {
        "id": "JdE7X8neKNP2"
      },
      "execution_count": null,
      "outputs": []
    },
    {
      "cell_type": "code",
      "source": [
        "pd.Series(y_test).value_counts()"
      ],
      "metadata": {
        "id": "1GwdpMGvHWUw"
      },
      "execution_count": null,
      "outputs": []
    },
    {
      "cell_type": "code",
      "source": [
        "#nombre d'individus dans chaque cluster\n",
        "import numpy\n",
        "numpy.unique(kmeans.labels_, return_counts=True)"
      ],
      "metadata": {
        "id": "GF5-Ge5Z8K3Y"
      },
      "execution_count": null,
      "outputs": []
    },
    {
      "cell_type": "code",
      "source": [
        "#score(kmeans)\n",
        "print(kmeans.score(X_train,y_train))\n",
        "print(kmeans.score(X_test,y_test))"
      ],
      "metadata": {
        "id": "tsrwwHfz4uTz"
      },
      "execution_count": null,
      "outputs": []
    },
    {
      "cell_type": "markdown",
      "source": [
        "###<font color='purple'>Matrice de Confusion</font>"
      ],
      "metadata": {
        "id": "BY0NoR5QvEya"
      }
    },
    {
      "cell_type": "code",
      "source": [
        "confusion(y_test, y_pred)"
      ],
      "metadata": {
        "id": "LjpXkhiS_twH"
      },
      "execution_count": null,
      "outputs": []
    },
    {
      "cell_type": "code",
      "source": [
        "#print(f\"Forme de X_train : {X_train.shape} et forme de y_train : {y_train.shape}\")\n",
        "#print(f\"Forme de X_train : {X_test.shape} et forme de y_train : {y_test.shape}\")"
      ],
      "metadata": {
        "id": "tvuUwaPdslVK"
      },
      "execution_count": null,
      "outputs": []
    },
    {
      "cell_type": "markdown",
      "source": [
        "###<font color='purple'>Centroides</font>"
      ],
      "metadata": {
        "id": "vW3q7q12ztka"
      }
    },
    {
      "cell_type": "code",
      "source": [
        "#Centroïdes des 2 clusters dans la forme centrée réduite\n",
        "centroids = kmeans.cluster_centers_\n",
        "df_cent=pd.DataFrame(centroids, columns=df_billets_final[variables].columns).round(decimals = 2) \n",
        "df_cent"
      ],
      "metadata": {
        "id": "8d7pwVcVKzWL"
      },
      "execution_count": null,
      "outputs": []
    },
    {
      "cell_type": "markdown",
      "source": [
        "## <a name=\"C27\"><font color='LightSeaGreen'>Analyse en Composantes Principales (PCA)</font></a>"
      ],
      "metadata": {
        "id": "lpNo40KcyPHS"
      }
    },
    {
      "cell_type": "markdown",
      "source": [
        "###<font color='purple'>Visualisation des clusters et variables sur un plan à 2 dimensions</font>"
      ],
      "metadata": {
        "id": "B94x99zX0MGb"
      }
    },
    {
      "cell_type": "code",
      "source": [
        "from sklearn.decomposition import PCA\n",
        "from sklearn import decomposition, preprocessing\n",
        "\n",
        "n_comp=2\n",
        "\n",
        "# Création du PCA pour réduire les données à 2 dimensions pour la visualisation\n",
        "pca = PCA(n_components=n_comp)\n",
        "pca.fit(X_train)\n",
        "\n",
        "# Cercle des corrélations\n",
        "from functions import display_circles\n",
        "pcs = pca.components_\n",
        "display_circles(pcs, n_comp, pca, [(0,1),(2,3)], labels = np.array(df_billets_final[variables].columns))\n",
        "\n",
        "# Projection des individus (nouvel espace vectoriel)\n",
        "X_projected = pca.transform(X_train)\n",
        "\n",
        "# Affiche un scatter plot des points des data dans le nouvel espace vectoriel\n",
        "from functions import display_factorial_planes\n",
        "display_factorial_planes(X_projected, n_comp, pca, [(0,1),(2,3)], labels=None, illustrative_var = kmeans.labels_, alpha = 0.8)\n",
        "\n",
        "# Eboulis des valeurs propres\n",
        "from functions import display_scree_plot\n",
        "display_scree_plot(pca)\n",
        "\n",
        "plt.savefig(\"PCA.png\")\n",
        "plt.show()"
      ],
      "metadata": {
        "id": "n7TVs4r1Jtdp"
      },
      "execution_count": null,
      "outputs": []
    },
    {
      "cell_type": "code",
      "source": [
        "X_projected"
      ],
      "metadata": {
        "id": "r_uQKwfiUu1a"
      },
      "execution_count": null,
      "outputs": []
    },
    {
      "cell_type": "code",
      "source": [
        "#Centroides\n",
        "X2 = df_cent.values\n",
        "std_scale = preprocessing.StandardScaler().fit(X2)\n",
        "X2_scaled = std_scale.transform(X2)\n",
        "\n",
        "# Projection des centroïdes des clusters sur les deux composantes\n",
        "X2_projected = pca.transform(X2_scaled)\n",
        "display_factorial_planes(X2_projected, n_comp, pca, [(0,1)], illustrative_var=df_cent.index)\n",
        "plt.savefig(\"centroid.png\")\n",
        "plt.show()"
      ],
      "metadata": {
        "id": "vJuHNKLs4Vxk"
      },
      "execution_count": null,
      "outputs": []
    },
    {
      "cell_type": "code",
      "source": [
        "X2_projected"
      ],
      "metadata": {
        "id": "pHxOUQ8pU_qD"
      },
      "execution_count": null,
      "outputs": []
    },
    {
      "cell_type": "code",
      "source": [
        "#Pourcentage de variance expliquée par les composantes principales à l'aide de .explained_variance_ratio_\n",
        "print(pca.explained_variance_ratio_.cumsum())"
      ],
      "metadata": {
        "id": "lD4PpXW0zikX"
      },
      "execution_count": null,
      "outputs": []
    },
    {
      "cell_type": "markdown",
      "source": [
        "2 composantes sont suffisantes pour avoir au moins 60% de la variance."
      ],
      "metadata": {
        "id": "JyIKAWV-Fgw7"
      }
    },
    {
      "cell_type": "markdown",
      "source": [
        "## <a name=\"C27\"><font color='LightSeaGreen'>FONCTION DETECTION DE FAUX BILLETS</font></a>"
      ],
      "metadata": {
        "id": "Wx9cInirf11C"
      }
    },
    {
      "cell_type": "code",
      "source": [
        "def detection_faux_billets(estimator) :\n",
        "  test_uploaded = files.upload()\n",
        "  df=pd.read_csv(io.BytesIO(test_uploaded['billets_production.csv'])) \n",
        "  dft=df.copy()\n",
        "  dft=dft.select_dtypes(include=['float64'])\n",
        "  scaler = StandardScaler()\n",
        "  dft = scaler.fit_transform(dft)\n",
        "  df['pred']=estimator.predict(dft)\n",
        "  print(\"\\n\")\n",
        "\n",
        "  if estimator!=kmeans :\n",
        "    pred_proba=estimator.predict_proba(dft).round(2)\n",
        "    df['pred_proba_0']=pd.DataFrame(pred_proba[:,0])\n",
        "    df['pred_proba_1']=pd.DataFrame(pred_proba[:,1])\n",
        "    \n",
        "  return(df)"
      ],
      "metadata": {
        "id": "9S3jFL8LNXCJ"
      },
      "execution_count": null,
      "outputs": []
    },
    {
      "cell_type": "code",
      "source": [
        "detection_faux_billets(kmeans)"
      ],
      "metadata": {
        "id": "AfZnmZXzMCVm"
      },
      "execution_count": null,
      "outputs": []
    },
    {
      "cell_type": "code",
      "source": [
        " "
      ],
      "metadata": {
        "id": "jDrqA75INNVc"
      },
      "execution_count": null,
      "outputs": []
    }
  ]
}
{
  "nbformat": 4,
  "nbformat_minor": 0,
  "metadata": {
    "colab": {
      "name": "P10",
      "provenance": [],
      "toc_visible": true,
      "authorship_tag": "ABX9TyORuLrozOIInHUK/iSbjypF",
      "include_colab_link": true
    },
    "kernelspec": {
      "name": "python3",
      "display_name": "Python 3"
    },
    "language_info": {
      "name": "python"
    }
  },
  "cells": [
    {
      "cell_type": "markdown",
      "metadata": {
        "id": "view-in-github",
        "colab_type": "text"
      },
      "source": [
        "<a href=\"https://colab.research.google.com/github/Randasabag/P10/blob/main/P10.ipynb\" target=\"_parent\"><img src=\"https://colab.research.google.com/assets/colab-badge.svg\" alt=\"Open In Colab\"/></a>"
      ]
    },
    {
      "cell_type": "markdown",
      "source": [
        "# Sommaire :\n",
        "**Partie 1 : Importation des données**\n",
        " - <a href=\"#C1\">Importation des librairies</a>\n",
        " - <a href=\"#C2\">Importation du jeu de données</a>\n",
        " \n",
        "**Partie 2 : Analyse du jeu de données**\n",
        " - <a href=\"#C3\">Affichage du nombre de lignes et colonnes</a>\n",
        " - <a href=\"#C4\">Affichage des informations</a>\n",
        " - <a href=\"#C5\">Analyse des doublons</a>\n",
        " - <a href=\"#C6\">Analyse des valeurs manquantes</a>\n",
        "\n",
        "\n",
        "**Partie 3 : Analyse univariée des variables**\n",
        " - <a href=\"#C7\"></a>\n",
        " - <a href=\"#C8\"></a>\n",
        " - <a href=\"#C9\">Calcul de nouveaux indicateurs</a>\n",
        " - <a href=\"#C10\">Indicateurs choisis</a>\n",
        " - <a href=\"#C11\">margin_low=\"#C12\">Ratio protéine animale/disponibilité protéine totale</a>\n",
        " - <a href=\"#C13\">Taux d'importation / disponibilité intérieure</a>\n",
        " - <a href=\"#C14\">PIB/Habitant</a>\n",
        " - <a href=\"#C15\">Evolution de la Population 2007-2017</a>\n",
        " - <a href=\"#C16\">Taux de production / disponibilité intérieure</a>\n",
        " - <a href=\"#C17\">Indice de stabilité politique</a>\n",
        "\n",
        "\n",
        "**Partie 4 : Analyse bivariée des indicateurs**\n",
        " - <a href=\"#C18\">margin_low - Ratio protéine animale</a>\n",
        " - <a href=\"#C19\">margin_low - Taux d'importation</a>\n",
        " - <a href=\"#C20\">margin_low - Taux de Production</a>\n",
        " - <a href=\"#C21\">Taux d'importation - Taux de Production</a>\n",
        " - <a href=\"#C22\">Ratio protéine animale - Indice de stabilité politique</a>\n",
        " - <a href=\"#C23\">Indice de stabilité politique - PIB par Habitant</a>\n",
        "\n",
        "**Partie 5 : Classification** \n",
        " - <a href=\"#C24\">Classification Ascendante Hiérarchique (CAH)</a>\n",
        " - <a href=\"#C25\">Analyse en Composantes Principales (PCA)</a>\n",
        " - <a href=\"#C26\">K-Means</a>\n",
        " - <a href=\"#C27\">Analyse en Composantes Principales (PCA)</a>"
      ],
      "metadata": {
        "id": "E4XEcLS-KjHD"
      }
    },
    {
      "cell_type": "markdown",
      "source": [
        "# **<font color='indianred'>Partie 1 : Importation des données</font>**"
      ],
      "metadata": {
        "id": "hxCcGrx6KsR5"
      }
    },
    {
      "cell_type": "markdown",
      "source": [
        "## <a name=\"C1\"><font color='LightSeaGreen'>Importation des librairies</font></a>"
      ],
      "metadata": {
        "id": "CvN9fwB3Kvfl"
      }
    },
    {
      "cell_type": "code",
      "execution_count": 76,
      "metadata": {
        "id": "3d-cVhT31g_Y",
        "colab": {
          "base_uri": "https://localhost:8080/"
        },
        "outputId": "c720a67c-c26e-4a40-a6b1-ad7b7c1c9b40"
      },
      "outputs": [
        {
          "output_type": "stream",
          "name": "stderr",
          "text": [
            "/usr/local/lib/python3.7/dist-packages/statsmodels/tools/_testing.py:19: FutureWarning: pandas.util.testing is deprecated. Use the functions in the public API at pandas.testing instead.\n",
            "  import pandas.util.testing as tm\n"
          ]
        }
      ],
      "source": [
        "import pandas as pd\n",
        "import numpy as np\n",
        "import matplotlib.pyplot as plt\n",
        "import seaborn as sns\n",
        "import scipy.stats as st\n",
        "import statsmodels.api as sm\n",
        "import statsmodels.formula.api as smf\n",
        "import io\n",
        "from google.colab import files"
      ]
    },
    {
      "cell_type": "markdown",
      "source": [
        "## <a name=\"C2\"><font color='LightSeaGreen'>Importation des données</font></a>"
      ],
      "metadata": {
        "id": "rp6ErGEHKyRl"
      }
    },
    {
      "cell_type": "code",
      "source": [
        "uploaded = files.upload()"
      ],
      "metadata": {
        "colab": {
          "resources": {
            "http://localhost:8080/nbextensions/google.colab/files.js": {
              "data": "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",
              "ok": true,
              "headers": [
                [
                  "content-type",
                  "application/javascript"
                ]
              ],
              "status": 200,
              "status_text": ""
            }
          },
          "base_uri": "https://localhost:8080/",
          "height": 74
        },
        "id": "aybp_VSo1kje",
        "outputId": "8c279b34-2d1e-4a1d-ae05-a2a437225307"
      },
      "execution_count": 2,
      "outputs": [
        {
          "output_type": "display_data",
          "data": {
            "text/plain": [
              "<IPython.core.display.HTML object>"
            ],
            "text/html": [
              "\n",
              "     <input type=\"file\" id=\"files-3ea54eb8-22ca-4499-9720-a41c45eff88e\" name=\"files[]\" multiple disabled\n",
              "        style=\"border:none\" />\n",
              "     <output id=\"result-3ea54eb8-22ca-4499-9720-a41c45eff88e\">\n",
              "      Upload widget is only available when the cell has been executed in the\n",
              "      current browser session. Please rerun this cell to enable.\n",
              "      </output>\n",
              "      <script src=\"/nbextensions/google.colab/files.js\"></script> "
            ]
          },
          "metadata": {}
        },
        {
          "output_type": "stream",
          "name": "stdout",
          "text": [
            "Saving billets.xlsx to billets.xlsx\n"
          ]
        }
      ]
    },
    {
      "cell_type": "code",
      "source": [
        "from google.colab import files\n",
        "functions = files.upload()"
      ],
      "metadata": {
        "colab": {
          "resources": {
            "http://localhost:8080/nbextensions/google.colab/files.js": {
              "data": "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",
              "ok": true,
              "headers": [
                [
                  "content-type",
                  "application/javascript"
                ]
              ],
              "status": 200,
              "status_text": ""
            }
          },
          "base_uri": "https://localhost:8080/",
          "height": 74
        },
        "id": "_DvDmwNqutZU",
        "outputId": "4d3288a6-4b11-4403-edc5-01a617c2c4a0"
      },
      "execution_count": 3,
      "outputs": [
        {
          "output_type": "display_data",
          "data": {
            "text/plain": [
              "<IPython.core.display.HTML object>"
            ],
            "text/html": [
              "\n",
              "     <input type=\"file\" id=\"files-ea7d94e3-cfda-4f36-85d9-224eb8dfc6e1\" name=\"files[]\" multiple disabled\n",
              "        style=\"border:none\" />\n",
              "     <output id=\"result-ea7d94e3-cfda-4f36-85d9-224eb8dfc6e1\">\n",
              "      Upload widget is only available when the cell has been executed in the\n",
              "      current browser session. Please rerun this cell to enable.\n",
              "      </output>\n",
              "      <script src=\"/nbextensions/google.colab/files.js\"></script> "
            ]
          },
          "metadata": {}
        },
        {
          "output_type": "stream",
          "name": "stdout",
          "text": [
            "Saving functions.py to functions.py\n"
          ]
        }
      ]
    },
    {
      "cell_type": "code",
      "source": [
        "#Billets\n",
        "df_billets=pd.read_excel(io.BytesIO(uploaded['billets.xlsx'])) \n",
        "df_billets.head()"
      ],
      "metadata": {
        "colab": {
          "base_uri": "https://localhost:8080/",
          "height": 206
        },
        "id": "kIporIzs1qp2",
        "outputId": "b1ed9db2-e6a8-4507-dc82-756184a70fa6"
      },
      "execution_count": 236,
      "outputs": [
        {
          "output_type": "execute_result",
          "data": {
            "text/plain": [
              "   is_genuine  diagonal  height_left  height_right  margin_low  margin_up  \\\n",
              "0        True    171.81       104.86        104.95        4.52       2.89   \n",
              "1        True    171.46       103.36        103.66        3.77       2.99   \n",
              "2        True    172.69       104.48        103.50        4.40       2.94   \n",
              "3        True    171.36       103.91        103.94        3.62       3.01   \n",
              "4        True    171.73       104.28        103.46        4.04       3.48   \n",
              "\n",
              "   length  \n",
              "0  112.83  \n",
              "1  113.09  \n",
              "2  113.16  \n",
              "3  113.51  \n",
              "4  112.54  "
            ],
            "text/html": [
              "\n",
              "  <div id=\"df-0c1b9f13-c7ff-4829-ba7d-eb7484eb7ef5\">\n",
              "    <div class=\"colab-df-container\">\n",
              "      <div>\n",
              "<style scoped>\n",
              "    .dataframe tbody tr th:only-of-type {\n",
              "        vertical-align: middle;\n",
              "    }\n",
              "\n",
              "    .dataframe tbody tr th {\n",
              "        vertical-align: top;\n",
              "    }\n",
              "\n",
              "    .dataframe thead th {\n",
              "        text-align: right;\n",
              "    }\n",
              "</style>\n",
              "<table border=\"1\" class=\"dataframe\">\n",
              "  <thead>\n",
              "    <tr style=\"text-align: right;\">\n",
              "      <th></th>\n",
              "      <th>is_genuine</th>\n",
              "      <th>diagonal</th>\n",
              "      <th>height_left</th>\n",
              "      <th>height_right</th>\n",
              "      <th>margin_low</th>\n",
              "      <th>margin_up</th>\n",
              "      <th>length</th>\n",
              "    </tr>\n",
              "  </thead>\n",
              "  <tbody>\n",
              "    <tr>\n",
              "      <th>0</th>\n",
              "      <td>True</td>\n",
              "      <td>171.81</td>\n",
              "      <td>104.86</td>\n",
              "      <td>104.95</td>\n",
              "      <td>4.52</td>\n",
              "      <td>2.89</td>\n",
              "      <td>112.83</td>\n",
              "    </tr>\n",
              "    <tr>\n",
              "      <th>1</th>\n",
              "      <td>True</td>\n",
              "      <td>171.46</td>\n",
              "      <td>103.36</td>\n",
              "      <td>103.66</td>\n",
              "      <td>3.77</td>\n",
              "      <td>2.99</td>\n",
              "      <td>113.09</td>\n",
              "    </tr>\n",
              "    <tr>\n",
              "      <th>2</th>\n",
              "      <td>True</td>\n",
              "      <td>172.69</td>\n",
              "      <td>104.48</td>\n",
              "      <td>103.50</td>\n",
              "      <td>4.40</td>\n",
              "      <td>2.94</td>\n",
              "      <td>113.16</td>\n",
              "    </tr>\n",
              "    <tr>\n",
              "      <th>3</th>\n",
              "      <td>True</td>\n",
              "      <td>171.36</td>\n",
              "      <td>103.91</td>\n",
              "      <td>103.94</td>\n",
              "      <td>3.62</td>\n",
              "      <td>3.01</td>\n",
              "      <td>113.51</td>\n",
              "    </tr>\n",
              "    <tr>\n",
              "      <th>4</th>\n",
              "      <td>True</td>\n",
              "      <td>171.73</td>\n",
              "      <td>104.28</td>\n",
              "      <td>103.46</td>\n",
              "      <td>4.04</td>\n",
              "      <td>3.48</td>\n",
              "      <td>112.54</td>\n",
              "    </tr>\n",
              "  </tbody>\n",
              "</table>\n",
              "</div>\n",
              "      <button class=\"colab-df-convert\" onclick=\"convertToInteractive('df-0c1b9f13-c7ff-4829-ba7d-eb7484eb7ef5')\"\n",
              "              title=\"Convert this dataframe to an interactive table.\"\n",
              "              style=\"display:none;\">\n",
              "        \n",
              "  <svg xmlns=\"http://www.w3.org/2000/svg\" height=\"24px\"viewBox=\"0 0 24 24\"\n",
              "       width=\"24px\">\n",
              "    <path d=\"M0 0h24v24H0V0z\" fill=\"none\"/>\n",
              "    <path d=\"M18.56 5.44l.94 2.06.94-2.06 2.06-.94-2.06-.94-.94-2.06-.94 2.06-2.06.94zm-11 1L8.5 8.5l.94-2.06 2.06-.94-2.06-.94L8.5 2.5l-.94 2.06-2.06.94zm10 10l.94 2.06.94-2.06 2.06-.94-2.06-.94-.94-2.06-.94 2.06-2.06.94z\"/><path d=\"M17.41 7.96l-1.37-1.37c-.4-.4-.92-.59-1.43-.59-.52 0-1.04.2-1.43.59L10.3 9.45l-7.72 7.72c-.78.78-.78 2.05 0 2.83L4 21.41c.39.39.9.59 1.41.59.51 0 1.02-.2 1.41-.59l7.78-7.78 2.81-2.81c.8-.78.8-2.07 0-2.86zM5.41 20L4 18.59l7.72-7.72 1.47 1.35L5.41 20z\"/>\n",
              "  </svg>\n",
              "      </button>\n",
              "      \n",
              "  <style>\n",
              "    .colab-df-container {\n",
              "      display:flex;\n",
              "      flex-wrap:wrap;\n",
              "      gap: 12px;\n",
              "    }\n",
              "\n",
              "    .colab-df-convert {\n",
              "      background-color: #E8F0FE;\n",
              "      border: none;\n",
              "      border-radius: 50%;\n",
              "      cursor: pointer;\n",
              "      display: none;\n",
              "      fill: #1967D2;\n",
              "      height: 32px;\n",
              "      padding: 0 0 0 0;\n",
              "      width: 32px;\n",
              "    }\n",
              "\n",
              "    .colab-df-convert:hover {\n",
              "      background-color: #E2EBFA;\n",
              "      box-shadow: 0px 1px 2px rgba(60, 64, 67, 0.3), 0px 1px 3px 1px rgba(60, 64, 67, 0.15);\n",
              "      fill: #174EA6;\n",
              "    }\n",
              "\n",
              "    [theme=dark] .colab-df-convert {\n",
              "      background-color: #3B4455;\n",
              "      fill: #D2E3FC;\n",
              "    }\n",
              "\n",
              "    [theme=dark] .colab-df-convert:hover {\n",
              "      background-color: #434B5C;\n",
              "      box-shadow: 0px 1px 3px 1px rgba(0, 0, 0, 0.15);\n",
              "      filter: drop-shadow(0px 1px 2px rgba(0, 0, 0, 0.3));\n",
              "      fill: #FFFFFF;\n",
              "    }\n",
              "  </style>\n",
              "\n",
              "      <script>\n",
              "        const buttonEl =\n",
              "          document.querySelector('#df-0c1b9f13-c7ff-4829-ba7d-eb7484eb7ef5 button.colab-df-convert');\n",
              "        buttonEl.style.display =\n",
              "          google.colab.kernel.accessAllowed ? 'block' : 'none';\n",
              "\n",
              "        async function convertToInteractive(key) {\n",
              "          const element = document.querySelector('#df-0c1b9f13-c7ff-4829-ba7d-eb7484eb7ef5');\n",
              "          const dataTable =\n",
              "            await google.colab.kernel.invokeFunction('convertToInteractive',\n",
              "                                                     [key], {});\n",
              "          if (!dataTable) return;\n",
              "\n",
              "          const docLinkHtml = 'Like what you see? Visit the ' +\n",
              "            '<a target=\"_blank\" href=https://colab.research.google.com/notebooks/data_table.ipynb>data table notebook</a>'\n",
              "            + ' to learn more about interactive tables.';\n",
              "          element.innerHTML = '';\n",
              "          dataTable['output_type'] = 'display_data';\n",
              "          await google.colab.output.renderOutput(dataTable, element);\n",
              "          const docLink = document.createElement('div');\n",
              "          docLink.innerHTML = docLinkHtml;\n",
              "          element.appendChild(docLink);\n",
              "        }\n",
              "      </script>\n",
              "    </div>\n",
              "  </div>\n",
              "  "
            ]
          },
          "metadata": {},
          "execution_count": 236
        }
      ]
    },
    {
      "cell_type": "markdown",
      "source": [
        "# **<font color='indianred'>Partie 2 : Analyse du jeu de données</font>**"
      ],
      "metadata": {
        "id": "zpdjOlctK2cX"
      }
    },
    {
      "cell_type": "markdown",
      "source": [
        "## <a name=\"C3\"><font color='LightSeaGreen'>Affichage du nombre de lignes et colonnes</font></a>"
      ],
      "metadata": {
        "id": "HWhu9brAK6xd"
      }
    },
    {
      "cell_type": "code",
      "source": [
        "#nombre de lignes et colonnes\n",
        "print('Billets',df_billets.shape)"
      ],
      "metadata": {
        "colab": {
          "base_uri": "https://localhost:8080/"
        },
        "id": "5AjQ1jAF1xaA",
        "outputId": "22d76651-ff48-43a4-ef37-45ba5c15260d"
      },
      "execution_count": 237,
      "outputs": [
        {
          "output_type": "stream",
          "name": "stdout",
          "text": [
            "Billets (1500, 7)\n"
          ]
        }
      ]
    },
    {
      "cell_type": "markdown",
      "source": [
        "## <a name=\"C4\"><font color='LightSeaGreen'>Affichage des informations</font></a>"
      ],
      "metadata": {
        "id": "sPIMtfJGLA2Z"
      }
    },
    {
      "cell_type": "code",
      "source": [
        "print('Table billets')\n",
        "df_billets.info()"
      ],
      "metadata": {
        "colab": {
          "base_uri": "https://localhost:8080/"
        },
        "id": "cnbI18s72ngr",
        "outputId": "9811a4d0-9cc8-4241-cd98-b58d75e3ec4f"
      },
      "execution_count": 238,
      "outputs": [
        {
          "output_type": "stream",
          "name": "stdout",
          "text": [
            "Table billets\n",
            "<class 'pandas.core.frame.DataFrame'>\n",
            "RangeIndex: 1500 entries, 0 to 1499\n",
            "Data columns (total 7 columns):\n",
            " #   Column        Non-Null Count  Dtype  \n",
            "---  ------        --------------  -----  \n",
            " 0   is_genuine    1500 non-null   bool   \n",
            " 1   diagonal      1500 non-null   float64\n",
            " 2   height_left   1500 non-null   float64\n",
            " 3   height_right  1500 non-null   float64\n",
            " 4   margin_low    1463 non-null   float64\n",
            " 5   margin_up     1500 non-null   float64\n",
            " 6   length        1500 non-null   float64\n",
            "dtypes: bool(1), float64(6)\n",
            "memory usage: 71.9 KB\n"
          ]
        }
      ]
    },
    {
      "cell_type": "markdown",
      "source": [
        "###<font color='purple'>Changement des valeurs de la variable nature en 0 et 1</font>"
      ],
      "metadata": {
        "id": "C_iEeTTYMZCd"
      }
    },
    {
      "cell_type": "code",
      "source": [
        "df_billets=df_billets.replace({True : 1 , False : 0}).rename(columns={'is_genuine':'nature'})"
      ],
      "metadata": {
        "id": "g8NO49ggMYZT"
      },
      "execution_count": 239,
      "outputs": []
    },
    {
      "cell_type": "code",
      "source": [
        "#donner un nom aux billets\n",
        "df_billets['code_billet']=\"b\"+(df_billets.index).astype(str)\n",
        "df_billets=df_billets.set_index('code_billet')\n",
        "df_billets"
      ],
      "metadata": {
        "colab": {
          "base_uri": "https://localhost:8080/",
          "height": 455
        },
        "id": "Ga_5vskuiw1Z",
        "outputId": "5a0f4135-c54d-4046-8557-5a040d1b9401"
      },
      "execution_count": 240,
      "outputs": [
        {
          "output_type": "execute_result",
          "data": {
            "text/plain": [
              "             nature  diagonal  height_left  height_right  margin_low  \\\n",
              "code_billet                                                            \n",
              "b0                1    171.81       104.86        104.95        4.52   \n",
              "b1                1    171.46       103.36        103.66        3.77   \n",
              "b2                1    172.69       104.48        103.50        4.40   \n",
              "b3                1    171.36       103.91        103.94        3.62   \n",
              "b4                1    171.73       104.28        103.46        4.04   \n",
              "...             ...       ...          ...           ...         ...   \n",
              "b1495             0    171.75       104.38        104.17        4.42   \n",
              "b1496             0    172.19       104.63        104.44        5.27   \n",
              "b1497             0    171.80       104.01        104.12        5.51   \n",
              "b1498             0    172.06       104.28        104.06        5.17   \n",
              "b1499             0    171.47       104.15        103.82        4.63   \n",
              "\n",
              "             margin_up  length  \n",
              "code_billet                     \n",
              "b0                2.89  112.83  \n",
              "b1                2.99  113.09  \n",
              "b2                2.94  113.16  \n",
              "b3                3.01  113.51  \n",
              "b4                3.48  112.54  \n",
              "...                ...     ...  \n",
              "b1495             3.09  111.28  \n",
              "b1496             3.37  110.97  \n",
              "b1497             3.36  111.95  \n",
              "b1498             3.46  112.25  \n",
              "b1499             3.37  112.07  \n",
              "\n",
              "[1500 rows x 7 columns]"
            ],
            "text/html": [
              "\n",
              "  <div id=\"df-16ba77ce-105d-464e-b7ef-b1f422513706\">\n",
              "    <div class=\"colab-df-container\">\n",
              "      <div>\n",
              "<style scoped>\n",
              "    .dataframe tbody tr th:only-of-type {\n",
              "        vertical-align: middle;\n",
              "    }\n",
              "\n",
              "    .dataframe tbody tr th {\n",
              "        vertical-align: top;\n",
              "    }\n",
              "\n",
              "    .dataframe thead th {\n",
              "        text-align: right;\n",
              "    }\n",
              "</style>\n",
              "<table border=\"1\" class=\"dataframe\">\n",
              "  <thead>\n",
              "    <tr style=\"text-align: right;\">\n",
              "      <th></th>\n",
              "      <th>nature</th>\n",
              "      <th>diagonal</th>\n",
              "      <th>height_left</th>\n",
              "      <th>height_right</th>\n",
              "      <th>margin_low</th>\n",
              "      <th>margin_up</th>\n",
              "      <th>length</th>\n",
              "    </tr>\n",
              "    <tr>\n",
              "      <th>code_billet</th>\n",
              "      <th></th>\n",
              "      <th></th>\n",
              "      <th></th>\n",
              "      <th></th>\n",
              "      <th></th>\n",
              "      <th></th>\n",
              "      <th></th>\n",
              "    </tr>\n",
              "  </thead>\n",
              "  <tbody>\n",
              "    <tr>\n",
              "      <th>b0</th>\n",
              "      <td>1</td>\n",
              "      <td>171.81</td>\n",
              "      <td>104.86</td>\n",
              "      <td>104.95</td>\n",
              "      <td>4.52</td>\n",
              "      <td>2.89</td>\n",
              "      <td>112.83</td>\n",
              "    </tr>\n",
              "    <tr>\n",
              "      <th>b1</th>\n",
              "      <td>1</td>\n",
              "      <td>171.46</td>\n",
              "      <td>103.36</td>\n",
              "      <td>103.66</td>\n",
              "      <td>3.77</td>\n",
              "      <td>2.99</td>\n",
              "      <td>113.09</td>\n",
              "    </tr>\n",
              "    <tr>\n",
              "      <th>b2</th>\n",
              "      <td>1</td>\n",
              "      <td>172.69</td>\n",
              "      <td>104.48</td>\n",
              "      <td>103.50</td>\n",
              "      <td>4.40</td>\n",
              "      <td>2.94</td>\n",
              "      <td>113.16</td>\n",
              "    </tr>\n",
              "    <tr>\n",
              "      <th>b3</th>\n",
              "      <td>1</td>\n",
              "      <td>171.36</td>\n",
              "      <td>103.91</td>\n",
              "      <td>103.94</td>\n",
              "      <td>3.62</td>\n",
              "      <td>3.01</td>\n",
              "      <td>113.51</td>\n",
              "    </tr>\n",
              "    <tr>\n",
              "      <th>b4</th>\n",
              "      <td>1</td>\n",
              "      <td>171.73</td>\n",
              "      <td>104.28</td>\n",
              "      <td>103.46</td>\n",
              "      <td>4.04</td>\n",
              "      <td>3.48</td>\n",
              "      <td>112.54</td>\n",
              "    </tr>\n",
              "    <tr>\n",
              "      <th>...</th>\n",
              "      <td>...</td>\n",
              "      <td>...</td>\n",
              "      <td>...</td>\n",
              "      <td>...</td>\n",
              "      <td>...</td>\n",
              "      <td>...</td>\n",
              "      <td>...</td>\n",
              "    </tr>\n",
              "    <tr>\n",
              "      <th>b1495</th>\n",
              "      <td>0</td>\n",
              "      <td>171.75</td>\n",
              "      <td>104.38</td>\n",
              "      <td>104.17</td>\n",
              "      <td>4.42</td>\n",
              "      <td>3.09</td>\n",
              "      <td>111.28</td>\n",
              "    </tr>\n",
              "    <tr>\n",
              "      <th>b1496</th>\n",
              "      <td>0</td>\n",
              "      <td>172.19</td>\n",
              "      <td>104.63</td>\n",
              "      <td>104.44</td>\n",
              "      <td>5.27</td>\n",
              "      <td>3.37</td>\n",
              "      <td>110.97</td>\n",
              "    </tr>\n",
              "    <tr>\n",
              "      <th>b1497</th>\n",
              "      <td>0</td>\n",
              "      <td>171.80</td>\n",
              "      <td>104.01</td>\n",
              "      <td>104.12</td>\n",
              "      <td>5.51</td>\n",
              "      <td>3.36</td>\n",
              "      <td>111.95</td>\n",
              "    </tr>\n",
              "    <tr>\n",
              "      <th>b1498</th>\n",
              "      <td>0</td>\n",
              "      <td>172.06</td>\n",
              "      <td>104.28</td>\n",
              "      <td>104.06</td>\n",
              "      <td>5.17</td>\n",
              "      <td>3.46</td>\n",
              "      <td>112.25</td>\n",
              "    </tr>\n",
              "    <tr>\n",
              "      <th>b1499</th>\n",
              "      <td>0</td>\n",
              "      <td>171.47</td>\n",
              "      <td>104.15</td>\n",
              "      <td>103.82</td>\n",
              "      <td>4.63</td>\n",
              "      <td>3.37</td>\n",
              "      <td>112.07</td>\n",
              "    </tr>\n",
              "  </tbody>\n",
              "</table>\n",
              "<p>1500 rows × 7 columns</p>\n",
              "</div>\n",
              "      <button class=\"colab-df-convert\" onclick=\"convertToInteractive('df-16ba77ce-105d-464e-b7ef-b1f422513706')\"\n",
              "              title=\"Convert this dataframe to an interactive table.\"\n",
              "              style=\"display:none;\">\n",
              "        \n",
              "  <svg xmlns=\"http://www.w3.org/2000/svg\" height=\"24px\"viewBox=\"0 0 24 24\"\n",
              "       width=\"24px\">\n",
              "    <path d=\"M0 0h24v24H0V0z\" fill=\"none\"/>\n",
              "    <path d=\"M18.56 5.44l.94 2.06.94-2.06 2.06-.94-2.06-.94-.94-2.06-.94 2.06-2.06.94zm-11 1L8.5 8.5l.94-2.06 2.06-.94-2.06-.94L8.5 2.5l-.94 2.06-2.06.94zm10 10l.94 2.06.94-2.06 2.06-.94-2.06-.94-.94-2.06-.94 2.06-2.06.94z\"/><path d=\"M17.41 7.96l-1.37-1.37c-.4-.4-.92-.59-1.43-.59-.52 0-1.04.2-1.43.59L10.3 9.45l-7.72 7.72c-.78.78-.78 2.05 0 2.83L4 21.41c.39.39.9.59 1.41.59.51 0 1.02-.2 1.41-.59l7.78-7.78 2.81-2.81c.8-.78.8-2.07 0-2.86zM5.41 20L4 18.59l7.72-7.72 1.47 1.35L5.41 20z\"/>\n",
              "  </svg>\n",
              "      </button>\n",
              "      \n",
              "  <style>\n",
              "    .colab-df-container {\n",
              "      display:flex;\n",
              "      flex-wrap:wrap;\n",
              "      gap: 12px;\n",
              "    }\n",
              "\n",
              "    .colab-df-convert {\n",
              "      background-color: #E8F0FE;\n",
              "      border: none;\n",
              "      border-radius: 50%;\n",
              "      cursor: pointer;\n",
              "      display: none;\n",
              "      fill: #1967D2;\n",
              "      height: 32px;\n",
              "      padding: 0 0 0 0;\n",
              "      width: 32px;\n",
              "    }\n",
              "\n",
              "    .colab-df-convert:hover {\n",
              "      background-color: #E2EBFA;\n",
              "      box-shadow: 0px 1px 2px rgba(60, 64, 67, 0.3), 0px 1px 3px 1px rgba(60, 64, 67, 0.15);\n",
              "      fill: #174EA6;\n",
              "    }\n",
              "\n",
              "    [theme=dark] .colab-df-convert {\n",
              "      background-color: #3B4455;\n",
              "      fill: #D2E3FC;\n",
              "    }\n",
              "\n",
              "    [theme=dark] .colab-df-convert:hover {\n",
              "      background-color: #434B5C;\n",
              "      box-shadow: 0px 1px 3px 1px rgba(0, 0, 0, 0.15);\n",
              "      filter: drop-shadow(0px 1px 2px rgba(0, 0, 0, 0.3));\n",
              "      fill: #FFFFFF;\n",
              "    }\n",
              "  </style>\n",
              "\n",
              "      <script>\n",
              "        const buttonEl =\n",
              "          document.querySelector('#df-16ba77ce-105d-464e-b7ef-b1f422513706 button.colab-df-convert');\n",
              "        buttonEl.style.display =\n",
              "          google.colab.kernel.accessAllowed ? 'block' : 'none';\n",
              "\n",
              "        async function convertToInteractive(key) {\n",
              "          const element = document.querySelector('#df-16ba77ce-105d-464e-b7ef-b1f422513706');\n",
              "          const dataTable =\n",
              "            await google.colab.kernel.invokeFunction('convertToInteractive',\n",
              "                                                     [key], {});\n",
              "          if (!dataTable) return;\n",
              "\n",
              "          const docLinkHtml = 'Like what you see? Visit the ' +\n",
              "            '<a target=\"_blank\" href=https://colab.research.google.com/notebooks/data_table.ipynb>data table notebook</a>'\n",
              "            + ' to learn more about interactive tables.';\n",
              "          element.innerHTML = '';\n",
              "          dataTable['output_type'] = 'display_data';\n",
              "          await google.colab.output.renderOutput(dataTable, element);\n",
              "          const docLink = document.createElement('div');\n",
              "          docLink.innerHTML = docLinkHtml;\n",
              "          element.appendChild(docLink);\n",
              "        }\n",
              "      </script>\n",
              "    </div>\n",
              "  </div>\n",
              "  "
            ]
          },
          "metadata": {},
          "execution_count": 240
        }
      ]
    },
    {
      "cell_type": "code",
      "source": [
        "df_billets['nature'].value_counts()"
      ],
      "metadata": {
        "colab": {
          "base_uri": "https://localhost:8080/"
        },
        "id": "wua_kQY2L90K",
        "outputId": "742ddb20-a739-4a58-cf57-5e75d3214064"
      },
      "execution_count": 241,
      "outputs": [
        {
          "output_type": "execute_result",
          "data": {
            "text/plain": [
              "1    1000\n",
              "0     500\n",
              "Name: nature, dtype: int64"
            ]
          },
          "metadata": {},
          "execution_count": 241
        }
      ]
    },
    {
      "cell_type": "markdown",
      "source": [
        "Il y a 1000 vrais billets et 500 faux billets."
      ],
      "metadata": {
        "id": "EzHUFtS4MID7"
      }
    },
    {
      "cell_type": "markdown",
      "source": [
        "###<font color='purple'>Analyse statistique</font>"
      ],
      "metadata": {
        "id": "Q6S5R4HeM7AY"
      }
    },
    {
      "cell_type": "code",
      "source": [
        "df_billets.describe()"
      ],
      "metadata": {
        "colab": {
          "base_uri": "https://localhost:8080/",
          "height": 300
        },
        "id": "KqvEk1Ck3KrY",
        "outputId": "c8450af0-fd19-423b-ff9b-50367a4dede5"
      },
      "execution_count": 242,
      "outputs": [
        {
          "output_type": "execute_result",
          "data": {
            "text/plain": [
              "            nature     diagonal  height_left  height_right   margin_low  \\\n",
              "count  1500.000000  1500.000000  1500.000000   1500.000000  1463.000000   \n",
              "mean      0.666667   171.958440   104.029533    103.920307     4.485967   \n",
              "std       0.471562     0.305195     0.299462      0.325627     0.663813   \n",
              "min       0.000000   171.040000   103.140000    102.820000     2.980000   \n",
              "25%       0.000000   171.750000   103.820000    103.710000     4.015000   \n",
              "50%       1.000000   171.960000   104.040000    103.920000     4.310000   \n",
              "75%       1.000000   172.170000   104.230000    104.150000     4.870000   \n",
              "max       1.000000   173.010000   104.880000    104.950000     6.900000   \n",
              "\n",
              "         margin_up      length  \n",
              "count  1500.000000  1500.00000  \n",
              "mean      3.151473   112.67850  \n",
              "std       0.231813     0.87273  \n",
              "min       2.270000   109.49000  \n",
              "25%       2.990000   112.03000  \n",
              "50%       3.140000   112.96000  \n",
              "75%       3.310000   113.34000  \n",
              "max       3.910000   114.44000  "
            ],
            "text/html": [
              "\n",
              "  <div id=\"df-f4425dc8-34ad-4ce8-a040-ba356e134718\">\n",
              "    <div class=\"colab-df-container\">\n",
              "      <div>\n",
              "<style scoped>\n",
              "    .dataframe tbody tr th:only-of-type {\n",
              "        vertical-align: middle;\n",
              "    }\n",
              "\n",
              "    .dataframe tbody tr th {\n",
              "        vertical-align: top;\n",
              "    }\n",
              "\n",
              "    .dataframe thead th {\n",
              "        text-align: right;\n",
              "    }\n",
              "</style>\n",
              "<table border=\"1\" class=\"dataframe\">\n",
              "  <thead>\n",
              "    <tr style=\"text-align: right;\">\n",
              "      <th></th>\n",
              "      <th>nature</th>\n",
              "      <th>diagonal</th>\n",
              "      <th>height_left</th>\n",
              "      <th>height_right</th>\n",
              "      <th>margin_low</th>\n",
              "      <th>margin_up</th>\n",
              "      <th>length</th>\n",
              "    </tr>\n",
              "  </thead>\n",
              "  <tbody>\n",
              "    <tr>\n",
              "      <th>count</th>\n",
              "      <td>1500.000000</td>\n",
              "      <td>1500.000000</td>\n",
              "      <td>1500.000000</td>\n",
              "      <td>1500.000000</td>\n",
              "      <td>1463.000000</td>\n",
              "      <td>1500.000000</td>\n",
              "      <td>1500.00000</td>\n",
              "    </tr>\n",
              "    <tr>\n",
              "      <th>mean</th>\n",
              "      <td>0.666667</td>\n",
              "      <td>171.958440</td>\n",
              "      <td>104.029533</td>\n",
              "      <td>103.920307</td>\n",
              "      <td>4.485967</td>\n",
              "      <td>3.151473</td>\n",
              "      <td>112.67850</td>\n",
              "    </tr>\n",
              "    <tr>\n",
              "      <th>std</th>\n",
              "      <td>0.471562</td>\n",
              "      <td>0.305195</td>\n",
              "      <td>0.299462</td>\n",
              "      <td>0.325627</td>\n",
              "      <td>0.663813</td>\n",
              "      <td>0.231813</td>\n",
              "      <td>0.87273</td>\n",
              "    </tr>\n",
              "    <tr>\n",
              "      <th>min</th>\n",
              "      <td>0.000000</td>\n",
              "      <td>171.040000</td>\n",
              "      <td>103.140000</td>\n",
              "      <td>102.820000</td>\n",
              "      <td>2.980000</td>\n",
              "      <td>2.270000</td>\n",
              "      <td>109.49000</td>\n",
              "    </tr>\n",
              "    <tr>\n",
              "      <th>25%</th>\n",
              "      <td>0.000000</td>\n",
              "      <td>171.750000</td>\n",
              "      <td>103.820000</td>\n",
              "      <td>103.710000</td>\n",
              "      <td>4.015000</td>\n",
              "      <td>2.990000</td>\n",
              "      <td>112.03000</td>\n",
              "    </tr>\n",
              "    <tr>\n",
              "      <th>50%</th>\n",
              "      <td>1.000000</td>\n",
              "      <td>171.960000</td>\n",
              "      <td>104.040000</td>\n",
              "      <td>103.920000</td>\n",
              "      <td>4.310000</td>\n",
              "      <td>3.140000</td>\n",
              "      <td>112.96000</td>\n",
              "    </tr>\n",
              "    <tr>\n",
              "      <th>75%</th>\n",
              "      <td>1.000000</td>\n",
              "      <td>172.170000</td>\n",
              "      <td>104.230000</td>\n",
              "      <td>104.150000</td>\n",
              "      <td>4.870000</td>\n",
              "      <td>3.310000</td>\n",
              "      <td>113.34000</td>\n",
              "    </tr>\n",
              "    <tr>\n",
              "      <th>max</th>\n",
              "      <td>1.000000</td>\n",
              "      <td>173.010000</td>\n",
              "      <td>104.880000</td>\n",
              "      <td>104.950000</td>\n",
              "      <td>6.900000</td>\n",
              "      <td>3.910000</td>\n",
              "      <td>114.44000</td>\n",
              "    </tr>\n",
              "  </tbody>\n",
              "</table>\n",
              "</div>\n",
              "      <button class=\"colab-df-convert\" onclick=\"convertToInteractive('df-f4425dc8-34ad-4ce8-a040-ba356e134718')\"\n",
              "              title=\"Convert this dataframe to an interactive table.\"\n",
              "              style=\"display:none;\">\n",
              "        \n",
              "  <svg xmlns=\"http://www.w3.org/2000/svg\" height=\"24px\"viewBox=\"0 0 24 24\"\n",
              "       width=\"24px\">\n",
              "    <path d=\"M0 0h24v24H0V0z\" fill=\"none\"/>\n",
              "    <path d=\"M18.56 5.44l.94 2.06.94-2.06 2.06-.94-2.06-.94-.94-2.06-.94 2.06-2.06.94zm-11 1L8.5 8.5l.94-2.06 2.06-.94-2.06-.94L8.5 2.5l-.94 2.06-2.06.94zm10 10l.94 2.06.94-2.06 2.06-.94-2.06-.94-.94-2.06-.94 2.06-2.06.94z\"/><path d=\"M17.41 7.96l-1.37-1.37c-.4-.4-.92-.59-1.43-.59-.52 0-1.04.2-1.43.59L10.3 9.45l-7.72 7.72c-.78.78-.78 2.05 0 2.83L4 21.41c.39.39.9.59 1.41.59.51 0 1.02-.2 1.41-.59l7.78-7.78 2.81-2.81c.8-.78.8-2.07 0-2.86zM5.41 20L4 18.59l7.72-7.72 1.47 1.35L5.41 20z\"/>\n",
              "  </svg>\n",
              "      </button>\n",
              "      \n",
              "  <style>\n",
              "    .colab-df-container {\n",
              "      display:flex;\n",
              "      flex-wrap:wrap;\n",
              "      gap: 12px;\n",
              "    }\n",
              "\n",
              "    .colab-df-convert {\n",
              "      background-color: #E8F0FE;\n",
              "      border: none;\n",
              "      border-radius: 50%;\n",
              "      cursor: pointer;\n",
              "      display: none;\n",
              "      fill: #1967D2;\n",
              "      height: 32px;\n",
              "      padding: 0 0 0 0;\n",
              "      width: 32px;\n",
              "    }\n",
              "\n",
              "    .colab-df-convert:hover {\n",
              "      background-color: #E2EBFA;\n",
              "      box-shadow: 0px 1px 2px rgba(60, 64, 67, 0.3), 0px 1px 3px 1px rgba(60, 64, 67, 0.15);\n",
              "      fill: #174EA6;\n",
              "    }\n",
              "\n",
              "    [theme=dark] .colab-df-convert {\n",
              "      background-color: #3B4455;\n",
              "      fill: #D2E3FC;\n",
              "    }\n",
              "\n",
              "    [theme=dark] .colab-df-convert:hover {\n",
              "      background-color: #434B5C;\n",
              "      box-shadow: 0px 1px 3px 1px rgba(0, 0, 0, 0.15);\n",
              "      filter: drop-shadow(0px 1px 2px rgba(0, 0, 0, 0.3));\n",
              "      fill: #FFFFFF;\n",
              "    }\n",
              "  </style>\n",
              "\n",
              "      <script>\n",
              "        const buttonEl =\n",
              "          document.querySelector('#df-f4425dc8-34ad-4ce8-a040-ba356e134718 button.colab-df-convert');\n",
              "        buttonEl.style.display =\n",
              "          google.colab.kernel.accessAllowed ? 'block' : 'none';\n",
              "\n",
              "        async function convertToInteractive(key) {\n",
              "          const element = document.querySelector('#df-f4425dc8-34ad-4ce8-a040-ba356e134718');\n",
              "          const dataTable =\n",
              "            await google.colab.kernel.invokeFunction('convertToInteractive',\n",
              "                                                     [key], {});\n",
              "          if (!dataTable) return;\n",
              "\n",
              "          const docLinkHtml = 'Like what you see? Visit the ' +\n",
              "            '<a target=\"_blank\" href=https://colab.research.google.com/notebooks/data_table.ipynb>data table notebook</a>'\n",
              "            + ' to learn more about interactive tables.';\n",
              "          element.innerHTML = '';\n",
              "          dataTable['output_type'] = 'display_data';\n",
              "          await google.colab.output.renderOutput(dataTable, element);\n",
              "          const docLink = document.createElement('div');\n",
              "          docLink.innerHTML = docLinkHtml;\n",
              "          element.appendChild(docLink);\n",
              "        }\n",
              "      </script>\n",
              "    </div>\n",
              "  </div>\n",
              "  "
            ]
          },
          "metadata": {},
          "execution_count": 242
        }
      ]
    },
    {
      "cell_type": "markdown",
      "source": [
        "## <a name=\"C7\"><font color='LightSeaGreen'>Analyse des doublons</font></a>"
      ],
      "metadata": {
        "id": "ppVTvjEiLO5V"
      }
    },
    {
      "cell_type": "code",
      "source": [
        "#Fonction qui detecte les doublons\n",
        "def detect_doublons(df):\n",
        "    doub=df[df[df.columns].duplicated(subset=None, keep='first')]\n",
        "    print('------------------') \n",
        "    print('La table contient', len(doub), 'doublons.')\n",
        "    print(doub.shape)\n",
        "    print('\\n') \n",
        "    print(doub)\n",
        "    print('\\n')"
      ],
      "metadata": {
        "id": "eaiTOwbS23SA"
      },
      "execution_count": 243,
      "outputs": []
    },
    {
      "cell_type": "code",
      "source": [
        "detect_doublons(df_billets)"
      ],
      "metadata": {
        "colab": {
          "base_uri": "https://localhost:8080/"
        },
        "id": "8IL9uYQB3B5B",
        "outputId": "86232015-30b0-4547-f379-85731ab281e8"
      },
      "execution_count": 244,
      "outputs": [
        {
          "output_type": "stream",
          "name": "stdout",
          "text": [
            "------------------\n",
            "La table contient 0 doublons.\n",
            "(0, 7)\n",
            "\n",
            "\n",
            "Empty DataFrame\n",
            "Columns: [nature, diagonal, height_left, height_right, margin_low, margin_up, length]\n",
            "Index: []\n",
            "\n",
            "\n"
          ]
        }
      ]
    },
    {
      "cell_type": "markdown",
      "source": [
        "## <a name=\"C5\"><font color='LightSeaGreen'>Analyse des valeurs manquantes</font></a>"
      ],
      "metadata": {
        "id": "-jAUnJLvLVdI"
      }
    },
    {
      "cell_type": "code",
      "source": [
        "#Création d'une fonction calculant le pourcentage de valeurs manquantes \n",
        "#et affichant une heatmap pour visualiser les valeurs manquantes \n",
        "def val_manq(df):\n",
        "    ligne,colonne=df.shape\n",
        "    nb_cell=ligne*colonne\n",
        "    nb_null=df.isnull().sum().sum()\n",
        "    prct=nb_null *100/nb_cell\n",
        "    print('Nombre de valeurs manquantes =',nb_null)\n",
        "    print('Nombre de cellulles totales =',nb_cell)\n",
        "    print('Pourcentage de valeurs manquantes = ',round(prct,2),'%') \n",
        "    print('\\n')\n",
        "    #print('Pourcentage de valeurs manquantes avec le nombre de colonnes =\\n',(df.isna().sum()).value_counts(ascending=True))\n",
        "    #Calcul des pourcentages de valeurs manquantes par variable(colonne)\n",
        "    print('\\n')\n",
        "    print('Pourcentage de valeurs manquantes par variable/colonne =\\n', \n",
        "          (df.isna().sum()).sort_values(ascending=True))\n",
        "    print('\\n')"
      ],
      "metadata": {
        "id": "tD3NyN8z2uRP"
      },
      "execution_count": 245,
      "outputs": []
    },
    {
      "cell_type": "code",
      "source": [
        "val_manq(df_billets)"
      ],
      "metadata": {
        "colab": {
          "base_uri": "https://localhost:8080/"
        },
        "id": "So64ec4-2zu8",
        "outputId": "d9cfddd2-6f6f-456e-ea97-a9857a649552"
      },
      "execution_count": 246,
      "outputs": [
        {
          "output_type": "stream",
          "name": "stdout",
          "text": [
            "Nombre de valeurs manquantes = 37\n",
            "Nombre de cellulles totales = 10500\n",
            "Pourcentage de valeurs manquantes =  0.35 %\n",
            "\n",
            "\n",
            "\n",
            "\n",
            "Pourcentage de valeurs manquantes par variable/colonne =\n",
            " nature           0\n",
            "diagonal         0\n",
            "height_left      0\n",
            "height_right     0\n",
            "margin_up        0\n",
            "length           0\n",
            "margin_low      37\n",
            "dtype: int64\n",
            "\n",
            "\n"
          ]
        }
      ]
    },
    {
      "cell_type": "markdown",
      "source": [
        "###<font color='purple'>Imputation par la moyenne</font>"
      ],
      "metadata": {
        "id": "_H9YBqGuQzqe"
      }
    },
    {
      "cell_type": "code",
      "source": [
        "#calcul de la moyenne de la variable margin_low\n",
        "#moyenne_marge_bas=round(df_billets['margin_low'].mean(),2)\n",
        "#moyenne_marge_bas"
      ],
      "metadata": {
        "id": "6qIaltW5OXul"
      },
      "execution_count": 247,
      "outputs": []
    },
    {
      "cell_type": "code",
      "source": [
        "#lignes où il y a au moins une valeur nulle\n",
        "df_billets[df_billets.isnull().any(axis=1)].head()"
      ],
      "metadata": {
        "colab": {
          "base_uri": "https://localhost:8080/",
          "height": 238
        },
        "id": "LPOfHbipQUG4",
        "outputId": "2b9d00eb-dd1d-4242-ea67-eb2882bcaf7a"
      },
      "execution_count": 248,
      "outputs": [
        {
          "output_type": "execute_result",
          "data": {
            "text/plain": [
              "             nature  diagonal  height_left  height_right  margin_low  \\\n",
              "code_billet                                                            \n",
              "b72               1    171.94       103.89        103.45         NaN   \n",
              "b99               1    171.93       104.07        104.18         NaN   \n",
              "b151              1    172.07       103.80        104.38         NaN   \n",
              "b197              1    171.45       103.66        103.80         NaN   \n",
              "b241              1    171.83       104.14        104.06         NaN   \n",
              "\n",
              "             margin_up  length  \n",
              "code_billet                     \n",
              "b72               3.25  112.79  \n",
              "b99               3.14  113.08  \n",
              "b151              3.02  112.93  \n",
              "b197              3.62  113.27  \n",
              "b241              3.02  112.36  "
            ],
            "text/html": [
              "\n",
              "  <div id=\"df-02feda54-7869-43cc-a297-e417fd80f377\">\n",
              "    <div class=\"colab-df-container\">\n",
              "      <div>\n",
              "<style scoped>\n",
              "    .dataframe tbody tr th:only-of-type {\n",
              "        vertical-align: middle;\n",
              "    }\n",
              "\n",
              "    .dataframe tbody tr th {\n",
              "        vertical-align: top;\n",
              "    }\n",
              "\n",
              "    .dataframe thead th {\n",
              "        text-align: right;\n",
              "    }\n",
              "</style>\n",
              "<table border=\"1\" class=\"dataframe\">\n",
              "  <thead>\n",
              "    <tr style=\"text-align: right;\">\n",
              "      <th></th>\n",
              "      <th>nature</th>\n",
              "      <th>diagonal</th>\n",
              "      <th>height_left</th>\n",
              "      <th>height_right</th>\n",
              "      <th>margin_low</th>\n",
              "      <th>margin_up</th>\n",
              "      <th>length</th>\n",
              "    </tr>\n",
              "    <tr>\n",
              "      <th>code_billet</th>\n",
              "      <th></th>\n",
              "      <th></th>\n",
              "      <th></th>\n",
              "      <th></th>\n",
              "      <th></th>\n",
              "      <th></th>\n",
              "      <th></th>\n",
              "    </tr>\n",
              "  </thead>\n",
              "  <tbody>\n",
              "    <tr>\n",
              "      <th>b72</th>\n",
              "      <td>1</td>\n",
              "      <td>171.94</td>\n",
              "      <td>103.89</td>\n",
              "      <td>103.45</td>\n",
              "      <td>NaN</td>\n",
              "      <td>3.25</td>\n",
              "      <td>112.79</td>\n",
              "    </tr>\n",
              "    <tr>\n",
              "      <th>b99</th>\n",
              "      <td>1</td>\n",
              "      <td>171.93</td>\n",
              "      <td>104.07</td>\n",
              "      <td>104.18</td>\n",
              "      <td>NaN</td>\n",
              "      <td>3.14</td>\n",
              "      <td>113.08</td>\n",
              "    </tr>\n",
              "    <tr>\n",
              "      <th>b151</th>\n",
              "      <td>1</td>\n",
              "      <td>172.07</td>\n",
              "      <td>103.80</td>\n",
              "      <td>104.38</td>\n",
              "      <td>NaN</td>\n",
              "      <td>3.02</td>\n",
              "      <td>112.93</td>\n",
              "    </tr>\n",
              "    <tr>\n",
              "      <th>b197</th>\n",
              "      <td>1</td>\n",
              "      <td>171.45</td>\n",
              "      <td>103.66</td>\n",
              "      <td>103.80</td>\n",
              "      <td>NaN</td>\n",
              "      <td>3.62</td>\n",
              "      <td>113.27</td>\n",
              "    </tr>\n",
              "    <tr>\n",
              "      <th>b241</th>\n",
              "      <td>1</td>\n",
              "      <td>171.83</td>\n",
              "      <td>104.14</td>\n",
              "      <td>104.06</td>\n",
              "      <td>NaN</td>\n",
              "      <td>3.02</td>\n",
              "      <td>112.36</td>\n",
              "    </tr>\n",
              "  </tbody>\n",
              "</table>\n",
              "</div>\n",
              "      <button class=\"colab-df-convert\" onclick=\"convertToInteractive('df-02feda54-7869-43cc-a297-e417fd80f377')\"\n",
              "              title=\"Convert this dataframe to an interactive table.\"\n",
              "              style=\"display:none;\">\n",
              "        \n",
              "  <svg xmlns=\"http://www.w3.org/2000/svg\" height=\"24px\"viewBox=\"0 0 24 24\"\n",
              "       width=\"24px\">\n",
              "    <path d=\"M0 0h24v24H0V0z\" fill=\"none\"/>\n",
              "    <path d=\"M18.56 5.44l.94 2.06.94-2.06 2.06-.94-2.06-.94-.94-2.06-.94 2.06-2.06.94zm-11 1L8.5 8.5l.94-2.06 2.06-.94-2.06-.94L8.5 2.5l-.94 2.06-2.06.94zm10 10l.94 2.06.94-2.06 2.06-.94-2.06-.94-.94-2.06-.94 2.06-2.06.94z\"/><path d=\"M17.41 7.96l-1.37-1.37c-.4-.4-.92-.59-1.43-.59-.52 0-1.04.2-1.43.59L10.3 9.45l-7.72 7.72c-.78.78-.78 2.05 0 2.83L4 21.41c.39.39.9.59 1.41.59.51 0 1.02-.2 1.41-.59l7.78-7.78 2.81-2.81c.8-.78.8-2.07 0-2.86zM5.41 20L4 18.59l7.72-7.72 1.47 1.35L5.41 20z\"/>\n",
              "  </svg>\n",
              "      </button>\n",
              "      \n",
              "  <style>\n",
              "    .colab-df-container {\n",
              "      display:flex;\n",
              "      flex-wrap:wrap;\n",
              "      gap: 12px;\n",
              "    }\n",
              "\n",
              "    .colab-df-convert {\n",
              "      background-color: #E8F0FE;\n",
              "      border: none;\n",
              "      border-radius: 50%;\n",
              "      cursor: pointer;\n",
              "      display: none;\n",
              "      fill: #1967D2;\n",
              "      height: 32px;\n",
              "      padding: 0 0 0 0;\n",
              "      width: 32px;\n",
              "    }\n",
              "\n",
              "    .colab-df-convert:hover {\n",
              "      background-color: #E2EBFA;\n",
              "      box-shadow: 0px 1px 2px rgba(60, 64, 67, 0.3), 0px 1px 3px 1px rgba(60, 64, 67, 0.15);\n",
              "      fill: #174EA6;\n",
              "    }\n",
              "\n",
              "    [theme=dark] .colab-df-convert {\n",
              "      background-color: #3B4455;\n",
              "      fill: #D2E3FC;\n",
              "    }\n",
              "\n",
              "    [theme=dark] .colab-df-convert:hover {\n",
              "      background-color: #434B5C;\n",
              "      box-shadow: 0px 1px 3px 1px rgba(0, 0, 0, 0.15);\n",
              "      filter: drop-shadow(0px 1px 2px rgba(0, 0, 0, 0.3));\n",
              "      fill: #FFFFFF;\n",
              "    }\n",
              "  </style>\n",
              "\n",
              "      <script>\n",
              "        const buttonEl =\n",
              "          document.querySelector('#df-02feda54-7869-43cc-a297-e417fd80f377 button.colab-df-convert');\n",
              "        buttonEl.style.display =\n",
              "          google.colab.kernel.accessAllowed ? 'block' : 'none';\n",
              "\n",
              "        async function convertToInteractive(key) {\n",
              "          const element = document.querySelector('#df-02feda54-7869-43cc-a297-e417fd80f377');\n",
              "          const dataTable =\n",
              "            await google.colab.kernel.invokeFunction('convertToInteractive',\n",
              "                                                     [key], {});\n",
              "          if (!dataTable) return;\n",
              "\n",
              "          const docLinkHtml = 'Like what you see? Visit the ' +\n",
              "            '<a target=\"_blank\" href=https://colab.research.google.com/notebooks/data_table.ipynb>data table notebook</a>'\n",
              "            + ' to learn more about interactive tables.';\n",
              "          element.innerHTML = '';\n",
              "          dataTable['output_type'] = 'display_data';\n",
              "          await google.colab.output.renderOutput(dataTable, element);\n",
              "          const docLink = document.createElement('div');\n",
              "          docLink.innerHTML = docLinkHtml;\n",
              "          element.appendChild(docLink);\n",
              "        }\n",
              "      </script>\n",
              "    </div>\n",
              "  </div>\n",
              "  "
            ]
          },
          "metadata": {},
          "execution_count": 248
        }
      ]
    },
    {
      "cell_type": "code",
      "source": [
        "#remplacement des valeurs nulles par la moyenne de margin_low\n",
        "#df_billets=df_billets.fillna(moyenne_marge_bas)"
      ],
      "metadata": {
        "id": "dAhvCLlaOi-I"
      },
      "execution_count": 249,
      "outputs": []
    },
    {
      "cell_type": "markdown",
      "source": [
        "# **<font color='indianred'>Partie 3 : Analyse univariée des variables</font>**"
      ],
      "metadata": {
        "id": "G7kZlcHsWJZL"
      }
    },
    {
      "cell_type": "markdown",
      "source": [
        "## <a name=\"C11\"><font color='LightSeaGreen'>diagonal</font></a>"
      ],
      "metadata": {
        "id": "nPcT13UAWOiO"
      }
    },
    {
      "cell_type": "code",
      "source": [
        "#Représentation la variable diagonal sous forme de boxplot\n",
        "plt.figure(figsize=(12, 3))\n",
        "sns.set(style=\"darkgrid\")\n",
        "sns.boxplot(x=df_billets[\"diagonal\"], color=\"b\")\n",
        "plt.title('Distribution de la variable diagonal')\n",
        "plt.savefig(\"distribution_diagonal_boxplot.png\")\n",
        "plt.show"
      ],
      "metadata": {
        "colab": {
          "base_uri": "https://localhost:8080/",
          "height": 264
        },
        "id": "OaHnXC2ZPYuv",
        "outputId": "65e1abd0-27a3-4513-ef48-a2aeb1624aed"
      },
      "execution_count": 250,
      "outputs": [
        {
          "output_type": "execute_result",
          "data": {
            "text/plain": [
              "<function matplotlib.pyplot.show(*args, **kw)>"
            ]
          },
          "metadata": {},
          "execution_count": 250
        },
        {
          "output_type": "display_data",
          "data": {
            "text/plain": [
              "<Figure size 864x216 with 1 Axes>"
            ],
            "image/png": "[encoded data removed]"
          },
          "metadata": {}
        }
      ]
    },
    {
      "cell_type": "code",
      "source": [
        "#détecte les outliers et les filtre pour avoir un nouveau dataframe sans outliers\n",
        "def liste_outliers(df, colonne):\n",
        "  #1er quartile\n",
        "  q1 = df[colonne].quantile(0.25)\n",
        "  #3eme quartile\n",
        "  q3 = df[colonne].quantile(0.75)\n",
        "  #écart interquatile\n",
        "  iqr = q3 - q1\n",
        "  print('Ecart interquatile =', round(iqr,2))\n",
        "  seuil_min = q1 -(1.5 * iqr) \n",
        "  seuil_max = q3 +(1.5 * iqr)\n",
        "  print('Seuil minimum =', round(seuil_min,2))\n",
        "  print('Seuil maximum =', round(seuil_max,2))\n",
        "\n",
        "  #dataframe des outliers\n",
        "  dfo = df[(df[colonne] < seuil_min) | (df[colonne] > seuil_max)]\n",
        "  #liste des outliers\n",
        "  liste_out=(dfo[colonne].tolist())\n",
        "  print('Nombre doutliers:', len(liste_out))\n",
        "  print('Liste des outliers :', liste_out)\n",
        "  print('\\n')"
      ],
      "metadata": {
        "id": "T28HGbRZc2sg"
      },
      "execution_count": 251,
      "outputs": []
    },
    {
      "cell_type": "code",
      "source": [
        "#affichage des outliers \n",
        "liste_outliers(df_billets, 'diagonal')"
      ],
      "metadata": {
        "colab": {
          "base_uri": "https://localhost:8080/"
        },
        "id": "CkO9odDth_bO",
        "outputId": "2c7a956f-0137-44a9-fcf4-3a725ab737b7"
      },
      "execution_count": 252,
      "outputs": [
        {
          "output_type": "stream",
          "name": "stdout",
          "text": [
            "Ecart interquatile = 0.42\n",
            "Seuil minimum = 171.12\n",
            "Seuil maximum = 172.8\n",
            "Nombre doutliers: 7\n",
            "Liste des outliers : [171.04, 172.92, 172.89, 172.89, 171.04, 173.01, 171.05]\n",
            "\n",
            "\n"
          ]
        }
      ]
    },
    {
      "cell_type": "code",
      "source": [
        "l=[171.04, 172.92, 172.89, 172.89, 171.04, 173.01, 171.05]\n",
        "df_billets[df_billets['diagonal'].isin (l)].sort_values('diagonal')"
      ],
      "metadata": {
        "colab": {
          "base_uri": "https://localhost:8080/",
          "height": 300
        },
        "id": "gOqD3vLcqYz2",
        "outputId": "7da2b59b-898f-42d9-ec28-fa1536dcd55b"
      },
      "execution_count": 253,
      "outputs": [
        {
          "output_type": "execute_result",
          "data": {
            "text/plain": [
              "             nature  diagonal  height_left  height_right  margin_low  \\\n",
              "code_billet                                                            \n",
              "b729              1    171.04       103.84        103.64        4.22   \n",
              "b1142             0    171.04       104.23        104.22        4.87   \n",
              "b1388             0    171.05       104.09        104.50        4.72   \n",
              "b842              1    172.89       103.77        104.24        4.12   \n",
              "b1022             0    172.89       104.03        104.03        6.03   \n",
              "b828              1    172.92       103.55        103.94        4.78   \n",
              "b1277             0    173.01       104.59        104.31        5.04   \n",
              "\n",
              "             margin_up  length  \n",
              "code_billet                     \n",
              "b729              3.36  112.70  \n",
              "b1142             3.56  111.54  \n",
              "b1388             3.10  112.44  \n",
              "b842              3.01  113.72  \n",
              "b1022             3.00  110.95  \n",
              "b828              3.27  113.55  \n",
              "b1277             3.05  110.91  "
            ],
            "text/html": [
              "\n",
              "  <div id=\"df-708b87ba-41d7-4edf-ba9f-0d9fa3e8865c\">\n",
              "    <div class=\"colab-df-container\">\n",
              "      <div>\n",
              "<style scoped>\n",
              "    .dataframe tbody tr th:only-of-type {\n",
              "        vertical-align: middle;\n",
              "    }\n",
              "\n",
              "    .dataframe tbody tr th {\n",
              "        vertical-align: top;\n",
              "    }\n",
              "\n",
              "    .dataframe thead th {\n",
              "        text-align: right;\n",
              "    }\n",
              "</style>\n",
              "<table border=\"1\" class=\"dataframe\">\n",
              "  <thead>\n",
              "    <tr style=\"text-align: right;\">\n",
              "      <th></th>\n",
              "      <th>nature</th>\n",
              "      <th>diagonal</th>\n",
              "      <th>height_left</th>\n",
              "      <th>height_right</th>\n",
              "      <th>margin_low</th>\n",
              "      <th>margin_up</th>\n",
              "      <th>length</th>\n",
              "    </tr>\n",
              "    <tr>\n",
              "      <th>code_billet</th>\n",
              "      <th></th>\n",
              "      <th></th>\n",
              "      <th></th>\n",
              "      <th></th>\n",
              "      <th></th>\n",
              "      <th></th>\n",
              "      <th></th>\n",
              "    </tr>\n",
              "  </thead>\n",
              "  <tbody>\n",
              "    <tr>\n",
              "      <th>b729</th>\n",
              "      <td>1</td>\n",
              "      <td>171.04</td>\n",
              "      <td>103.84</td>\n",
              "      <td>103.64</td>\n",
              "      <td>4.22</td>\n",
              "      <td>3.36</td>\n",
              "      <td>112.70</td>\n",
              "    </tr>\n",
              "    <tr>\n",
              "      <th>b1142</th>\n",
              "      <td>0</td>\n",
              "      <td>171.04</td>\n",
              "      <td>104.23</td>\n",
              "      <td>104.22</td>\n",
              "      <td>4.87</td>\n",
              "      <td>3.56</td>\n",
              "      <td>111.54</td>\n",
              "    </tr>\n",
              "    <tr>\n",
              "      <th>b1388</th>\n",
              "      <td>0</td>\n",
              "      <td>171.05</td>\n",
              "      <td>104.09</td>\n",
              "      <td>104.50</td>\n",
              "      <td>4.72</td>\n",
              "      <td>3.10</td>\n",
              "      <td>112.44</td>\n",
              "    </tr>\n",
              "    <tr>\n",
              "      <th>b842</th>\n",
              "      <td>1</td>\n",
              "      <td>172.89</td>\n",
              "      <td>103.77</td>\n",
              "      <td>104.24</td>\n",
              "      <td>4.12</td>\n",
              "      <td>3.01</td>\n",
              "      <td>113.72</td>\n",
              "    </tr>\n",
              "    <tr>\n",
              "      <th>b1022</th>\n",
              "      <td>0</td>\n",
              "      <td>172.89</td>\n",
              "      <td>104.03</td>\n",
              "      <td>104.03</td>\n",
              "      <td>6.03</td>\n",
              "      <td>3.00</td>\n",
              "      <td>110.95</td>\n",
              "    </tr>\n",
              "    <tr>\n",
              "      <th>b828</th>\n",
              "      <td>1</td>\n",
              "      <td>172.92</td>\n",
              "      <td>103.55</td>\n",
              "      <td>103.94</td>\n",
              "      <td>4.78</td>\n",
              "      <td>3.27</td>\n",
              "      <td>113.55</td>\n",
              "    </tr>\n",
              "    <tr>\n",
              "      <th>b1277</th>\n",
              "      <td>0</td>\n",
              "      <td>173.01</td>\n",
              "      <td>104.59</td>\n",
              "      <td>104.31</td>\n",
              "      <td>5.04</td>\n",
              "      <td>3.05</td>\n",
              "      <td>110.91</td>\n",
              "    </tr>\n",
              "  </tbody>\n",
              "</table>\n",
              "</div>\n",
              "      <button class=\"colab-df-convert\" onclick=\"convertToInteractive('df-708b87ba-41d7-4edf-ba9f-0d9fa3e8865c')\"\n",
              "              title=\"Convert this dataframe to an interactive table.\"\n",
              "              style=\"display:none;\">\n",
              "        \n",
              "  <svg xmlns=\"http://www.w3.org/2000/svg\" height=\"24px\"viewBox=\"0 0 24 24\"\n",
              "       width=\"24px\">\n",
              "    <path d=\"M0 0h24v24H0V0z\" fill=\"none\"/>\n",
              "    <path d=\"M18.56 5.44l.94 2.06.94-2.06 2.06-.94-2.06-.94-.94-2.06-.94 2.06-2.06.94zm-11 1L8.5 8.5l.94-2.06 2.06-.94-2.06-.94L8.5 2.5l-.94 2.06-2.06.94zm10 10l.94 2.06.94-2.06 2.06-.94-2.06-.94-.94-2.06-.94 2.06-2.06.94z\"/><path d=\"M17.41 7.96l-1.37-1.37c-.4-.4-.92-.59-1.43-.59-.52 0-1.04.2-1.43.59L10.3 9.45l-7.72 7.72c-.78.78-.78 2.05 0 2.83L4 21.41c.39.39.9.59 1.41.59.51 0 1.02-.2 1.41-.59l7.78-7.78 2.81-2.81c.8-.78.8-2.07 0-2.86zM5.41 20L4 18.59l7.72-7.72 1.47 1.35L5.41 20z\"/>\n",
              "  </svg>\n",
              "      </button>\n",
              "      \n",
              "  <style>\n",
              "    .colab-df-container {\n",
              "      display:flex;\n",
              "      flex-wrap:wrap;\n",
              "      gap: 12px;\n",
              "    }\n",
              "\n",
              "    .colab-df-convert {\n",
              "      background-color: #E8F0FE;\n",
              "      border: none;\n",
              "      border-radius: 50%;\n",
              "      cursor: pointer;\n",
              "      display: none;\n",
              "      fill: #1967D2;\n",
              "      height: 32px;\n",
              "      padding: 0 0 0 0;\n",
              "      width: 32px;\n",
              "    }\n",
              "\n",
              "    .colab-df-convert:hover {\n",
              "      background-color: #E2EBFA;\n",
              "      box-shadow: 0px 1px 2px rgba(60, 64, 67, 0.3), 0px 1px 3px 1px rgba(60, 64, 67, 0.15);\n",
              "      fill: #174EA6;\n",
              "    }\n",
              "\n",
              "    [theme=dark] .colab-df-convert {\n",
              "      background-color: #3B4455;\n",
              "      fill: #D2E3FC;\n",
              "    }\n",
              "\n",
              "    [theme=dark] .colab-df-convert:hover {\n",
              "      background-color: #434B5C;\n",
              "      box-shadow: 0px 1px 3px 1px rgba(0, 0, 0, 0.15);\n",
              "      filter: drop-shadow(0px 1px 2px rgba(0, 0, 0, 0.3));\n",
              "      fill: #FFFFFF;\n",
              "    }\n",
              "  </style>\n",
              "\n",
              "      <script>\n",
              "        const buttonEl =\n",
              "          document.querySelector('#df-708b87ba-41d7-4edf-ba9f-0d9fa3e8865c button.colab-df-convert');\n",
              "        buttonEl.style.display =\n",
              "          google.colab.kernel.accessAllowed ? 'block' : 'none';\n",
              "\n",
              "        async function convertToInteractive(key) {\n",
              "          const element = document.querySelector('#df-708b87ba-41d7-4edf-ba9f-0d9fa3e8865c');\n",
              "          const dataTable =\n",
              "            await google.colab.kernel.invokeFunction('convertToInteractive',\n",
              "                                                     [key], {});\n",
              "          if (!dataTable) return;\n",
              "\n",
              "          const docLinkHtml = 'Like what you see? Visit the ' +\n",
              "            '<a target=\"_blank\" href=https://colab.research.google.com/notebooks/data_table.ipynb>data table notebook</a>'\n",
              "            + ' to learn more about interactive tables.';\n",
              "          element.innerHTML = '';\n",
              "          dataTable['output_type'] = 'display_data';\n",
              "          await google.colab.output.renderOutput(dataTable, element);\n",
              "          const docLink = document.createElement('div');\n",
              "          docLink.innerHTML = docLinkHtml;\n",
              "          element.appendChild(docLink);\n",
              "        }\n",
              "      </script>\n",
              "    </div>\n",
              "  </div>\n",
              "  "
            ]
          },
          "metadata": {},
          "execution_count": 253
        }
      ]
    },
    {
      "cell_type": "code",
      "source": [
        "#df_outdiag=df_billets[df_billets['diagonal'].isin (l)]\n",
        "#df_outdiag[['nature', 'diagonal']].sort_values('diagonal')"
      ],
      "metadata": {
        "id": "otJiU8K4b5i9"
      },
      "execution_count": 254,
      "outputs": []
    },
    {
      "cell_type": "markdown",
      "source": [
        "On trouve 7 outliers pour la variable diagonal dont 3 vrais billets et 4 faux billets."
      ],
      "metadata": {
        "id": "rUJDQqYqXOJN"
      }
    },
    {
      "cell_type": "markdown",
      "source": [
        "## <a name=\"C11\"><font color='LightSeaGreen'>height_left</font></a>"
      ],
      "metadata": {
        "id": "M7GNb4sCWrcP"
      }
    },
    {
      "cell_type": "code",
      "source": [
        "#Représentation la variable height_left sous forme de boxplot\n",
        "plt.figure(figsize=(12, 3))\n",
        "sns.set(style=\"darkgrid\")\n",
        "sns.boxplot(x=df_billets[\"height_left\"], color=\"purple\")\n",
        "plt.title('Distribution de la variable height_left')\n",
        "plt.savefig(\"distribution_height_left_boxplot.png\")\n",
        "plt.show"
      ],
      "metadata": {
        "colab": {
          "base_uri": "https://localhost:8080/",
          "height": 264
        },
        "id": "TpB-jSMCWgm1",
        "outputId": "ff5ce046-8b2b-42a5-dc6b-338a37f3b4bf"
      },
      "execution_count": 255,
      "outputs": [
        {
          "output_type": "execute_result",
          "data": {
            "text/plain": [
              "<function matplotlib.pyplot.show(*args, **kw)>"
            ]
          },
          "metadata": {},
          "execution_count": 255
        },
        {
          "output_type": "display_data",
          "data": {
            "text/plain": [
              "<Figure size 864x216 with 1 Axes>"
            ],
            "image/png": "[encoded data removed]"
          },
          "metadata": {}
        }
      ]
    },
    {
      "cell_type": "code",
      "source": [
        "#affichage des outliers \n",
        "liste_outliers(df_billets, 'height_left')"
      ],
      "metadata": {
        "colab": {
          "base_uri": "https://localhost:8080/"
        },
        "id": "pWn6qe_acRx-",
        "outputId": "9073ae65-1516-4042-da2b-21d11189c79e"
      },
      "execution_count": 256,
      "outputs": [
        {
          "output_type": "stream",
          "name": "stdout",
          "text": [
            "Ecart interquatile = 0.41\n",
            "Seuil minimum = 103.2\n",
            "Seuil maximum = 104.85\n",
            "Nombre doutliers: 6\n",
            "Liste des outliers : [104.86, 103.2, 103.14, 104.88, 104.86, 104.85]\n",
            "\n",
            "\n"
          ]
        }
      ]
    },
    {
      "cell_type": "code",
      "source": [
        "l=[104.86, 103.2, 103.14, 104.88, 104.86, 104.85]\n",
        "df_billets[df_billets['height_left'].isin (l)].sort_values('height_left')"
      ],
      "metadata": {
        "colab": {
          "base_uri": "https://localhost:8080/",
          "height": 269
        },
        "id": "b272WHKprKEs",
        "outputId": "c7ee88c5-b123-44d5-f6a0-90efe03188dd"
      },
      "execution_count": 257,
      "outputs": [
        {
          "output_type": "execute_result",
          "data": {
            "text/plain": [
              "             nature  diagonal  height_left  height_right  margin_low  \\\n",
              "code_billet                                                            \n",
              "b292              1    172.09       103.14        103.81        4.88   \n",
              "b224              1    172.12       103.20        103.92        4.46   \n",
              "b1382             0    171.97       104.85        104.52        5.87   \n",
              "b0                1    171.81       104.86        104.95        4.52   \n",
              "b1150             0    171.79       104.86        104.34        5.39   \n",
              "b1090             0    172.11       104.88        104.10        4.80   \n",
              "\n",
              "             margin_up  length  \n",
              "code_billet                     \n",
              "b292              3.01  113.69  \n",
              "b224              3.26  113.44  \n",
              "b1382             3.56  110.98  \n",
              "b0                2.89  112.83  \n",
              "b1150             3.14  113.02  \n",
              "b1090             3.73  110.78  "
            ],
            "text/html": [
              "\n",
              "  <div id=\"df-6346c223-0397-435e-a379-9fea0d8e9edb\">\n",
              "    <div class=\"colab-df-container\">\n",
              "      <div>\n",
              "<style scoped>\n",
              "    .dataframe tbody tr th:only-of-type {\n",
              "        vertical-align: middle;\n",
              "    }\n",
              "\n",
              "    .dataframe tbody tr th {\n",
              "        vertical-align: top;\n",
              "    }\n",
              "\n",
              "    .dataframe thead th {\n",
              "        text-align: right;\n",
              "    }\n",
              "</style>\n",
              "<table border=\"1\" class=\"dataframe\">\n",
              "  <thead>\n",
              "    <tr style=\"text-align: right;\">\n",
              "      <th></th>\n",
              "      <th>nature</th>\n",
              "      <th>diagonal</th>\n",
              "      <th>height_left</th>\n",
              "      <th>height_right</th>\n",
              "      <th>margin_low</th>\n",
              "      <th>margin_up</th>\n",
              "      <th>length</th>\n",
              "    </tr>\n",
              "    <tr>\n",
              "      <th>code_billet</th>\n",
              "      <th></th>\n",
              "      <th></th>\n",
              "      <th></th>\n",
              "      <th></th>\n",
              "      <th></th>\n",
              "      <th></th>\n",
              "      <th></th>\n",
              "    </tr>\n",
              "  </thead>\n",
              "  <tbody>\n",
              "    <tr>\n",
              "      <th>b292</th>\n",
              "      <td>1</td>\n",
              "      <td>172.09</td>\n",
              "      <td>103.14</td>\n",
              "      <td>103.81</td>\n",
              "      <td>4.88</td>\n",
              "      <td>3.01</td>\n",
              "      <td>113.69</td>\n",
              "    </tr>\n",
              "    <tr>\n",
              "      <th>b224</th>\n",
              "      <td>1</td>\n",
              "      <td>172.12</td>\n",
              "      <td>103.20</td>\n",
              "      <td>103.92</td>\n",
              "      <td>4.46</td>\n",
              "      <td>3.26</td>\n",
              "      <td>113.44</td>\n",
              "    </tr>\n",
              "    <tr>\n",
              "      <th>b1382</th>\n",
              "      <td>0</td>\n",
              "      <td>171.97</td>\n",
              "      <td>104.85</td>\n",
              "      <td>104.52</td>\n",
              "      <td>5.87</td>\n",
              "      <td>3.56</td>\n",
              "      <td>110.98</td>\n",
              "    </tr>\n",
              "    <tr>\n",
              "      <th>b0</th>\n",
              "      <td>1</td>\n",
              "      <td>171.81</td>\n",
              "      <td>104.86</td>\n",
              "      <td>104.95</td>\n",
              "      <td>4.52</td>\n",
              "      <td>2.89</td>\n",
              "      <td>112.83</td>\n",
              "    </tr>\n",
              "    <tr>\n",
              "      <th>b1150</th>\n",
              "      <td>0</td>\n",
              "      <td>171.79</td>\n",
              "      <td>104.86</td>\n",
              "      <td>104.34</td>\n",
              "      <td>5.39</td>\n",
              "      <td>3.14</td>\n",
              "      <td>113.02</td>\n",
              "    </tr>\n",
              "    <tr>\n",
              "      <th>b1090</th>\n",
              "      <td>0</td>\n",
              "      <td>172.11</td>\n",
              "      <td>104.88</td>\n",
              "      <td>104.10</td>\n",
              "      <td>4.80</td>\n",
              "      <td>3.73</td>\n",
              "      <td>110.78</td>\n",
              "    </tr>\n",
              "  </tbody>\n",
              "</table>\n",
              "</div>\n",
              "      <button class=\"colab-df-convert\" onclick=\"convertToInteractive('df-6346c223-0397-435e-a379-9fea0d8e9edb')\"\n",
              "              title=\"Convert this dataframe to an interactive table.\"\n",
              "              style=\"display:none;\">\n",
              "        \n",
              "  <svg xmlns=\"http://www.w3.org/2000/svg\" height=\"24px\"viewBox=\"0 0 24 24\"\n",
              "       width=\"24px\">\n",
              "    <path d=\"M0 0h24v24H0V0z\" fill=\"none\"/>\n",
              "    <path d=\"M18.56 5.44l.94 2.06.94-2.06 2.06-.94-2.06-.94-.94-2.06-.94 2.06-2.06.94zm-11 1L8.5 8.5l.94-2.06 2.06-.94-2.06-.94L8.5 2.5l-.94 2.06-2.06.94zm10 10l.94 2.06.94-2.06 2.06-.94-2.06-.94-.94-2.06-.94 2.06-2.06.94z\"/><path d=\"M17.41 7.96l-1.37-1.37c-.4-.4-.92-.59-1.43-.59-.52 0-1.04.2-1.43.59L10.3 9.45l-7.72 7.72c-.78.78-.78 2.05 0 2.83L4 21.41c.39.39.9.59 1.41.59.51 0 1.02-.2 1.41-.59l7.78-7.78 2.81-2.81c.8-.78.8-2.07 0-2.86zM5.41 20L4 18.59l7.72-7.72 1.47 1.35L5.41 20z\"/>\n",
              "  </svg>\n",
              "      </button>\n",
              "      \n",
              "  <style>\n",
              "    .colab-df-container {\n",
              "      display:flex;\n",
              "      flex-wrap:wrap;\n",
              "      gap: 12px;\n",
              "    }\n",
              "\n",
              "    .colab-df-convert {\n",
              "      background-color: #E8F0FE;\n",
              "      border: none;\n",
              "      border-radius: 50%;\n",
              "      cursor: pointer;\n",
              "      display: none;\n",
              "      fill: #1967D2;\n",
              "      height: 32px;\n",
              "      padding: 0 0 0 0;\n",
              "      width: 32px;\n",
              "    }\n",
              "\n",
              "    .colab-df-convert:hover {\n",
              "      background-color: #E2EBFA;\n",
              "      box-shadow: 0px 1px 2px rgba(60, 64, 67, 0.3), 0px 1px 3px 1px rgba(60, 64, 67, 0.15);\n",
              "      fill: #174EA6;\n",
              "    }\n",
              "\n",
              "    [theme=dark] .colab-df-convert {\n",
              "      background-color: #3B4455;\n",
              "      fill: #D2E3FC;\n",
              "    }\n",
              "\n",
              "    [theme=dark] .colab-df-convert:hover {\n",
              "      background-color: #434B5C;\n",
              "      box-shadow: 0px 1px 3px 1px rgba(0, 0, 0, 0.15);\n",
              "      filter: drop-shadow(0px 1px 2px rgba(0, 0, 0, 0.3));\n",
              "      fill: #FFFFFF;\n",
              "    }\n",
              "  </style>\n",
              "\n",
              "      <script>\n",
              "        const buttonEl =\n",
              "          document.querySelector('#df-6346c223-0397-435e-a379-9fea0d8e9edb button.colab-df-convert');\n",
              "        buttonEl.style.display =\n",
              "          google.colab.kernel.accessAllowed ? 'block' : 'none';\n",
              "\n",
              "        async function convertToInteractive(key) {\n",
              "          const element = document.querySelector('#df-6346c223-0397-435e-a379-9fea0d8e9edb');\n",
              "          const dataTable =\n",
              "            await google.colab.kernel.invokeFunction('convertToInteractive',\n",
              "                                                     [key], {});\n",
              "          if (!dataTable) return;\n",
              "\n",
              "          const docLinkHtml = 'Like what you see? Visit the ' +\n",
              "            '<a target=\"_blank\" href=https://colab.research.google.com/notebooks/data_table.ipynb>data table notebook</a>'\n",
              "            + ' to learn more about interactive tables.';\n",
              "          element.innerHTML = '';\n",
              "          dataTable['output_type'] = 'display_data';\n",
              "          await google.colab.output.renderOutput(dataTable, element);\n",
              "          const docLink = document.createElement('div');\n",
              "          docLink.innerHTML = docLinkHtml;\n",
              "          element.appendChild(docLink);\n",
              "        }\n",
              "      </script>\n",
              "    </div>\n",
              "  </div>\n",
              "  "
            ]
          },
          "metadata": {},
          "execution_count": 257
        }
      ]
    },
    {
      "cell_type": "markdown",
      "source": [
        "On trouve 6 outliers pour la variable height_left dont 3 vrais billets et 3 faux billets."
      ],
      "metadata": {
        "id": "skwlq6cwXS56"
      }
    },
    {
      "cell_type": "markdown",
      "source": [
        "## <a name=\"C11\"><font color='LightSeaGreen'>height_right</font></a>"
      ],
      "metadata": {
        "id": "Fa6l_uL3XaXG"
      }
    },
    {
      "cell_type": "code",
      "source": [
        "#Représentation la variable height_right sous forme de boxplot\n",
        "plt.figure(figsize=(12, 3))\n",
        "sns.set(style=\"darkgrid\")\n",
        "sns.boxplot(x=df_billets[\"height_right\"], color=\"pink\")\n",
        "plt.title('Distribution de la variable height_right')\n",
        "plt.savefig(\"distribution_height_right_boxplot.png\")\n",
        "plt.show"
      ],
      "metadata": {
        "colab": {
          "base_uri": "https://localhost:8080/",
          "height": 264
        },
        "id": "hd3tsff4XI4f",
        "outputId": "82978957-5c0b-4b3c-e3e6-19912488977e"
      },
      "execution_count": 258,
      "outputs": [
        {
          "output_type": "execute_result",
          "data": {
            "text/plain": [
              "<function matplotlib.pyplot.show(*args, **kw)>"
            ]
          },
          "metadata": {},
          "execution_count": 258
        },
        {
          "output_type": "display_data",
          "data": {
            "text/plain": [
              "<Figure size 864x216 with 1 Axes>"
            ],
            "image/png": "[encoded data removed]"
          },
          "metadata": {}
        }
      ]
    },
    {
      "cell_type": "code",
      "source": [
        "#affichage des outliers \n",
        "liste_outliers(df_billets, 'height_right')"
      ],
      "metadata": {
        "colab": {
          "base_uri": "https://localhost:8080/"
        },
        "id": "ttoyXnspcj1n",
        "outputId": "fd4f730e-05a9-4a5c-b03f-0f0d50dea014"
      },
      "execution_count": 259,
      "outputs": [
        {
          "output_type": "stream",
          "name": "stdout",
          "text": [
            "Ecart interquatile = 0.44\n",
            "Seuil minimum = 103.05\n",
            "Seuil maximum = 104.81\n",
            "Nombre doutliers: 11\n",
            "Liste des outliers : [104.95, 103.03, 102.97, 102.95, 102.82, 102.91, 103.04, 104.87, 104.86, 104.83, 104.95]\n",
            "\n",
            "\n"
          ]
        }
      ]
    },
    {
      "cell_type": "code",
      "source": [
        "l=[104.95, 103.03, 102.97, 102.95, 102.82, 102.91, 103.04, 104.87, 104.86, 104.83, 104.95]\n",
        "df_billets[df_billets['height_right'].isin (l)].sort_values('height_right')"
      ],
      "metadata": {
        "colab": {
          "base_uri": "https://localhost:8080/",
          "height": 426
        },
        "id": "g_ZjIq49rhpb",
        "outputId": "51dde1fc-2248-4fa5-8292-c93641962c28"
      },
      "execution_count": 260,
      "outputs": [
        {
          "output_type": "execute_result",
          "data": {
            "text/plain": [
              "             nature  diagonal  height_left  height_right  margin_low  \\\n",
              "code_billet                                                            \n",
              "b251              1    171.80       103.26        102.82         NaN   \n",
              "b522              1    172.02       104.42        102.91        3.86   \n",
              "b193              1    172.35       103.73        102.95        4.49   \n",
              "b176              1    171.75       103.63        102.97        4.46   \n",
              "b77               1    171.84       104.09        103.03        4.11   \n",
              "b761              1    172.16       103.93        103.04        4.14   \n",
              "b1331             0    172.32       104.60        104.83        4.84   \n",
              "b1321             0    172.29       104.72        104.86        5.71   \n",
              "b1199             0    172.03       104.32        104.87        4.49   \n",
              "b0                1    171.81       104.86        104.95        4.52   \n",
              "b1484             0    172.08       103.96        104.95        5.22   \n",
              "\n",
              "             margin_up  length  \n",
              "code_billet                     \n",
              "b251              2.95  113.22  \n",
              "b522              3.12  113.43  \n",
              "b193              3.37  112.49  \n",
              "b176              2.77  113.22  \n",
              "b77               2.77  113.18  \n",
              "b761              2.99  113.26  \n",
              "b1331             3.51  112.55  \n",
              "b1321             3.16  112.15  \n",
              "b1199             3.77  111.04  \n",
              "b0                2.89  112.83  \n",
              "b1484             3.45  112.07  "
            ],
            "text/html": [
              "\n",
              "  <div id=\"df-67c167bd-2f79-4a73-a2be-526e8e8a22eb\">\n",
              "    <div class=\"colab-df-container\">\n",
              "      <div>\n",
              "<style scoped>\n",
              "    .dataframe tbody tr th:only-of-type {\n",
              "        vertical-align: middle;\n",
              "    }\n",
              "\n",
              "    .dataframe tbody tr th {\n",
              "        vertical-align: top;\n",
              "    }\n",
              "\n",
              "    .dataframe thead th {\n",
              "        text-align: right;\n",
              "    }\n",
              "</style>\n",
              "<table border=\"1\" class=\"dataframe\">\n",
              "  <thead>\n",
              "    <tr style=\"text-align: right;\">\n",
              "      <th></th>\n",
              "      <th>nature</th>\n",
              "      <th>diagonal</th>\n",
              "      <th>height_left</th>\n",
              "      <th>height_right</th>\n",
              "      <th>margin_low</th>\n",
              "      <th>margin_up</th>\n",
              "      <th>length</th>\n",
              "    </tr>\n",
              "    <tr>\n",
              "      <th>code_billet</th>\n",
              "      <th></th>\n",
              "      <th></th>\n",
              "      <th></th>\n",
              "      <th></th>\n",
              "      <th></th>\n",
              "      <th></th>\n",
              "      <th></th>\n",
              "    </tr>\n",
              "  </thead>\n",
              "  <tbody>\n",
              "    <tr>\n",
              "      <th>b251</th>\n",
              "      <td>1</td>\n",
              "      <td>171.80</td>\n",
              "      <td>103.26</td>\n",
              "      <td>102.82</td>\n",
              "      <td>NaN</td>\n",
              "      <td>2.95</td>\n",
              "      <td>113.22</td>\n",
              "    </tr>\n",
              "    <tr>\n",
              "      <th>b522</th>\n",
              "      <td>1</td>\n",
              "      <td>172.02</td>\n",
              "      <td>104.42</td>\n",
              "      <td>102.91</td>\n",
              "      <td>3.86</td>\n",
              "      <td>3.12</td>\n",
              "      <td>113.43</td>\n",
              "    </tr>\n",
              "    <tr>\n",
              "      <th>b193</th>\n",
              "      <td>1</td>\n",
              "      <td>172.35</td>\n",
              "      <td>103.73</td>\n",
              "      <td>102.95</td>\n",
              "      <td>4.49</td>\n",
              "      <td>3.37</td>\n",
              "      <td>112.49</td>\n",
              "    </tr>\n",
              "    <tr>\n",
              "      <th>b176</th>\n",
              "      <td>1</td>\n",
              "      <td>171.75</td>\n",
              "      <td>103.63</td>\n",
              "      <td>102.97</td>\n",
              "      <td>4.46</td>\n",
              "      <td>2.77</td>\n",
              "      <td>113.22</td>\n",
              "    </tr>\n",
              "    <tr>\n",
              "      <th>b77</th>\n",
              "      <td>1</td>\n",
              "      <td>171.84</td>\n",
              "      <td>104.09</td>\n",
              "      <td>103.03</td>\n",
              "      <td>4.11</td>\n",
              "      <td>2.77</td>\n",
              "      <td>113.18</td>\n",
              "    </tr>\n",
              "    <tr>\n",
              "      <th>b761</th>\n",
              "      <td>1</td>\n",
              "      <td>172.16</td>\n",
              "      <td>103.93</td>\n",
              "      <td>103.04</td>\n",
              "      <td>4.14</td>\n",
              "      <td>2.99</td>\n",
              "      <td>113.26</td>\n",
              "    </tr>\n",
              "    <tr>\n",
              "      <th>b1331</th>\n",
              "      <td>0</td>\n",
              "      <td>172.32</td>\n",
              "      <td>104.60</td>\n",
              "      <td>104.83</td>\n",
              "      <td>4.84</td>\n",
              "      <td>3.51</td>\n",
              "      <td>112.55</td>\n",
              "    </tr>\n",
              "    <tr>\n",
              "      <th>b1321</th>\n",
              "      <td>0</td>\n",
              "      <td>172.29</td>\n",
              "      <td>104.72</td>\n",
              "      <td>104.86</td>\n",
              "      <td>5.71</td>\n",
              "      <td>3.16</td>\n",
              "      <td>112.15</td>\n",
              "    </tr>\n",
              "    <tr>\n",
              "      <th>b1199</th>\n",
              "      <td>0</td>\n",
              "      <td>172.03</td>\n",
              "      <td>104.32</td>\n",
              "      <td>104.87</td>\n",
              "      <td>4.49</td>\n",
              "      <td>3.77</td>\n",
              "      <td>111.04</td>\n",
              "    </tr>\n",
              "    <tr>\n",
              "      <th>b0</th>\n",
              "      <td>1</td>\n",
              "      <td>171.81</td>\n",
              "      <td>104.86</td>\n",
              "      <td>104.95</td>\n",
              "      <td>4.52</td>\n",
              "      <td>2.89</td>\n",
              "      <td>112.83</td>\n",
              "    </tr>\n",
              "    <tr>\n",
              "      <th>b1484</th>\n",
              "      <td>0</td>\n",
              "      <td>172.08</td>\n",
              "      <td>103.96</td>\n",
              "      <td>104.95</td>\n",
              "      <td>5.22</td>\n",
              "      <td>3.45</td>\n",
              "      <td>112.07</td>\n",
              "    </tr>\n",
              "  </tbody>\n",
              "</table>\n",
              "</div>\n",
              "      <button class=\"colab-df-convert\" onclick=\"convertToInteractive('df-67c167bd-2f79-4a73-a2be-526e8e8a22eb')\"\n",
              "              title=\"Convert this dataframe to an interactive table.\"\n",
              "              style=\"display:none;\">\n",
              "        \n",
              "  <svg xmlns=\"http://www.w3.org/2000/svg\" height=\"24px\"viewBox=\"0 0 24 24\"\n",
              "       width=\"24px\">\n",
              "    <path d=\"M0 0h24v24H0V0z\" fill=\"none\"/>\n",
              "    <path d=\"M18.56 5.44l.94 2.06.94-2.06 2.06-.94-2.06-.94-.94-2.06-.94 2.06-2.06.94zm-11 1L8.5 8.5l.94-2.06 2.06-.94-2.06-.94L8.5 2.5l-.94 2.06-2.06.94zm10 10l.94 2.06.94-2.06 2.06-.94-2.06-.94-.94-2.06-.94 2.06-2.06.94z\"/><path d=\"M17.41 7.96l-1.37-1.37c-.4-.4-.92-.59-1.43-.59-.52 0-1.04.2-1.43.59L10.3 9.45l-7.72 7.72c-.78.78-.78 2.05 0 2.83L4 21.41c.39.39.9.59 1.41.59.51 0 1.02-.2 1.41-.59l7.78-7.78 2.81-2.81c.8-.78.8-2.07 0-2.86zM5.41 20L4 18.59l7.72-7.72 1.47 1.35L5.41 20z\"/>\n",
              "  </svg>\n",
              "      </button>\n",
              "      \n",
              "  <style>\n",
              "    .colab-df-container {\n",
              "      display:flex;\n",
              "      flex-wrap:wrap;\n",
              "      gap: 12px;\n",
              "    }\n",
              "\n",
              "    .colab-df-convert {\n",
              "      background-color: #E8F0FE;\n",
              "      border: none;\n",
              "      border-radius: 50%;\n",
              "      cursor: pointer;\n",
              "      display: none;\n",
              "      fill: #1967D2;\n",
              "      height: 32px;\n",
              "      padding: 0 0 0 0;\n",
              "      width: 32px;\n",
              "    }\n",
              "\n",
              "    .colab-df-convert:hover {\n",
              "      background-color: #E2EBFA;\n",
              "      box-shadow: 0px 1px 2px rgba(60, 64, 67, 0.3), 0px 1px 3px 1px rgba(60, 64, 67, 0.15);\n",
              "      fill: #174EA6;\n",
              "    }\n",
              "\n",
              "    [theme=dark] .colab-df-convert {\n",
              "      background-color: #3B4455;\n",
              "      fill: #D2E3FC;\n",
              "    }\n",
              "\n",
              "    [theme=dark] .colab-df-convert:hover {\n",
              "      background-color: #434B5C;\n",
              "      box-shadow: 0px 1px 3px 1px rgba(0, 0, 0, 0.15);\n",
              "      filter: drop-shadow(0px 1px 2px rgba(0, 0, 0, 0.3));\n",
              "      fill: #FFFFFF;\n",
              "    }\n",
              "  </style>\n",
              "\n",
              "      <script>\n",
              "        const buttonEl =\n",
              "          document.querySelector('#df-67c167bd-2f79-4a73-a2be-526e8e8a22eb button.colab-df-convert');\n",
              "        buttonEl.style.display =\n",
              "          google.colab.kernel.accessAllowed ? 'block' : 'none';\n",
              "\n",
              "        async function convertToInteractive(key) {\n",
              "          const element = document.querySelector('#df-67c167bd-2f79-4a73-a2be-526e8e8a22eb');\n",
              "          const dataTable =\n",
              "            await google.colab.kernel.invokeFunction('convertToInteractive',\n",
              "                                                     [key], {});\n",
              "          if (!dataTable) return;\n",
              "\n",
              "          const docLinkHtml = 'Like what you see? Visit the ' +\n",
              "            '<a target=\"_blank\" href=https://colab.research.google.com/notebooks/data_table.ipynb>data table notebook</a>'\n",
              "            + ' to learn more about interactive tables.';\n",
              "          element.innerHTML = '';\n",
              "          dataTable['output_type'] = 'display_data';\n",
              "          await google.colab.output.renderOutput(dataTable, element);\n",
              "          const docLink = document.createElement('div');\n",
              "          docLink.innerHTML = docLinkHtml;\n",
              "          element.appendChild(docLink);\n",
              "        }\n",
              "      </script>\n",
              "    </div>\n",
              "  </div>\n",
              "  "
            ]
          },
          "metadata": {},
          "execution_count": 260
        }
      ]
    },
    {
      "cell_type": "markdown",
      "source": [
        "Il y a 11 outliers pour la variable height_right dont 7 vrais billets et 4 faux billets."
      ],
      "metadata": {
        "id": "vJuexY9NXmJr"
      }
    },
    {
      "cell_type": "markdown",
      "source": [
        "## <a name=\"C11\"><font color='LightSeaGreen'>margin_low</font></a>"
      ],
      "metadata": {
        "id": "V_1BUm1zXtcN"
      }
    },
    {
      "cell_type": "code",
      "source": [
        "#Représentation la variable margin_low sous forme de boxplot\n",
        "plt.figure(figsize=(12, 3))\n",
        "sns.set(style=\"darkgrid\")\n",
        "sns.boxplot(x=df_billets[\"margin_low\"], color=\"orange\")\n",
        "plt.title('Distribution de la variable margin_low')\n",
        "plt.savefig(\"distribution_margin_low_boxplot.png\")\n",
        "plt.show"
      ],
      "metadata": {
        "colab": {
          "base_uri": "https://localhost:8080/",
          "height": 264
        },
        "id": "u6kEuWzxXh9V",
        "outputId": "750e6ef9-a4eb-4fe2-dee5-d0aed66f1573"
      },
      "execution_count": 261,
      "outputs": [
        {
          "output_type": "execute_result",
          "data": {
            "text/plain": [
              "<function matplotlib.pyplot.show(*args, **kw)>"
            ]
          },
          "metadata": {},
          "execution_count": 261
        },
        {
          "output_type": "display_data",
          "data": {
            "text/plain": [
              "<Figure size 864x216 with 1 Axes>"
            ],
            "image/png": "[encoded data removed]"
          },
          "metadata": {}
        }
      ]
    },
    {
      "cell_type": "code",
      "source": [
        "#affichage des outliers \n",
        "liste_outliers(df_billets, 'margin_low')"
      ],
      "metadata": {
        "colab": {
          "base_uri": "https://localhost:8080/"
        },
        "id": "Ju1Iypeqanbn",
        "outputId": "b824a3a4-d491-49f5-da3f-ff4f3c84a322"
      },
      "execution_count": 262,
      "outputs": [
        {
          "output_type": "stream",
          "name": "stdout",
          "text": [
            "Ecart interquatile = 0.86\n",
            "Seuil minimum = 2.73\n",
            "Seuil maximum = 6.15\n",
            "Nombre doutliers: 24\n",
            "Liste des outliers : [6.2, 6.7, 6.33, 6.65, 6.21, 6.23, 6.3, 6.56, 6.7, 6.16, 6.34, 6.48, 6.49, 6.9, 6.19, 6.16, 6.28, 6.19, 6.38, 6.25, 6.56, 6.19, 6.54, 6.29]\n",
            "\n",
            "\n"
          ]
        }
      ]
    },
    {
      "cell_type": "code",
      "source": [
        "l=[6.2, 6.7, 6.33, 6.65, 6.21, 6.23, 6.3, 6.56, 6.7, 6.16, 6.34, 6.48, 6.11, 6.14, 6.49, 6.9, 6.19, 6.16, 6.28, 6.19, 6.38, 6.25, 6.56, 6.19, 6.54, 6.29]\n",
        "df_billets[df_billets['margin_low'].isin (l)].sort_values('margin_low')"
      ],
      "metadata": {
        "colab": {
          "base_uri": "https://localhost:8080/",
          "height": 896
        },
        "id": "oIR8HwZOr846",
        "outputId": "555387f2-9768-4c3c-a815-c5453cf1b459"
      },
      "execution_count": 263,
      "outputs": [
        {
          "output_type": "execute_result",
          "data": {
            "text/plain": [
              "             nature  diagonal  height_left  height_right  margin_low  \\\n",
              "code_billet                                                            \n",
              "b1226             0    171.60       103.90        104.29        6.11   \n",
              "b1244             0    171.91       103.80        103.99        6.14   \n",
              "b1345             0    171.56       104.17        103.87        6.16   \n",
              "b1133             0    171.79       103.99        103.67        6.16   \n",
              "b1459             0    171.78       104.31        103.82        6.19   \n",
              "b1353             0    171.61       104.04        104.06        6.19   \n",
              "b1322             0    172.07       104.50        104.23        6.19   \n",
              "b1023             0    172.02       104.26        104.20        6.20   \n",
              "b1053             0    171.85       104.52        104.05        6.21   \n",
              "b1075             0    172.02       104.51        103.69        6.23   \n",
              "b1426             0    172.22       103.92        104.03        6.25   \n",
              "b1348             0    171.84       104.32        104.50        6.28   \n",
              "b1473             0    171.76       104.04        104.12        6.29   \n",
              "b1092             0    171.87       104.76        104.02        6.30   \n",
              "b1031             0    172.40       104.00        103.82        6.33   \n",
              "b1134             0    171.91       103.70        104.41        6.34   \n",
              "b1420             0    171.56       104.47        104.04        6.38   \n",
              "b1169             0    171.99       104.14        104.15        6.48   \n",
              "b1254             0    171.15       104.09        104.30        6.49   \n",
              "b1464             0    172.07       104.17        104.37        6.54   \n",
              "b1110             0    171.73       104.32        104.07        6.56   \n",
              "b1441             0    171.63       104.55        103.81        6.56   \n",
              "b1041             0    171.77       104.12        104.42        6.65   \n",
              "b1027             0    171.63       104.02        104.66        6.70   \n",
              "b1124             0    171.88       103.92        104.27        6.70   \n",
              "b1290             0    171.94       104.06        104.22        6.90   \n",
              "\n",
              "             margin_up  length  \n",
              "code_billet                     \n",
              "b1226             3.55  110.77  \n",
              "b1244             3.32  110.78  \n",
              "b1345             3.38  111.55  \n",
              "b1133             3.52  110.93  \n",
              "b1459             3.25  111.14  \n",
              "b1353             3.08  110.73  \n",
              "b1322             3.07  111.21  \n",
              "b1023             3.58  111.25  \n",
              "b1053             3.43  111.96  \n",
              "b1075             3.39  112.35  \n",
              "b1426             3.14  110.89  \n",
              "b1348             3.00  111.06  \n",
              "b1473             3.20  112.87  \n",
              "b1092             3.61  111.29  \n",
              "b1031             3.10  112.11  \n",
              "b1134             3.50  113.05  \n",
              "b1420             3.43  112.12  \n",
              "b1169             3.42  112.16  \n",
              "b1254             3.20  111.61  \n",
              "b1464             3.54  111.20  \n",
              "b1110             3.30  112.80  \n",
              "b1441             3.10  111.87  \n",
              "b1041             3.63  111.53  \n",
              "b1027             3.28  111.28  \n",
              "b1124             3.11  110.93  \n",
              "b1290             3.36  111.70  "
            ],
            "text/html": [
              "\n",
              "  <div id=\"df-52cc0193-30d3-4f55-bc2c-97afcb2c0661\">\n",
              "    <div class=\"colab-df-container\">\n",
              "      <div>\n",
              "<style scoped>\n",
              "    .dataframe tbody tr th:only-of-type {\n",
              "        vertical-align: middle;\n",
              "    }\n",
              "\n",
              "    .dataframe tbody tr th {\n",
              "        vertical-align: top;\n",
              "    }\n",
              "\n",
              "    .dataframe thead th {\n",
              "        text-align: right;\n",
              "    }\n",
              "</style>\n",
              "<table border=\"1\" class=\"dataframe\">\n",
              "  <thead>\n",
              "    <tr style=\"text-align: right;\">\n",
              "      <th></th>\n",
              "      <th>nature</th>\n",
              "      <th>diagonal</th>\n",
              "      <th>height_left</th>\n",
              "      <th>height_right</th>\n",
              "      <th>margin_low</th>\n",
              "      <th>margin_up</th>\n",
              "      <th>length</th>\n",
              "    </tr>\n",
              "    <tr>\n",
              "      <th>code_billet</th>\n",
              "      <th></th>\n",
              "      <th></th>\n",
              "      <th></th>\n",
              "      <th></th>\n",
              "      <th></th>\n",
              "      <th></th>\n",
              "      <th></th>\n",
              "    </tr>\n",
              "  </thead>\n",
              "  <tbody>\n",
              "    <tr>\n",
              "      <th>b1226</th>\n",
              "      <td>0</td>\n",
              "      <td>171.60</td>\n",
              "      <td>103.90</td>\n",
              "      <td>104.29</td>\n",
              "      <td>6.11</td>\n",
              "      <td>3.55</td>\n",
              "      <td>110.77</td>\n",
              "    </tr>\n",
              "    <tr>\n",
              "      <th>b1244</th>\n",
              "      <td>0</td>\n",
              "      <td>171.91</td>\n",
              "      <td>103.80</td>\n",
              "      <td>103.99</td>\n",
              "      <td>6.14</td>\n",
              "      <td>3.32</td>\n",
              "      <td>110.78</td>\n",
              "    </tr>\n",
              "    <tr>\n",
              "      <th>b1345</th>\n",
              "      <td>0</td>\n",
              "      <td>171.56</td>\n",
              "      <td>104.17</td>\n",
              "      <td>103.87</td>\n",
              "      <td>6.16</td>\n",
              "      <td>3.38</td>\n",
              "      <td>111.55</td>\n",
              "    </tr>\n",
              "    <tr>\n",
              "      <th>b1133</th>\n",
              "      <td>0</td>\n",
              "      <td>171.79</td>\n",
              "      <td>103.99</td>\n",
              "      <td>103.67</td>\n",
              "      <td>6.16</td>\n",
              "      <td>3.52</td>\n",
              "      <td>110.93</td>\n",
              "    </tr>\n",
              "    <tr>\n",
              "      <th>b1459</th>\n",
              "      <td>0</td>\n",
              "      <td>171.78</td>\n",
              "      <td>104.31</td>\n",
              "      <td>103.82</td>\n",
              "      <td>6.19</td>\n",
              "      <td>3.25</td>\n",
              "      <td>111.14</td>\n",
              "    </tr>\n",
              "    <tr>\n",
              "      <th>b1353</th>\n",
              "      <td>0</td>\n",
              "      <td>171.61</td>\n",
              "      <td>104.04</td>\n",
              "      <td>104.06</td>\n",
              "      <td>6.19</td>\n",
              "      <td>3.08</td>\n",
              "      <td>110.73</td>\n",
              "    </tr>\n",
              "    <tr>\n",
              "      <th>b1322</th>\n",
              "      <td>0</td>\n",
              "      <td>172.07</td>\n",
              "      <td>104.50</td>\n",
              "      <td>104.23</td>\n",
              "      <td>6.19</td>\n",
              "      <td>3.07</td>\n",
              "      <td>111.21</td>\n",
              "    </tr>\n",
              "    <tr>\n",
              "      <th>b1023</th>\n",
              "      <td>0</td>\n",
              "      <td>172.02</td>\n",
              "      <td>104.26</td>\n",
              "      <td>104.20</td>\n",
              "      <td>6.20</td>\n",
              "      <td>3.58</td>\n",
              "      <td>111.25</td>\n",
              "    </tr>\n",
              "    <tr>\n",
              "      <th>b1053</th>\n",
              "      <td>0</td>\n",
              "      <td>171.85</td>\n",
              "      <td>104.52</td>\n",
              "      <td>104.05</td>\n",
              "      <td>6.21</td>\n",
              "      <td>3.43</td>\n",
              "      <td>111.96</td>\n",
              "    </tr>\n",
              "    <tr>\n",
              "      <th>b1075</th>\n",
              "      <td>0</td>\n",
              "      <td>172.02</td>\n",
              "      <td>104.51</td>\n",
              "      <td>103.69</td>\n",
              "      <td>6.23</td>\n",
              "      <td>3.39</td>\n",
              "      <td>112.35</td>\n",
              "    </tr>\n",
              "    <tr>\n",
              "      <th>b1426</th>\n",
              "      <td>0</td>\n",
              "      <td>172.22</td>\n",
              "      <td>103.92</td>\n",
              "      <td>104.03</td>\n",
              "      <td>6.25</td>\n",
              "      <td>3.14</td>\n",
              "      <td>110.89</td>\n",
              "    </tr>\n",
              "    <tr>\n",
              "      <th>b1348</th>\n",
              "      <td>0</td>\n",
              "      <td>171.84</td>\n",
              "      <td>104.32</td>\n",
              "      <td>104.50</td>\n",
              "      <td>6.28</td>\n",
              "      <td>3.00</td>\n",
              "      <td>111.06</td>\n",
              "    </tr>\n",
              "    <tr>\n",
              "      <th>b1473</th>\n",
              "      <td>0</td>\n",
              "      <td>171.76</td>\n",
              "      <td>104.04</td>\n",
              "      <td>104.12</td>\n",
              "      <td>6.29</td>\n",
              "      <td>3.20</td>\n",
              "      <td>112.87</td>\n",
              "    </tr>\n",
              "    <tr>\n",
              "      <th>b1092</th>\n",
              "      <td>0</td>\n",
              "      <td>171.87</td>\n",
              "      <td>104.76</td>\n",
              "      <td>104.02</td>\n",
              "      <td>6.30</td>\n",
              "      <td>3.61</td>\n",
              "      <td>111.29</td>\n",
              "    </tr>\n",
              "    <tr>\n",
              "      <th>b1031</th>\n",
              "      <td>0</td>\n",
              "      <td>172.40</td>\n",
              "      <td>104.00</td>\n",
              "      <td>103.82</td>\n",
              "      <td>6.33</td>\n",
              "      <td>3.10</td>\n",
              "      <td>112.11</td>\n",
              "    </tr>\n",
              "    <tr>\n",
              "      <th>b1134</th>\n",
              "      <td>0</td>\n",
              "      <td>171.91</td>\n",
              "      <td>103.70</td>\n",
              "      <td>104.41</td>\n",
              "      <td>6.34</td>\n",
              "      <td>3.50</td>\n",
              "      <td>113.05</td>\n",
              "    </tr>\n",
              "    <tr>\n",
              "      <th>b1420</th>\n",
              "      <td>0</td>\n",
              "      <td>171.56</td>\n",
              "      <td>104.47</td>\n",
              "      <td>104.04</td>\n",
              "      <td>6.38</td>\n",
              "      <td>3.43</td>\n",
              "      <td>112.12</td>\n",
              "    </tr>\n",
              "    <tr>\n",
              "      <th>b1169</th>\n",
              "      <td>0</td>\n",
              "      <td>171.99</td>\n",
              "      <td>104.14</td>\n",
              "      <td>104.15</td>\n",
              "      <td>6.48</td>\n",
              "      <td>3.42</td>\n",
              "      <td>112.16</td>\n",
              "    </tr>\n",
              "    <tr>\n",
              "      <th>b1254</th>\n",
              "      <td>0</td>\n",
              "      <td>171.15</td>\n",
              "      <td>104.09</td>\n",
              "      <td>104.30</td>\n",
              "      <td>6.49</td>\n",
              "      <td>3.20</td>\n",
              "      <td>111.61</td>\n",
              "    </tr>\n",
              "    <tr>\n",
              "      <th>b1464</th>\n",
              "      <td>0</td>\n",
              "      <td>172.07</td>\n",
              "      <td>104.17</td>\n",
              "      <td>104.37</td>\n",
              "      <td>6.54</td>\n",
              "      <td>3.54</td>\n",
              "      <td>111.20</td>\n",
              "    </tr>\n",
              "    <tr>\n",
              "      <th>b1110</th>\n",
              "      <td>0</td>\n",
              "      <td>171.73</td>\n",
              "      <td>104.32</td>\n",
              "      <td>104.07</td>\n",
              "      <td>6.56</td>\n",
              "      <td>3.30</td>\n",
              "      <td>112.80</td>\n",
              "    </tr>\n",
              "    <tr>\n",
              "      <th>b1441</th>\n",
              "      <td>0</td>\n",
              "      <td>171.63</td>\n",
              "      <td>104.55</td>\n",
              "      <td>103.81</td>\n",
              "      <td>6.56</td>\n",
              "      <td>3.10</td>\n",
              "      <td>111.87</td>\n",
              "    </tr>\n",
              "    <tr>\n",
              "      <th>b1041</th>\n",
              "      <td>0</td>\n",
              "      <td>171.77</td>\n",
              "      <td>104.12</td>\n",
              "      <td>104.42</td>\n",
              "      <td>6.65</td>\n",
              "      <td>3.63</td>\n",
              "      <td>111.53</td>\n",
              "    </tr>\n",
              "    <tr>\n",
              "      <th>b1027</th>\n",
              "      <td>0</td>\n",
              "      <td>171.63</td>\n",
              "      <td>104.02</td>\n",
              "      <td>104.66</td>\n",
              "      <td>6.70</td>\n",
              "      <td>3.28</td>\n",
              "      <td>111.28</td>\n",
              "    </tr>\n",
              "    <tr>\n",
              "      <th>b1124</th>\n",
              "      <td>0</td>\n",
              "      <td>171.88</td>\n",
              "      <td>103.92</td>\n",
              "      <td>104.27</td>\n",
              "      <td>6.70</td>\n",
              "      <td>3.11</td>\n",
              "      <td>110.93</td>\n",
              "    </tr>\n",
              "    <tr>\n",
              "      <th>b1290</th>\n",
              "      <td>0</td>\n",
              "      <td>171.94</td>\n",
              "      <td>104.06</td>\n",
              "      <td>104.22</td>\n",
              "      <td>6.90</td>\n",
              "      <td>3.36</td>\n",
              "      <td>111.70</td>\n",
              "    </tr>\n",
              "  </tbody>\n",
              "</table>\n",
              "</div>\n",
              "      <button class=\"colab-df-convert\" onclick=\"convertToInteractive('df-52cc0193-30d3-4f55-bc2c-97afcb2c0661')\"\n",
              "              title=\"Convert this dataframe to an interactive table.\"\n",
              "              style=\"display:none;\">\n",
              "        \n",
              "  <svg xmlns=\"http://www.w3.org/2000/svg\" height=\"24px\"viewBox=\"0 0 24 24\"\n",
              "       width=\"24px\">\n",
              "    <path d=\"M0 0h24v24H0V0z\" fill=\"none\"/>\n",
              "    <path d=\"M18.56 5.44l.94 2.06.94-2.06 2.06-.94-2.06-.94-.94-2.06-.94 2.06-2.06.94zm-11 1L8.5 8.5l.94-2.06 2.06-.94-2.06-.94L8.5 2.5l-.94 2.06-2.06.94zm10 10l.94 2.06.94-2.06 2.06-.94-2.06-.94-.94-2.06-.94 2.06-2.06.94z\"/><path d=\"M17.41 7.96l-1.37-1.37c-.4-.4-.92-.59-1.43-.59-.52 0-1.04.2-1.43.59L10.3 9.45l-7.72 7.72c-.78.78-.78 2.05 0 2.83L4 21.41c.39.39.9.59 1.41.59.51 0 1.02-.2 1.41-.59l7.78-7.78 2.81-2.81c.8-.78.8-2.07 0-2.86zM5.41 20L4 18.59l7.72-7.72 1.47 1.35L5.41 20z\"/>\n",
              "  </svg>\n",
              "      </button>\n",
              "      \n",
              "  <style>\n",
              "    .colab-df-container {\n",
              "      display:flex;\n",
              "      flex-wrap:wrap;\n",
              "      gap: 12px;\n",
              "    }\n",
              "\n",
              "    .colab-df-convert {\n",
              "      background-color: #E8F0FE;\n",
              "      border: none;\n",
              "      border-radius: 50%;\n",
              "      cursor: pointer;\n",
              "      display: none;\n",
              "      fill: #1967D2;\n",
              "      height: 32px;\n",
              "      padding: 0 0 0 0;\n",
              "      width: 32px;\n",
              "    }\n",
              "\n",
              "    .colab-df-convert:hover {\n",
              "      background-color: #E2EBFA;\n",
              "      box-shadow: 0px 1px 2px rgba(60, 64, 67, 0.3), 0px 1px 3px 1px rgba(60, 64, 67, 0.15);\n",
              "      fill: #174EA6;\n",
              "    }\n",
              "\n",
              "    [theme=dark] .colab-df-convert {\n",
              "      background-color: #3B4455;\n",
              "      fill: #D2E3FC;\n",
              "    }\n",
              "\n",
              "    [theme=dark] .colab-df-convert:hover {\n",
              "      background-color: #434B5C;\n",
              "      box-shadow: 0px 1px 3px 1px rgba(0, 0, 0, 0.15);\n",
              "      filter: drop-shadow(0px 1px 2px rgba(0, 0, 0, 0.3));\n",
              "      fill: #FFFFFF;\n",
              "    }\n",
              "  </style>\n",
              "\n",
              "      <script>\n",
              "        const buttonEl =\n",
              "          document.querySelector('#df-52cc0193-30d3-4f55-bc2c-97afcb2c0661 button.colab-df-convert');\n",
              "        buttonEl.style.display =\n",
              "          google.colab.kernel.accessAllowed ? 'block' : 'none';\n",
              "\n",
              "        async function convertToInteractive(key) {\n",
              "          const element = document.querySelector('#df-52cc0193-30d3-4f55-bc2c-97afcb2c0661');\n",
              "          const dataTable =\n",
              "            await google.colab.kernel.invokeFunction('convertToInteractive',\n",
              "                                                     [key], {});\n",
              "          if (!dataTable) return;\n",
              "\n",
              "          const docLinkHtml = 'Like what you see? Visit the ' +\n",
              "            '<a target=\"_blank\" href=https://colab.research.google.com/notebooks/data_table.ipynb>data table notebook</a>'\n",
              "            + ' to learn more about interactive tables.';\n",
              "          element.innerHTML = '';\n",
              "          dataTable['output_type'] = 'display_data';\n",
              "          await google.colab.output.renderOutput(dataTable, element);\n",
              "          const docLink = document.createElement('div');\n",
              "          docLink.innerHTML = docLinkHtml;\n",
              "          element.appendChild(docLink);\n",
              "        }\n",
              "      </script>\n",
              "    </div>\n",
              "  </div>\n",
              "  "
            ]
          },
          "metadata": {},
          "execution_count": 263
        }
      ]
    },
    {
      "cell_type": "markdown",
      "source": [
        "On trouve 26 outliers pour la variable margin_low qui sont tous de faux billets."
      ],
      "metadata": {
        "id": "Rnls-0pRsHUw"
      }
    },
    {
      "cell_type": "markdown",
      "source": [
        "## <a name=\"C11\"><font color='LightSeaGreen'>margin_up</font></a>"
      ],
      "metadata": {
        "id": "UEYPZpPcX9Za"
      }
    },
    {
      "cell_type": "code",
      "source": [
        "#Représentation la variable margin_up sous forme de boxplot\n",
        "plt.figure(figsize=(12, 3))\n",
        "sns.set(style=\"darkgrid\")\n",
        "sns.boxplot(x=df_billets[\"margin_up\"], color=\"lightblue\")\n",
        "plt.title('Distribution de la variable margin_up')\n",
        "plt.savefig(\"distribution_margin_up_boxplot.png\")\n",
        "plt.show"
      ],
      "metadata": {
        "colab": {
          "base_uri": "https://localhost:8080/",
          "height": 264
        },
        "id": "O7e58uI8X123",
        "outputId": "2dd4a9fc-3fa2-40d2-ab3b-5231b1eacade"
      },
      "execution_count": 264,
      "outputs": [
        {
          "output_type": "execute_result",
          "data": {
            "text/plain": [
              "<function matplotlib.pyplot.show(*args, **kw)>"
            ]
          },
          "metadata": {},
          "execution_count": 264
        },
        {
          "output_type": "display_data",
          "data": {
            "text/plain": [
              "<Figure size 864x216 with 1 Axes>"
            ],
            "image/png": "[encoded data removed]"
          },
          "metadata": {}
        }
      ]
    },
    {
      "cell_type": "code",
      "source": [
        "#affichage des outliers \n",
        "liste_outliers(df_billets, 'margin_up')"
      ],
      "metadata": {
        "colab": {
          "base_uri": "https://localhost:8080/"
        },
        "id": "eeGHXBmssay8",
        "outputId": "4075a74d-5e3b-4100-92df-aa6d1d9bcafc"
      },
      "execution_count": 265,
      "outputs": [
        {
          "output_type": "stream",
          "name": "stdout",
          "text": [
            "Ecart interquatile = 0.32\n",
            "Seuil minimum = 2.51\n",
            "Seuil maximum = 3.79\n",
            "Nombre doutliers: 3\n",
            "Liste des outliers : [2.27, 3.91, 3.81]\n",
            "\n",
            "\n"
          ]
        }
      ]
    },
    {
      "cell_type": "code",
      "source": [
        "l=[2.27, 3.91, 3.81]\n",
        "df_billets[df_billets['margin_up'].isin (l)].sort_values('margin_up')"
      ],
      "metadata": {
        "colab": {
          "base_uri": "https://localhost:8080/",
          "height": 175
        },
        "id": "yLsCZ5x0sfj_",
        "outputId": "7bb0ca87-d7d5-4fc5-e7aa-d138568847c9"
      },
      "execution_count": 266,
      "outputs": [
        {
          "output_type": "execute_result",
          "data": {
            "text/plain": [
              "             nature  diagonal  height_left  height_right  margin_low  \\\n",
              "code_billet                                                            \n",
              "b664              1    172.05       103.70        103.75        5.04   \n",
              "b1270             0    171.26       104.22        104.07        4.78   \n",
              "b1029             0    171.96       104.29        104.03        6.01   \n",
              "\n",
              "             margin_up  length  \n",
              "code_billet                     \n",
              "b664              2.27  113.55  \n",
              "b1270             3.81  112.88  \n",
              "b1029             3.91  110.83  "
            ],
            "text/html": [
              "\n",
              "  <div id=\"df-cd79a5bb-3f55-4680-a510-d79af1f859da\">\n",
              "    <div class=\"colab-df-container\">\n",
              "      <div>\n",
              "<style scoped>\n",
              "    .dataframe tbody tr th:only-of-type {\n",
              "        vertical-align: middle;\n",
              "    }\n",
              "\n",
              "    .dataframe tbody tr th {\n",
              "        vertical-align: top;\n",
              "    }\n",
              "\n",
              "    .dataframe thead th {\n",
              "        text-align: right;\n",
              "    }\n",
              "</style>\n",
              "<table border=\"1\" class=\"dataframe\">\n",
              "  <thead>\n",
              "    <tr style=\"text-align: right;\">\n",
              "      <th></th>\n",
              "      <th>nature</th>\n",
              "      <th>diagonal</th>\n",
              "      <th>height_left</th>\n",
              "      <th>height_right</th>\n",
              "      <th>margin_low</th>\n",
              "      <th>margin_up</th>\n",
              "      <th>length</th>\n",
              "    </tr>\n",
              "    <tr>\n",
              "      <th>code_billet</th>\n",
              "      <th></th>\n",
              "      <th></th>\n",
              "      <th></th>\n",
              "      <th></th>\n",
              "      <th></th>\n",
              "      <th></th>\n",
              "      <th></th>\n",
              "    </tr>\n",
              "  </thead>\n",
              "  <tbody>\n",
              "    <tr>\n",
              "      <th>b664</th>\n",
              "      <td>1</td>\n",
              "      <td>172.05</td>\n",
              "      <td>103.70</td>\n",
              "      <td>103.75</td>\n",
              "      <td>5.04</td>\n",
              "      <td>2.27</td>\n",
              "      <td>113.55</td>\n",
              "    </tr>\n",
              "    <tr>\n",
              "      <th>b1270</th>\n",
              "      <td>0</td>\n",
              "      <td>171.26</td>\n",
              "      <td>104.22</td>\n",
              "      <td>104.07</td>\n",
              "      <td>4.78</td>\n",
              "      <td>3.81</td>\n",
              "      <td>112.88</td>\n",
              "    </tr>\n",
              "    <tr>\n",
              "      <th>b1029</th>\n",
              "      <td>0</td>\n",
              "      <td>171.96</td>\n",
              "      <td>104.29</td>\n",
              "      <td>104.03</td>\n",
              "      <td>6.01</td>\n",
              "      <td>3.91</td>\n",
              "      <td>110.83</td>\n",
              "    </tr>\n",
              "  </tbody>\n",
              "</table>\n",
              "</div>\n",
              "      <button class=\"colab-df-convert\" onclick=\"convertToInteractive('df-cd79a5bb-3f55-4680-a510-d79af1f859da')\"\n",
              "              title=\"Convert this dataframe to an interactive table.\"\n",
              "              style=\"display:none;\">\n",
              "        \n",
              "  <svg xmlns=\"http://www.w3.org/2000/svg\" height=\"24px\"viewBox=\"0 0 24 24\"\n",
              "       width=\"24px\">\n",
              "    <path d=\"M0 0h24v24H0V0z\" fill=\"none\"/>\n",
              "    <path d=\"M18.56 5.44l.94 2.06.94-2.06 2.06-.94-2.06-.94-.94-2.06-.94 2.06-2.06.94zm-11 1L8.5 8.5l.94-2.06 2.06-.94-2.06-.94L8.5 2.5l-.94 2.06-2.06.94zm10 10l.94 2.06.94-2.06 2.06-.94-2.06-.94-.94-2.06-.94 2.06-2.06.94z\"/><path d=\"M17.41 7.96l-1.37-1.37c-.4-.4-.92-.59-1.43-.59-.52 0-1.04.2-1.43.59L10.3 9.45l-7.72 7.72c-.78.78-.78 2.05 0 2.83L4 21.41c.39.39.9.59 1.41.59.51 0 1.02-.2 1.41-.59l7.78-7.78 2.81-2.81c.8-.78.8-2.07 0-2.86zM5.41 20L4 18.59l7.72-7.72 1.47 1.35L5.41 20z\"/>\n",
              "  </svg>\n",
              "      </button>\n",
              "      \n",
              "  <style>\n",
              "    .colab-df-container {\n",
              "      display:flex;\n",
              "      flex-wrap:wrap;\n",
              "      gap: 12px;\n",
              "    }\n",
              "\n",
              "    .colab-df-convert {\n",
              "      background-color: #E8F0FE;\n",
              "      border: none;\n",
              "      border-radius: 50%;\n",
              "      cursor: pointer;\n",
              "      display: none;\n",
              "      fill: #1967D2;\n",
              "      height: 32px;\n",
              "      padding: 0 0 0 0;\n",
              "      width: 32px;\n",
              "    }\n",
              "\n",
              "    .colab-df-convert:hover {\n",
              "      background-color: #E2EBFA;\n",
              "      box-shadow: 0px 1px 2px rgba(60, 64, 67, 0.3), 0px 1px 3px 1px rgba(60, 64, 67, 0.15);\n",
              "      fill: #174EA6;\n",
              "    }\n",
              "\n",
              "    [theme=dark] .colab-df-convert {\n",
              "      background-color: #3B4455;\n",
              "      fill: #D2E3FC;\n",
              "    }\n",
              "\n",
              "    [theme=dark] .colab-df-convert:hover {\n",
              "      background-color: #434B5C;\n",
              "      box-shadow: 0px 1px 3px 1px rgba(0, 0, 0, 0.15);\n",
              "      filter: drop-shadow(0px 1px 2px rgba(0, 0, 0, 0.3));\n",
              "      fill: #FFFFFF;\n",
              "    }\n",
              "  </style>\n",
              "\n",
              "      <script>\n",
              "        const buttonEl =\n",
              "          document.querySelector('#df-cd79a5bb-3f55-4680-a510-d79af1f859da button.colab-df-convert');\n",
              "        buttonEl.style.display =\n",
              "          google.colab.kernel.accessAllowed ? 'block' : 'none';\n",
              "\n",
              "        async function convertToInteractive(key) {\n",
              "          const element = document.querySelector('#df-cd79a5bb-3f55-4680-a510-d79af1f859da');\n",
              "          const dataTable =\n",
              "            await google.colab.kernel.invokeFunction('convertToInteractive',\n",
              "                                                     [key], {});\n",
              "          if (!dataTable) return;\n",
              "\n",
              "          const docLinkHtml = 'Like what you see? Visit the ' +\n",
              "            '<a target=\"_blank\" href=https://colab.research.google.com/notebooks/data_table.ipynb>data table notebook</a>'\n",
              "            + ' to learn more about interactive tables.';\n",
              "          element.innerHTML = '';\n",
              "          dataTable['output_type'] = 'display_data';\n",
              "          await google.colab.output.renderOutput(dataTable, element);\n",
              "          const docLink = document.createElement('div');\n",
              "          docLink.innerHTML = docLinkHtml;\n",
              "          element.appendChild(docLink);\n",
              "        }\n",
              "      </script>\n",
              "    </div>\n",
              "  </div>\n",
              "  "
            ]
          },
          "metadata": {},
          "execution_count": 266
        }
      ]
    },
    {
      "cell_type": "markdown",
      "source": [
        "On voit 3 outliers pour la variable margin_up dont 1 vrai billet et 2 faux billets."
      ],
      "metadata": {
        "id": "pBwaOyUEYIJN"
      }
    },
    {
      "cell_type": "markdown",
      "source": [
        "## <a name=\"C11\"><font color='LightSeaGreen'>length</font></a>"
      ],
      "metadata": {
        "id": "8klGJwQ4YcKK"
      }
    },
    {
      "cell_type": "code",
      "source": [
        "#Représentation la variable length sous forme de boxplot\n",
        "plt.figure(figsize=(12, 3))\n",
        "sns.set(style=\"darkgrid\")\n",
        "sns.boxplot(x=df_billets[\"length\"], color=\"lightgreen\")\n",
        "plt.title('Distribution de la variable length')\n",
        "plt.savefig(\"distribution_length_boxplot.png\")\n",
        "plt.show"
      ],
      "metadata": {
        "colab": {
          "base_uri": "https://localhost:8080/",
          "height": 264
        },
        "id": "pF_xl0NWYCg0",
        "outputId": "6b286ad0-4aee-4568-d005-79bf5ed8239c"
      },
      "execution_count": 267,
      "outputs": [
        {
          "output_type": "execute_result",
          "data": {
            "text/plain": [
              "<function matplotlib.pyplot.show(*args, **kw)>"
            ]
          },
          "metadata": {},
          "execution_count": 267
        },
        {
          "output_type": "display_data",
          "data": {
            "text/plain": [
              "<Figure size 864x216 with 1 Axes>"
            ],
            "image/png": "[encoded data removed]"
          },
          "metadata": {}
        }
      ]
    },
    {
      "cell_type": "code",
      "source": [
        "#affichage des outliers \n",
        "liste_outliers(df_billets, 'length')"
      ],
      "metadata": {
        "colab": {
          "base_uri": "https://localhost:8080/"
        },
        "id": "2So5DfGrsrwn",
        "outputId": "c84e9dd3-0039-4e76-9140-e0a47aef08b6"
      },
      "execution_count": 268,
      "outputs": [
        {
          "output_type": "stream",
          "name": "stdout",
          "text": [
            "Ecart interquatile = 1.31\n",
            "Seuil minimum = 110.06\n",
            "Seuil maximum = 115.3\n",
            "Nombre doutliers: 3\n",
            "Liste des outliers : [109.49, 109.97, 109.93]\n",
            "\n",
            "\n"
          ]
        }
      ]
    },
    {
      "cell_type": "code",
      "source": [
        "l=[109.49, 109.97, 109.93]\n",
        "df_billets[df_billets['length'].isin (l)].sort_values('length')"
      ],
      "metadata": {
        "colab": {
          "base_uri": "https://localhost:8080/",
          "height": 175
        },
        "id": "_mXIhlK3sxMf",
        "outputId": "56a3d005-f276-4386-980d-7abf0ca23de8"
      },
      "execution_count": 269,
      "outputs": [
        {
          "output_type": "execute_result",
          "data": {
            "text/plain": [
              "             nature  diagonal  height_left  height_right  margin_low  \\\n",
              "code_billet                                                            \n",
              "b1082             0    171.75       103.96        103.83        5.39   \n",
              "b1453             0    171.55       104.20        104.49        5.42   \n",
              "b1355             0    171.68       103.89        103.70        5.97   \n",
              "\n",
              "             margin_up  length  \n",
              "code_billet                     \n",
              "b1082             3.54  109.49  \n",
              "b1453             3.54  109.93  \n",
              "b1355             3.03  109.97  "
            ],
            "text/html": [
              "\n",
              "  <div id=\"df-72712507-eaa3-4c0c-9f21-4ec9fa612ee8\">\n",
              "    <div class=\"colab-df-container\">\n",
              "      <div>\n",
              "<style scoped>\n",
              "    .dataframe tbody tr th:only-of-type {\n",
              "        vertical-align: middle;\n",
              "    }\n",
              "\n",
              "    .dataframe tbody tr th {\n",
              "        vertical-align: top;\n",
              "    }\n",
              "\n",
              "    .dataframe thead th {\n",
              "        text-align: right;\n",
              "    }\n",
              "</style>\n",
              "<table border=\"1\" class=\"dataframe\">\n",
              "  <thead>\n",
              "    <tr style=\"text-align: right;\">\n",
              "      <th></th>\n",
              "      <th>nature</th>\n",
              "      <th>diagonal</th>\n",
              "      <th>height_left</th>\n",
              "      <th>height_right</th>\n",
              "      <th>margin_low</th>\n",
              "      <th>margin_up</th>\n",
              "      <th>length</th>\n",
              "    </tr>\n",
              "    <tr>\n",
              "      <th>code_billet</th>\n",
              "      <th></th>\n",
              "      <th></th>\n",
              "      <th></th>\n",
              "      <th></th>\n",
              "      <th></th>\n",
              "      <th></th>\n",
              "      <th></th>\n",
              "    </tr>\n",
              "  </thead>\n",
              "  <tbody>\n",
              "    <tr>\n",
              "      <th>b1082</th>\n",
              "      <td>0</td>\n",
              "      <td>171.75</td>\n",
              "      <td>103.96</td>\n",
              "      <td>103.83</td>\n",
              "      <td>5.39</td>\n",
              "      <td>3.54</td>\n",
              "      <td>109.49</td>\n",
              "    </tr>\n",
              "    <tr>\n",
              "      <th>b1453</th>\n",
              "      <td>0</td>\n",
              "      <td>171.55</td>\n",
              "      <td>104.20</td>\n",
              "      <td>104.49</td>\n",
              "      <td>5.42</td>\n",
              "      <td>3.54</td>\n",
              "      <td>109.93</td>\n",
              "    </tr>\n",
              "    <tr>\n",
              "      <th>b1355</th>\n",
              "      <td>0</td>\n",
              "      <td>171.68</td>\n",
              "      <td>103.89</td>\n",
              "      <td>103.70</td>\n",
              "      <td>5.97</td>\n",
              "      <td>3.03</td>\n",
              "      <td>109.97</td>\n",
              "    </tr>\n",
              "  </tbody>\n",
              "</table>\n",
              "</div>\n",
              "      <button class=\"colab-df-convert\" onclick=\"convertToInteractive('df-72712507-eaa3-4c0c-9f21-4ec9fa612ee8')\"\n",
              "              title=\"Convert this dataframe to an interactive table.\"\n",
              "              style=\"display:none;\">\n",
              "        \n",
              "  <svg xmlns=\"http://www.w3.org/2000/svg\" height=\"24px\"viewBox=\"0 0 24 24\"\n",
              "       width=\"24px\">\n",
              "    <path d=\"M0 0h24v24H0V0z\" fill=\"none\"/>\n",
              "    <path d=\"M18.56 5.44l.94 2.06.94-2.06 2.06-.94-2.06-.94-.94-2.06-.94 2.06-2.06.94zm-11 1L8.5 8.5l.94-2.06 2.06-.94-2.06-.94L8.5 2.5l-.94 2.06-2.06.94zm10 10l.94 2.06.94-2.06 2.06-.94-2.06-.94-.94-2.06-.94 2.06-2.06.94z\"/><path d=\"M17.41 7.96l-1.37-1.37c-.4-.4-.92-.59-1.43-.59-.52 0-1.04.2-1.43.59L10.3 9.45l-7.72 7.72c-.78.78-.78 2.05 0 2.83L4 21.41c.39.39.9.59 1.41.59.51 0 1.02-.2 1.41-.59l7.78-7.78 2.81-2.81c.8-.78.8-2.07 0-2.86zM5.41 20L4 18.59l7.72-7.72 1.47 1.35L5.41 20z\"/>\n",
              "  </svg>\n",
              "      </button>\n",
              "      \n",
              "  <style>\n",
              "    .colab-df-container {\n",
              "      display:flex;\n",
              "      flex-wrap:wrap;\n",
              "      gap: 12px;\n",
              "    }\n",
              "\n",
              "    .colab-df-convert {\n",
              "      background-color: #E8F0FE;\n",
              "      border: none;\n",
              "      border-radius: 50%;\n",
              "      cursor: pointer;\n",
              "      display: none;\n",
              "      fill: #1967D2;\n",
              "      height: 32px;\n",
              "      padding: 0 0 0 0;\n",
              "      width: 32px;\n",
              "    }\n",
              "\n",
              "    .colab-df-convert:hover {\n",
              "      background-color: #E2EBFA;\n",
              "      box-shadow: 0px 1px 2px rgba(60, 64, 67, 0.3), 0px 1px 3px 1px rgba(60, 64, 67, 0.15);\n",
              "      fill: #174EA6;\n",
              "    }\n",
              "\n",
              "    [theme=dark] .colab-df-convert {\n",
              "      background-color: #3B4455;\n",
              "      fill: #D2E3FC;\n",
              "    }\n",
              "\n",
              "    [theme=dark] .colab-df-convert:hover {\n",
              "      background-color: #434B5C;\n",
              "      box-shadow: 0px 1px 3px 1px rgba(0, 0, 0, 0.15);\n",
              "      filter: drop-shadow(0px 1px 2px rgba(0, 0, 0, 0.3));\n",
              "      fill: #FFFFFF;\n",
              "    }\n",
              "  </style>\n",
              "\n",
              "      <script>\n",
              "        const buttonEl =\n",
              "          document.querySelector('#df-72712507-eaa3-4c0c-9f21-4ec9fa612ee8 button.colab-df-convert');\n",
              "        buttonEl.style.display =\n",
              "          google.colab.kernel.accessAllowed ? 'block' : 'none';\n",
              "\n",
              "        async function convertToInteractive(key) {\n",
              "          const element = document.querySelector('#df-72712507-eaa3-4c0c-9f21-4ec9fa612ee8');\n",
              "          const dataTable =\n",
              "            await google.colab.kernel.invokeFunction('convertToInteractive',\n",
              "                                                     [key], {});\n",
              "          if (!dataTable) return;\n",
              "\n",
              "          const docLinkHtml = 'Like what you see? Visit the ' +\n",
              "            '<a target=\"_blank\" href=https://colab.research.google.com/notebooks/data_table.ipynb>data table notebook</a>'\n",
              "            + ' to learn more about interactive tables.';\n",
              "          element.innerHTML = '';\n",
              "          dataTable['output_type'] = 'display_data';\n",
              "          await google.colab.output.renderOutput(dataTable, element);\n",
              "          const docLink = document.createElement('div');\n",
              "          docLink.innerHTML = docLinkHtml;\n",
              "          element.appendChild(docLink);\n",
              "        }\n",
              "      </script>\n",
              "    </div>\n",
              "  </div>\n",
              "  "
            ]
          },
          "metadata": {},
          "execution_count": 269
        }
      ]
    },
    {
      "cell_type": "markdown",
      "source": [
        "On voit 3 outliers pour la variable length qui sont tous de faux billets."
      ],
      "metadata": {
        "id": "7UyAfQrcYnNY"
      }
    },
    {
      "cell_type": "markdown",
      "source": [
        "# **<font color='indianred'>Partie 4 : Analyse bivariée des variables</font>**"
      ],
      "metadata": {
        "id": "8wb26Tf6thR4"
      }
    },
    {
      "cell_type": "markdown",
      "source": [
        "## <a name=\"C23\"><font color='LightSeaGreen'>Matrice de corrélation</font></a>"
      ],
      "metadata": {
        "id": "6pG-lgONtmi6"
      }
    },
    {
      "cell_type": "code",
      "source": [
        "variables=['diagonal','height_left','height_right','margin_low','margin_up','length']"
      ],
      "metadata": {
        "id": "DH0MVs9ZZjOb"
      },
      "execution_count": 270,
      "outputs": []
    },
    {
      "cell_type": "code",
      "source": [
        "matrix = df_billets[variables].corr()\n",
        "sns.heatmap(data=matrix, annot=True, cmap='PiYG');"
      ],
      "metadata": {
        "colab": {
          "base_uri": "https://localhost:8080/",
          "height": 329
        },
        "id": "5r0Gps3113-R",
        "outputId": "27a0c6a1-57fb-4307-b291-df2ef4f17fd9"
      },
      "execution_count": 271,
      "outputs": [
        {
          "output_type": "display_data",
          "data": {
            "text/plain": [
              "<Figure size 432x288 with 2 Axes>"
            ],
            "image/png": "[encoded data removed]"
          },
          "metadata": {}
        }
      ]
    },
    {
      "cell_type": "code",
      "source": [
        "#Visualisation\n",
        "#sns.pairplot(df_billets, x_vars=['diagonal','height_left','height_right','margin_low','margin_up','length'], y_vars='nature', kind='reg')\n",
        "sns.pairplot(df_billets, diag_kind=\"kde\",height=1.5, x_vars=variables, y_vars=variables, kind='reg')"
      ],
      "metadata": {
        "colab": {
          "base_uri": "https://localhost:8080/",
          "height": 672
        },
        "id": "Gdsc2_-TSgQO",
        "outputId": "8e05c9be-e9dd-41c1-d083-ea0ebdb94f7b"
      },
      "execution_count": 272,
      "outputs": [
        {
          "output_type": "execute_result",
          "data": {
            "text/plain": [
              "<seaborn.axisgrid.PairGrid at 0x7fbc08886150>"
            ]
          },
          "metadata": {},
          "execution_count": 272
        },
        {
          "output_type": "display_data",
          "data": {
            "text/plain": [
              "<Figure size 648x648 with 42 Axes>"
            ],
            "image/png": "[encoded data removed]"
          },
          "metadata": {}
        }
      ]
    },
    {
      "cell_type": "code",
      "source": [
        "#Comparaison visuelle des clusters par boxplot\n",
        "plt.figure(figsize=(15, 8))\n",
        "sns.set(style=\"white\", palette=\"husl\")\n",
        "plt.subplot(2, 3, 1)\n",
        "\n",
        "plt.subplot(231)\n",
        "sns.boxplot(data=df_billets, x='nature', y='diagonal')\n",
        "\n",
        "plt.subplot(232)\n",
        "sns.boxplot(data=df_billets, x='nature', y='height_left')\n",
        "\n",
        "plt.subplot(233)\n",
        "sns.boxplot(data=df_billets, x='nature', y='height_right')\n",
        "\n",
        "plt.subplot(234)\n",
        "sns.boxplot(data=df_billets, x='nature', y='margin_low')\n",
        "\n",
        "plt.subplot(235)\n",
        "sns.boxplot(data=df_billets, x='nature', y='margin_up')\n",
        "\n",
        "plt.subplot(236)\n",
        "sns.boxplot(data=df_billets, x='nature', y='length')\n",
        "\n",
        "plt.savefig(\"boxplots.png\")\n",
        "plt.show()"
      ],
      "metadata": {
        "colab": {
          "base_uri": "https://localhost:8080/",
          "height": 558
        },
        "id": "CM-NXL9nmuZm",
        "outputId": "61f0cf9f-16e9-4649-c526-0e403ecad51d"
      },
      "execution_count": 273,
      "outputs": [
        {
          "output_type": "stream",
          "name": "stderr",
          "text": [
            "/usr/local/lib/python3.7/dist-packages/ipykernel_launcher.py:6: MatplotlibDeprecationWarning: Adding an axes using the same arguments as a previous axes currently reuses the earlier instance.  In a future version, a new instance will always be created and returned.  Meanwhile, this warning can be suppressed, and the future behavior ensured, by passing a unique label to each axes instance.\n",
            "  \n"
          ]
        },
        {
          "output_type": "display_data",
          "data": {
            "text/plain": [
              "<Figure size 1080x576 with 6 Axes>"
            ],
            "image/png": "[encoded data removed]"
          },
          "metadata": {}
        }
      ]
    },
    {
      "cell_type": "code",
      "source": [
        "#df_billets[['nature', 'margin_low']].grouby('nature', as_index=False)\n",
        "#df_prix_cat=df_transcl[['categ', 'price']].groupby('categ', as_index=False).count()\n",
        "df_billets[['nature', 'margin_low']].groupby(['nature'], as_index=False).count()"
      ],
      "metadata": {
        "colab": {
          "base_uri": "https://localhost:8080/",
          "height": 112
        },
        "id": "nspIH42tPbyv",
        "outputId": "85671128-2e04-46ae-92da-e195897da57c"
      },
      "execution_count": 274,
      "outputs": [
        {
          "output_type": "execute_result",
          "data": {
            "text/plain": [
              "   nature  margin_low\n",
              "0       0         492\n",
              "1       1         971"
            ],
            "text/html": [
              "\n",
              "  <div id=\"df-a110841f-89c1-4faa-bf05-db550e866c22\">\n",
              "    <div class=\"colab-df-container\">\n",
              "      <div>\n",
              "<style scoped>\n",
              "    .dataframe tbody tr th:only-of-type {\n",
              "        vertical-align: middle;\n",
              "    }\n",
              "\n",
              "    .dataframe tbody tr th {\n",
              "        vertical-align: top;\n",
              "    }\n",
              "\n",
              "    .dataframe thead th {\n",
              "        text-align: right;\n",
              "    }\n",
              "</style>\n",
              "<table border=\"1\" class=\"dataframe\">\n",
              "  <thead>\n",
              "    <tr style=\"text-align: right;\">\n",
              "      <th></th>\n",
              "      <th>nature</th>\n",
              "      <th>margin_low</th>\n",
              "    </tr>\n",
              "  </thead>\n",
              "  <tbody>\n",
              "    <tr>\n",
              "      <th>0</th>\n",
              "      <td>0</td>\n",
              "      <td>492</td>\n",
              "    </tr>\n",
              "    <tr>\n",
              "      <th>1</th>\n",
              "      <td>1</td>\n",
              "      <td>971</td>\n",
              "    </tr>\n",
              "  </tbody>\n",
              "</table>\n",
              "</div>\n",
              "      <button class=\"colab-df-convert\" onclick=\"convertToInteractive('df-a110841f-89c1-4faa-bf05-db550e866c22')\"\n",
              "              title=\"Convert this dataframe to an interactive table.\"\n",
              "              style=\"display:none;\">\n",
              "        \n",
              "  <svg xmlns=\"http://www.w3.org/2000/svg\" height=\"24px\"viewBox=\"0 0 24 24\"\n",
              "       width=\"24px\">\n",
              "    <path d=\"M0 0h24v24H0V0z\" fill=\"none\"/>\n",
              "    <path d=\"M18.56 5.44l.94 2.06.94-2.06 2.06-.94-2.06-.94-.94-2.06-.94 2.06-2.06.94zm-11 1L8.5 8.5l.94-2.06 2.06-.94-2.06-.94L8.5 2.5l-.94 2.06-2.06.94zm10 10l.94 2.06.94-2.06 2.06-.94-2.06-.94-.94-2.06-.94 2.06-2.06.94z\"/><path d=\"M17.41 7.96l-1.37-1.37c-.4-.4-.92-.59-1.43-.59-.52 0-1.04.2-1.43.59L10.3 9.45l-7.72 7.72c-.78.78-.78 2.05 0 2.83L4 21.41c.39.39.9.59 1.41.59.51 0 1.02-.2 1.41-.59l7.78-7.78 2.81-2.81c.8-.78.8-2.07 0-2.86zM5.41 20L4 18.59l7.72-7.72 1.47 1.35L5.41 20z\"/>\n",
              "  </svg>\n",
              "      </button>\n",
              "      \n",
              "  <style>\n",
              "    .colab-df-container {\n",
              "      display:flex;\n",
              "      flex-wrap:wrap;\n",
              "      gap: 12px;\n",
              "    }\n",
              "\n",
              "    .colab-df-convert {\n",
              "      background-color: #E8F0FE;\n",
              "      border: none;\n",
              "      border-radius: 50%;\n",
              "      cursor: pointer;\n",
              "      display: none;\n",
              "      fill: #1967D2;\n",
              "      height: 32px;\n",
              "      padding: 0 0 0 0;\n",
              "      width: 32px;\n",
              "    }\n",
              "\n",
              "    .colab-df-convert:hover {\n",
              "      background-color: #E2EBFA;\n",
              "      box-shadow: 0px 1px 2px rgba(60, 64, 67, 0.3), 0px 1px 3px 1px rgba(60, 64, 67, 0.15);\n",
              "      fill: #174EA6;\n",
              "    }\n",
              "\n",
              "    [theme=dark] .colab-df-convert {\n",
              "      background-color: #3B4455;\n",
              "      fill: #D2E3FC;\n",
              "    }\n",
              "\n",
              "    [theme=dark] .colab-df-convert:hover {\n",
              "      background-color: #434B5C;\n",
              "      box-shadow: 0px 1px 3px 1px rgba(0, 0, 0, 0.15);\n",
              "      filter: drop-shadow(0px 1px 2px rgba(0, 0, 0, 0.3));\n",
              "      fill: #FFFFFF;\n",
              "    }\n",
              "  </style>\n",
              "\n",
              "      <script>\n",
              "        const buttonEl =\n",
              "          document.querySelector('#df-a110841f-89c1-4faa-bf05-db550e866c22 button.colab-df-convert');\n",
              "        buttonEl.style.display =\n",
              "          google.colab.kernel.accessAllowed ? 'block' : 'none';\n",
              "\n",
              "        async function convertToInteractive(key) {\n",
              "          const element = document.querySelector('#df-a110841f-89c1-4faa-bf05-db550e866c22');\n",
              "          const dataTable =\n",
              "            await google.colab.kernel.invokeFunction('convertToInteractive',\n",
              "                                                     [key], {});\n",
              "          if (!dataTable) return;\n",
              "\n",
              "          const docLinkHtml = 'Like what you see? Visit the ' +\n",
              "            '<a target=\"_blank\" href=https://colab.research.google.com/notebooks/data_table.ipynb>data table notebook</a>'\n",
              "            + ' to learn more about interactive tables.';\n",
              "          element.innerHTML = '';\n",
              "          dataTable['output_type'] = 'display_data';\n",
              "          await google.colab.output.renderOutput(dataTable, element);\n",
              "          const docLink = document.createElement('div');\n",
              "          docLink.innerHTML = docLinkHtml;\n",
              "          element.appendChild(docLink);\n",
              "        }\n",
              "      </script>\n",
              "    </div>\n",
              "  </div>\n",
              "  "
            ]
          },
          "metadata": {},
          "execution_count": 274
        }
      ]
    },
    {
      "cell_type": "markdown",
      "source": [
        "Il y a 8 valeurs manquantes parmi les faux billets et 29 valeurs manquantes parmi les vrais billets."
      ],
      "metadata": {
        "id": "-DFUuCNXR0HG"
      }
    },
    {
      "cell_type": "markdown",
      "source": [
        "Régression Linéaire"
      ],
      "metadata": {
        "id": "7oDPuRyzSbw9"
      }
    },
    {
      "cell_type": "code",
      "source": [
        "reg_multi = smf.ols('nature~diagonal+height_left+height_right+margin_low+margin_up+length', data=df_billets).fit()\n",
        "print(reg_multi.summary())"
      ],
      "metadata": {
        "colab": {
          "base_uri": "https://localhost:8080/"
        },
        "id": "NnnUmYMcmjYA",
        "outputId": "0c45146f-72a5-4d4c-d66b-601bdb11248f"
      },
      "execution_count": 275,
      "outputs": [
        {
          "output_type": "stream",
          "name": "stdout",
          "text": [
            "                            OLS Regression Results                            \n",
            "==============================================================================\n",
            "Dep. Variable:                 nature   R-squared:                       0.845\n",
            "Model:                            OLS   Adj. R-squared:                  0.844\n",
            "Method:                 Least Squares   F-statistic:                     1322.\n",
            "Date:                Fri, 19 Aug 2022   Prob (F-statistic):               0.00\n",
            "Time:                        20:09:02   Log-Likelihood:                 384.34\n",
            "No. Observations:                1463   AIC:                            -754.7\n",
            "Df Residuals:                    1456   BIC:                            -717.7\n",
            "Df Model:                           6                                         \n",
            "Covariance Type:            nonrobust                                         \n",
            "================================================================================\n",
            "                   coef    std err          t      P>|t|      [0.025      0.975]\n",
            "--------------------------------------------------------------------------------\n",
            "Intercept      -12.2646      3.753     -3.268      0.001     -19.627      -4.902\n",
            "diagonal         0.0600      0.016      3.720      0.000       0.028       0.092\n",
            "height_left     -0.0935      0.017     -5.353      0.000      -0.128      -0.059\n",
            "height_right    -0.1418      0.017     -8.394      0.000      -0.175      -0.109\n",
            "margin_low      -0.2341      0.010    -23.028      0.000      -0.254      -0.214\n",
            "margin_up       -0.3513      0.025    -13.988      0.000      -0.401      -0.302\n",
            "length           0.2595      0.008     31.823      0.000       0.244       0.276\n",
            "==============================================================================\n",
            "Omnibus:                       64.823   Durbin-Watson:                   1.730\n",
            "Prob(Omnibus):                  0.000   Jarque-Bera (JB):               82.281\n",
            "Skew:                          -0.449   Prob(JB):                     1.36e-18\n",
            "Kurtosis:                       3.736   Cond. No.                     1.95e+05\n",
            "==============================================================================\n",
            "\n",
            "Warnings:\n",
            "[1] Standard Errors assume that the covariance matrix of the errors is correctly specified.\n",
            "[2] The condition number is large, 1.95e+05. This might indicate that there are\n",
            "strong multicollinearity or other numerical problems.\n"
          ]
        }
      ]
    },
    {
      "cell_type": "code",
      "source": [
        "#dataframe avec seulement les valeurs manquantes (37)\n",
        "df_null=df_billets[df_billets.isnull().any(axis=1)]"
      ],
      "metadata": {
        "id": "BxBjabghI20x"
      },
      "execution_count": 276,
      "outputs": []
    },
    {
      "cell_type": "code",
      "source": [
        "#dataframe sans les valeurs manquantes\n",
        "df_full= df_billets[['diagonal','height_left','height_right','margin_low', 'margin_up','length']].dropna(inplace=False)\n",
        "#sans la marge_low\n",
        "X_full=df_full[['diagonal','height_left','height_right','margin_up','length']]"
      ],
      "metadata": {
        "id": "-p-N-xLZMJm5"
      },
      "execution_count": 277,
      "outputs": []
    },
    {
      "cell_type": "code",
      "source": [
        "plt.scatter(df_full['margin_up'], df_full['margin_low'])"
      ],
      "metadata": {
        "colab": {
          "base_uri": "https://localhost:8080/",
          "height": 286
        },
        "id": "1zGBvIGk5iRn",
        "outputId": "a0a7ee66-9946-48e9-bace-5727b5ddd817"
      },
      "execution_count": 278,
      "outputs": [
        {
          "output_type": "execute_result",
          "data": {
            "text/plain": [
              "<matplotlib.collections.PathCollection at 0x7fbc08cbae90>"
            ]
          },
          "metadata": {},
          "execution_count": 278
        },
        {
          "output_type": "display_data",
          "data": {
            "text/plain": [
              "<Figure size 432x288 with 1 Axes>"
            ],
            "image/png": "[encoded data removed]"
          },
          "metadata": {}
        }
      ]
    },
    {
      "cell_type": "code",
      "source": [
        "df_full.corr()"
      ],
      "metadata": {
        "colab": {
          "base_uri": "https://localhost:8080/",
          "height": 238
        },
        "id": "6PnNtWlrE0iP",
        "outputId": "8f450e72-c424-4ecf-e87f-557ba0b0e508"
      },
      "execution_count": 280,
      "outputs": [
        {
          "output_type": "execute_result",
          "data": {
            "text/plain": [
              "              diagonal  height_left  height_right  margin_low  margin_up  \\\n",
              "diagonal      1.000000     0.018265     -0.019428   -0.111534  -0.059147   \n",
              "height_left   0.018265     1.000000      0.235132    0.302643   0.243812   \n",
              "height_right -0.019428     0.235132      1.000000    0.391085   0.306867   \n",
              "margin_low   -0.111534     0.302643      0.391085    1.000000   0.431606   \n",
              "margin_up    -0.059147     0.243812      0.306867    0.431606   1.000000   \n",
              "length        0.100758    -0.314344     -0.404272   -0.666753  -0.521139   \n",
              "\n",
              "                length  \n",
              "diagonal      0.100758  \n",
              "height_left  -0.314344  \n",
              "height_right -0.404272  \n",
              "margin_low   -0.666753  \n",
              "margin_up    -0.521139  \n",
              "length        1.000000  "
            ],
            "text/html": [
              "\n",
              "  <div id=\"df-c651aced-20ef-4fe8-9e4b-dfecef7e6207\">\n",
              "    <div class=\"colab-df-container\">\n",
              "      <div>\n",
              "<style scoped>\n",
              "    .dataframe tbody tr th:only-of-type {\n",
              "        vertical-align: middle;\n",
              "    }\n",
              "\n",
              "    .dataframe tbody tr th {\n",
              "        vertical-align: top;\n",
              "    }\n",
              "\n",
              "    .dataframe thead th {\n",
              "        text-align: right;\n",
              "    }\n",
              "</style>\n",
              "<table border=\"1\" class=\"dataframe\">\n",
              "  <thead>\n",
              "    <tr style=\"text-align: right;\">\n",
              "      <th></th>\n",
              "      <th>diagonal</th>\n",
              "      <th>height_left</th>\n",
              "      <th>height_right</th>\n",
              "      <th>margin_low</th>\n",
              "      <th>margin_up</th>\n",
              "      <th>length</th>\n",
              "    </tr>\n",
              "  </thead>\n",
              "  <tbody>\n",
              "    <tr>\n",
              "      <th>diagonal</th>\n",
              "      <td>1.000000</td>\n",
              "      <td>0.018265</td>\n",
              "      <td>-0.019428</td>\n",
              "      <td>-0.111534</td>\n",
              "      <td>-0.059147</td>\n",
              "      <td>0.100758</td>\n",
              "    </tr>\n",
              "    <tr>\n",
              "      <th>height_left</th>\n",
              "      <td>0.018265</td>\n",
              "      <td>1.000000</td>\n",
              "      <td>0.235132</td>\n",
              "      <td>0.302643</td>\n",
              "      <td>0.243812</td>\n",
              "      <td>-0.314344</td>\n",
              "    </tr>\n",
              "    <tr>\n",
              "      <th>height_right</th>\n",
              "      <td>-0.019428</td>\n",
              "      <td>0.235132</td>\n",
              "      <td>1.000000</td>\n",
              "      <td>0.391085</td>\n",
              "      <td>0.306867</td>\n",
              "      <td>-0.404272</td>\n",
              "    </tr>\n",
              "    <tr>\n",
              "      <th>margin_low</th>\n",
              "      <td>-0.111534</td>\n",
              "      <td>0.302643</td>\n",
              "      <td>0.391085</td>\n",
              "      <td>1.000000</td>\n",
              "      <td>0.431606</td>\n",
              "      <td>-0.666753</td>\n",
              "    </tr>\n",
              "    <tr>\n",
              "      <th>margin_up</th>\n",
              "      <td>-0.059147</td>\n",
              "      <td>0.243812</td>\n",
              "      <td>0.306867</td>\n",
              "      <td>0.431606</td>\n",
              "      <td>1.000000</td>\n",
              "      <td>-0.521139</td>\n",
              "    </tr>\n",
              "    <tr>\n",
              "      <th>length</th>\n",
              "      <td>0.100758</td>\n",
              "      <td>-0.314344</td>\n",
              "      <td>-0.404272</td>\n",
              "      <td>-0.666753</td>\n",
              "      <td>-0.521139</td>\n",
              "      <td>1.000000</td>\n",
              "    </tr>\n",
              "  </tbody>\n",
              "</table>\n",
              "</div>\n",
              "      <button class=\"colab-df-convert\" onclick=\"convertToInteractive('df-c651aced-20ef-4fe8-9e4b-dfecef7e6207')\"\n",
              "              title=\"Convert this dataframe to an interactive table.\"\n",
              "              style=\"display:none;\">\n",
              "        \n",
              "  <svg xmlns=\"http://www.w3.org/2000/svg\" height=\"24px\"viewBox=\"0 0 24 24\"\n",
              "       width=\"24px\">\n",
              "    <path d=\"M0 0h24v24H0V0z\" fill=\"none\"/>\n",
              "    <path d=\"M18.56 5.44l.94 2.06.94-2.06 2.06-.94-2.06-.94-.94-2.06-.94 2.06-2.06.94zm-11 1L8.5 8.5l.94-2.06 2.06-.94-2.06-.94L8.5 2.5l-.94 2.06-2.06.94zm10 10l.94 2.06.94-2.06 2.06-.94-2.06-.94-.94-2.06-.94 2.06-2.06.94z\"/><path d=\"M17.41 7.96l-1.37-1.37c-.4-.4-.92-.59-1.43-.59-.52 0-1.04.2-1.43.59L10.3 9.45l-7.72 7.72c-.78.78-.78 2.05 0 2.83L4 21.41c.39.39.9.59 1.41.59.51 0 1.02-.2 1.41-.59l7.78-7.78 2.81-2.81c.8-.78.8-2.07 0-2.86zM5.41 20L4 18.59l7.72-7.72 1.47 1.35L5.41 20z\"/>\n",
              "  </svg>\n",
              "      </button>\n",
              "      \n",
              "  <style>\n",
              "    .colab-df-container {\n",
              "      display:flex;\n",
              "      flex-wrap:wrap;\n",
              "      gap: 12px;\n",
              "    }\n",
              "\n",
              "    .colab-df-convert {\n",
              "      background-color: #E8F0FE;\n",
              "      border: none;\n",
              "      border-radius: 50%;\n",
              "      cursor: pointer;\n",
              "      display: none;\n",
              "      fill: #1967D2;\n",
              "      height: 32px;\n",
              "      padding: 0 0 0 0;\n",
              "      width: 32px;\n",
              "    }\n",
              "\n",
              "    .colab-df-convert:hover {\n",
              "      background-color: #E2EBFA;\n",
              "      box-shadow: 0px 1px 2px rgba(60, 64, 67, 0.3), 0px 1px 3px 1px rgba(60, 64, 67, 0.15);\n",
              "      fill: #174EA6;\n",
              "    }\n",
              "\n",
              "    [theme=dark] .colab-df-convert {\n",
              "      background-color: #3B4455;\n",
              "      fill: #D2E3FC;\n",
              "    }\n",
              "\n",
              "    [theme=dark] .colab-df-convert:hover {\n",
              "      background-color: #434B5C;\n",
              "      box-shadow: 0px 1px 3px 1px rgba(0, 0, 0, 0.15);\n",
              "      filter: drop-shadow(0px 1px 2px rgba(0, 0, 0, 0.3));\n",
              "      fill: #FFFFFF;\n",
              "    }\n",
              "  </style>\n",
              "\n",
              "      <script>\n",
              "        const buttonEl =\n",
              "          document.querySelector('#df-c651aced-20ef-4fe8-9e4b-dfecef7e6207 button.colab-df-convert');\n",
              "        buttonEl.style.display =\n",
              "          google.colab.kernel.accessAllowed ? 'block' : 'none';\n",
              "\n",
              "        async function convertToInteractive(key) {\n",
              "          const element = document.querySelector('#df-c651aced-20ef-4fe8-9e4b-dfecef7e6207');\n",
              "          const dataTable =\n",
              "            await google.colab.kernel.invokeFunction('convertToInteractive',\n",
              "                                                     [key], {});\n",
              "          if (!dataTable) return;\n",
              "\n",
              "          const docLinkHtml = 'Like what you see? Visit the ' +\n",
              "            '<a target=\"_blank\" href=https://colab.research.google.com/notebooks/data_table.ipynb>data table notebook</a>'\n",
              "            + ' to learn more about interactive tables.';\n",
              "          element.innerHTML = '';\n",
              "          dataTable['output_type'] = 'display_data';\n",
              "          await google.colab.output.renderOutput(dataTable, element);\n",
              "          const docLink = document.createElement('div');\n",
              "          docLink.innerHTML = docLinkHtml;\n",
              "          element.appendChild(docLink);\n",
              "        }\n",
              "      </script>\n",
              "    </div>\n",
              "  </div>\n",
              "  "
            ]
          },
          "metadata": {},
          "execution_count": 280
        }
      ]
    },
    {
      "cell_type": "code",
      "source": [
        "from sklearn.linear_model import LinearRegression\n",
        "model = LinearRegression()\n",
        "df_billets_var = df_billets[variables]\n",
        "testdf = df_billets_var[df_billets_var['margin_low'].isnull()==True]\n",
        "traindf = df_billets_var[df_billets_var['margin_low'].isnull()==False]\n",
        "y = traindf['margin_low']\n",
        "traindf.drop(\"margin_low\", axis=1, inplace=True)\n",
        "#entrainement\n",
        "model.fit(traindf,y)\n",
        "testdf.drop(\"margin_low\", axis=1, inplace=True)\n",
        "\n",
        "traindf\n",
        "#testdf"
      ],
      "metadata": {
        "colab": {
          "base_uri": "https://localhost:8080/",
          "height": 634
        },
        "id": "pGT-ML-PhCJg",
        "outputId": "40e5ad12-b2c3-44a4-a1fa-30015d5812b6"
      },
      "execution_count": 296,
      "outputs": [
        {
          "output_type": "stream",
          "name": "stderr",
          "text": [
            "/usr/local/lib/python3.7/dist-packages/pandas/core/frame.py:4913: SettingWithCopyWarning: \n",
            "A value is trying to be set on a copy of a slice from a DataFrame\n",
            "\n",
            "See the caveats in the documentation: https://pandas.pydata.org/pandas-docs/stable/user_guide/indexing.html#returning-a-view-versus-a-copy\n",
            "  errors=errors,\n",
            "/usr/local/lib/python3.7/dist-packages/pandas/core/frame.py:4913: SettingWithCopyWarning: \n",
            "A value is trying to be set on a copy of a slice from a DataFrame\n",
            "\n",
            "See the caveats in the documentation: https://pandas.pydata.org/pandas-docs/stable/user_guide/indexing.html#returning-a-view-versus-a-copy\n",
            "  errors=errors,\n"
          ]
        },
        {
          "output_type": "execute_result",
          "data": {
            "text/plain": [
              "             diagonal  height_left  height_right  margin_up  length\n",
              "code_billet                                                        \n",
              "b0             171.81       104.86        104.95       2.89  112.83\n",
              "b1             171.46       103.36        103.66       2.99  113.09\n",
              "b2             172.69       104.48        103.50       2.94  113.16\n",
              "b3             171.36       103.91        103.94       3.01  113.51\n",
              "b4             171.73       104.28        103.46       3.48  112.54\n",
              "...               ...          ...           ...        ...     ...\n",
              "b1495          171.75       104.38        104.17       3.09  111.28\n",
              "b1496          172.19       104.63        104.44       3.37  110.97\n",
              "b1497          171.80       104.01        104.12       3.36  111.95\n",
              "b1498          172.06       104.28        104.06       3.46  112.25\n",
              "b1499          171.47       104.15        103.82       3.37  112.07\n",
              "\n",
              "[1463 rows x 5 columns]"
            ],
            "text/html": [
              "\n",
              "  <div id=\"df-859e296b-20df-4f85-bbfc-7f69e57197fe\">\n",
              "    <div class=\"colab-df-container\">\n",
              "      <div>\n",
              "<style scoped>\n",
              "    .dataframe tbody tr th:only-of-type {\n",
              "        vertical-align: middle;\n",
              "    }\n",
              "\n",
              "    .dataframe tbody tr th {\n",
              "        vertical-align: top;\n",
              "    }\n",
              "\n",
              "    .dataframe thead th {\n",
              "        text-align: right;\n",
              "    }\n",
              "</style>\n",
              "<table border=\"1\" class=\"dataframe\">\n",
              "  <thead>\n",
              "    <tr style=\"text-align: right;\">\n",
              "      <th></th>\n",
              "      <th>diagonal</th>\n",
              "      <th>height_left</th>\n",
              "      <th>height_right</th>\n",
              "      <th>margin_up</th>\n",
              "      <th>length</th>\n",
              "    </tr>\n",
              "    <tr>\n",
              "      <th>code_billet</th>\n",
              "      <th></th>\n",
              "      <th></th>\n",
              "      <th></th>\n",
              "      <th></th>\n",
              "      <th></th>\n",
              "    </tr>\n",
              "  </thead>\n",
              "  <tbody>\n",
              "    <tr>\n",
              "      <th>b0</th>\n",
              "      <td>171.81</td>\n",
              "      <td>104.86</td>\n",
              "      <td>104.95</td>\n",
              "      <td>2.89</td>\n",
              "      <td>112.83</td>\n",
              "    </tr>\n",
              "    <tr>\n",
              "      <th>b1</th>\n",
              "      <td>171.46</td>\n",
              "      <td>103.36</td>\n",
              "      <td>103.66</td>\n",
              "      <td>2.99</td>\n",
              "      <td>113.09</td>\n",
              "    </tr>\n",
              "    <tr>\n",
              "      <th>b2</th>\n",
              "      <td>172.69</td>\n",
              "      <td>104.48</td>\n",
              "      <td>103.50</td>\n",
              "      <td>2.94</td>\n",
              "      <td>113.16</td>\n",
              "    </tr>\n",
              "    <tr>\n",
              "      <th>b3</th>\n",
              "      <td>171.36</td>\n",
              "      <td>103.91</td>\n",
              "      <td>103.94</td>\n",
              "      <td>3.01</td>\n",
              "      <td>113.51</td>\n",
              "    </tr>\n",
              "    <tr>\n",
              "      <th>b4</th>\n",
              "      <td>171.73</td>\n",
              "      <td>104.28</td>\n",
              "      <td>103.46</td>\n",
              "      <td>3.48</td>\n",
              "      <td>112.54</td>\n",
              "    </tr>\n",
              "    <tr>\n",
              "      <th>...</th>\n",
              "      <td>...</td>\n",
              "      <td>...</td>\n",
              "      <td>...</td>\n",
              "      <td>...</td>\n",
              "      <td>...</td>\n",
              "    </tr>\n",
              "    <tr>\n",
              "      <th>b1495</th>\n",
              "      <td>171.75</td>\n",
              "      <td>104.38</td>\n",
              "      <td>104.17</td>\n",
              "      <td>3.09</td>\n",
              "      <td>111.28</td>\n",
              "    </tr>\n",
              "    <tr>\n",
              "      <th>b1496</th>\n",
              "      <td>172.19</td>\n",
              "      <td>104.63</td>\n",
              "      <td>104.44</td>\n",
              "      <td>3.37</td>\n",
              "      <td>110.97</td>\n",
              "    </tr>\n",
              "    <tr>\n",
              "      <th>b1497</th>\n",
              "      <td>171.80</td>\n",
              "      <td>104.01</td>\n",
              "      <td>104.12</td>\n",
              "      <td>3.36</td>\n",
              "      <td>111.95</td>\n",
              "    </tr>\n",
              "    <tr>\n",
              "      <th>b1498</th>\n",
              "      <td>172.06</td>\n",
              "      <td>104.28</td>\n",
              "      <td>104.06</td>\n",
              "      <td>3.46</td>\n",
              "      <td>112.25</td>\n",
              "    </tr>\n",
              "    <tr>\n",
              "      <th>b1499</th>\n",
              "      <td>171.47</td>\n",
              "      <td>104.15</td>\n",
              "      <td>103.82</td>\n",
              "      <td>3.37</td>\n",
              "      <td>112.07</td>\n",
              "    </tr>\n",
              "  </tbody>\n",
              "</table>\n",
              "<p>1463 rows × 5 columns</p>\n",
              "</div>\n",
              "      <button class=\"colab-df-convert\" onclick=\"convertToInteractive('df-859e296b-20df-4f85-bbfc-7f69e57197fe')\"\n",
              "              title=\"Convert this dataframe to an interactive table.\"\n",
              "              style=\"display:none;\">\n",
              "        \n",
              "  <svg xmlns=\"http://www.w3.org/2000/svg\" height=\"24px\"viewBox=\"0 0 24 24\"\n",
              "       width=\"24px\">\n",
              "    <path d=\"M0 0h24v24H0V0z\" fill=\"none\"/>\n",
              "    <path d=\"M18.56 5.44l.94 2.06.94-2.06 2.06-.94-2.06-.94-.94-2.06-.94 2.06-2.06.94zm-11 1L8.5 8.5l.94-2.06 2.06-.94-2.06-.94L8.5 2.5l-.94 2.06-2.06.94zm10 10l.94 2.06.94-2.06 2.06-.94-2.06-.94-.94-2.06-.94 2.06-2.06.94z\"/><path d=\"M17.41 7.96l-1.37-1.37c-.4-.4-.92-.59-1.43-.59-.52 0-1.04.2-1.43.59L10.3 9.45l-7.72 7.72c-.78.78-.78 2.05 0 2.83L4 21.41c.39.39.9.59 1.41.59.51 0 1.02-.2 1.41-.59l7.78-7.78 2.81-2.81c.8-.78.8-2.07 0-2.86zM5.41 20L4 18.59l7.72-7.72 1.47 1.35L5.41 20z\"/>\n",
              "  </svg>\n",
              "      </button>\n",
              "      \n",
              "  <style>\n",
              "    .colab-df-container {\n",
              "      display:flex;\n",
              "      flex-wrap:wrap;\n",
              "      gap: 12px;\n",
              "    }\n",
              "\n",
              "    .colab-df-convert {\n",
              "      background-color: #E8F0FE;\n",
              "      border: none;\n",
              "      border-radius: 50%;\n",
              "      cursor: pointer;\n",
              "      display: none;\n",
              "      fill: #1967D2;\n",
              "      height: 32px;\n",
              "      padding: 0 0 0 0;\n",
              "      width: 32px;\n",
              "    }\n",
              "\n",
              "    .colab-df-convert:hover {\n",
              "      background-color: #E2EBFA;\n",
              "      box-shadow: 0px 1px 2px rgba(60, 64, 67, 0.3), 0px 1px 3px 1px rgba(60, 64, 67, 0.15);\n",
              "      fill: #174EA6;\n",
              "    }\n",
              "\n",
              "    [theme=dark] .colab-df-convert {\n",
              "      background-color: #3B4455;\n",
              "      fill: #D2E3FC;\n",
              "    }\n",
              "\n",
              "    [theme=dark] .colab-df-convert:hover {\n",
              "      background-color: #434B5C;\n",
              "      box-shadow: 0px 1px 3px 1px rgba(0, 0, 0, 0.15);\n",
              "      filter: drop-shadow(0px 1px 2px rgba(0, 0, 0, 0.3));\n",
              "      fill: #FFFFFF;\n",
              "    }\n",
              "  </style>\n",
              "\n",
              "      <script>\n",
              "        const buttonEl =\n",
              "          document.querySelector('#df-859e296b-20df-4f85-bbfc-7f69e57197fe button.colab-df-convert');\n",
              "        buttonEl.style.display =\n",
              "          google.colab.kernel.accessAllowed ? 'block' : 'none';\n",
              "\n",
              "        async function convertToInteractive(key) {\n",
              "          const element = document.querySelector('#df-859e296b-20df-4f85-bbfc-7f69e57197fe');\n",
              "          const dataTable =\n",
              "            await google.colab.kernel.invokeFunction('convertToInteractive',\n",
              "                                                     [key], {});\n",
              "          if (!dataTable) return;\n",
              "\n",
              "          const docLinkHtml = 'Like what you see? Visit the ' +\n",
              "            '<a target=\"_blank\" href=https://colab.research.google.com/notebooks/data_table.ipynb>data table notebook</a>'\n",
              "            + ' to learn more about interactive tables.';\n",
              "          element.innerHTML = '';\n",
              "          dataTable['output_type'] = 'display_data';\n",
              "          await google.colab.output.renderOutput(dataTable, element);\n",
              "          const docLink = document.createElement('div');\n",
              "          docLink.innerHTML = docLinkHtml;\n",
              "          element.appendChild(docLink);\n",
              "        }\n",
              "      </script>\n",
              "    </div>\n",
              "  </div>\n",
              "  "
            ]
          },
          "metadata": {},
          "execution_count": 296
        }
      ]
    },
    {
      "cell_type": "code",
      "source": [
        "#scores\n",
        "print('train score:', model.score(traindf, y))\n",
        "print('test score:', model.score(testdf, pred))\n",
        "#prédiction\n",
        "pred = model.predict(testdf)\n",
        "testdf['margin_low']= pred\n",
        "print(pred)"
      ],
      "metadata": {
        "colab": {
          "base_uri": "https://localhost:8080/"
        },
        "id": "nrSZXZ8dnOME",
        "outputId": "6fa10d26-322a-49c2-93b0-756dae7bae8e"
      },
      "execution_count": 301,
      "outputs": [
        {
          "output_type": "stream",
          "name": "stdout",
          "text": [
            "train score: 0.4773366973063957\n",
            "test score: 1.0\n",
            "[4.31852466 4.39366755 4.41045663 4.31901423 4.6506171  3.80330831\n",
            " 4.17973608 4.12744154 4.13503418 4.16053851 4.17742026 3.76855378\n",
            " 4.05876385 4.29804709 4.16060746 4.09406453 4.43984627 4.47065037\n",
            " 4.34164322 4.08041448 3.61430588 4.37181147 4.09362068 4.24962896\n",
            " 3.89374829 3.74633265 4.23741481 4.71053287 4.13778022 5.05027715\n",
            " 4.80214523 5.067584   5.04756967 4.77896717 5.726993   5.18586214\n",
            " 5.14004269]\n"
          ]
        },
        {
          "output_type": "stream",
          "name": "stderr",
          "text": [
            "/usr/local/lib/python3.7/dist-packages/ipykernel_launcher.py:6: SettingWithCopyWarning: \n",
            "A value is trying to be set on a copy of a slice from a DataFrame.\n",
            "Try using .loc[row_indexer,col_indexer] = value instead\n",
            "\n",
            "See the caveats in the documentation: https://pandas.pydata.org/pandas-docs/stable/user_guide/indexing.html#returning-a-view-versus-a-copy\n",
            "  \n"
          ]
        }
      ]
    },
    {
      "cell_type": "code",
      "source": [
        "#B0\n",
        "print(model.intercept_)\n",
        "#Coefficients des 6 variables\n",
        "print(model.coef_)\n",
        "#combinaison des variables avec leurs coefficients\n",
        "zip(variables, model.coef_)"
      ],
      "metadata": {
        "colab": {
          "base_uri": "https://localhost:8080/"
        },
        "id": "fnoCgaQ0HTdL",
        "outputId": "266cf2fd-0b66-44d7-fda5-fcbf3d230516"
      },
      "execution_count": 299,
      "outputs": [
        {
          "output_type": "stream",
          "name": "stdout",
          "text": [
            "22.994842714447834\n",
            "[-0.11105978  0.18412242  0.25713805  0.2561879  -0.40910293]\n"
          ]
        },
        {
          "output_type": "execute_result",
          "data": {
            "text/plain": [
              "<zip at 0x7fbc0ab60820>"
            ]
          },
          "metadata": {},
          "execution_count": 299
        }
      ]
    },
    {
      "cell_type": "markdown",
      "source": [
        "## <a name=\"C26\"><font color='LightSeaGreen'>K-Means</font></a>"
      ],
      "metadata": {
        "id": "uRLN7WJA-NQE"
      }
    },
    {
      "cell_type": "markdown",
      "source": [
        "###<font color='purple'>Centrage et Réduction</font>"
      ],
      "metadata": {
        "id": "aTFnZXGkyGME"
      }
    },
    {
      "cell_type": "code",
      "source": [
        "from sklearn import decomposition, preprocessing\n",
        "# préparation des données pour le clustering\n",
        "X = df_billets \n",
        "billets = df_billets.index\n",
        "# Centrage et Réduction\n",
        "std_scale = preprocessing.StandardScaler().fit(X)\n",
        "X_scaled = std_scale.transform(X)"
      ],
      "metadata": {
        "id": "DuvRZRRhnP5i"
      },
      "execution_count": null,
      "outputs": []
    },
    {
      "cell_type": "markdown",
      "source": [
        "###<font color='purple'>Coefficient de silhouette</font>"
      ],
      "metadata": {
        "id": "wwZHNTKMyN7o"
      }
    },
    {
      "cell_type": "code",
      "source": [
        "from sklearn.cluster import KMeans\n",
        "import sklearn.metrics as metrics\n",
        "\n",
        "#Liste pour stocker nos coefficients\n",
        "silhouettes = [] \n",
        "\n",
        "#Boucle itérative de 2 à 10 clusters pour tester toutes les possibilités de k\n",
        "for k in range(2, 10): \n",
        "    #Création et ajustement d'un modèle pour chaque k\n",
        "    cls = KMeans(n_clusters=k)  \n",
        "    cls.fit(X_scaled)\n",
        "    \n",
        "    #Stockage des coefficients associés\n",
        "    silh = metrics.silhouette_score(X_scaled, cls.labels_)\n",
        "    silhouettes.append(silh)\n",
        "    \n",
        "#Visualisation des valeurs de coefficient de silhouette pour chaque nombre de cluster\n",
        "plt.plot(range(2, 10), silhouettes, marker='o')\n",
        "plt.savefig('silhouette.png')\n",
        "plt.show()"
      ],
      "metadata": {
        "id": "gvFGOYiKC4TS"
      },
      "execution_count": null,
      "outputs": []
    },
    {
      "cell_type": "markdown",
      "source": [
        "Le coefficient de silhouette nous indique une valeur de k=5."
      ],
      "metadata": {
        "id": "RiEp_zmvRjt9"
      }
    },
    {
      "cell_type": "markdown",
      "source": [
        "###<font color='purple'>Méthode du coude</font>"
      ],
      "metadata": {
        "id": "pAfxARpCyT7f"
      }
    },
    {
      "cell_type": "code",
      "source": [
        "#Méthode du coude\n",
        "#On crée une liste dans laquelle on stocke les inerties\n",
        "inerties=[]\n",
        "\n",
        "#On fait une boucle de 2 à 9 pour tester toutes ces possibiliéts\n",
        "for k in range(2, 10):\n",
        "    #pour chaque k, on crée un modèle et on l’ajuste\n",
        "    km = KMeans(n_clusters=k)\n",
        "    km.fit(X_scaled)\n",
        "    #on stocke l’inertie associée\n",
        "    inerties.append(km.inertia_)\n",
        "\n",
        "#Visualisation des valeurs d'inertie pour chaque nombre de cluster\n",
        "plt.plot(range(2, 10), inerties, marker='o')\n",
        "\n",
        "plt.savefig('coude.png')\n",
        "plt.show()"
      ],
      "metadata": {
        "id": "HZ8BP4HpDFOY"
      },
      "execution_count": null,
      "outputs": []
    },
    {
      "cell_type": "markdown",
      "source": [
        "Pas d'indication particulière sur le nombre de clusters à choisir"
      ],
      "metadata": {
        "id": "uYqKlVeWyyHS"
      }
    },
    {
      "cell_type": "markdown",
      "source": [
        "###<font color='purple'>Algorithme du Kmeans</font>"
      ],
      "metadata": {
        "id": "LNJ_8cJ7zdzs"
      }
    },
    {
      "cell_type": "code",
      "source": [
        "#Algorithme du Kmeans \n",
        "from sklearn.cluster import KMeans\n",
        "\n",
        "# Création du modèle k-means \n",
        "kmeans = KMeans(n_clusters=2, n_init=20, init='k-means++', random_state=1)\n",
        "kmeans.fit(X_scaled)\n",
        "\n",
        "# Détermine à quel cluster appartient chaque point (kmeans.labels_)\n",
        "clusters =  kmeans.predict(X_scaled)\n",
        "clusters"
      ],
      "metadata": {
        "id": "28oh59fiIgUK"
      },
      "execution_count": null,
      "outputs": []
    },
    {
      "cell_type": "code",
      "source": [
        "#nombre d'individus (pays) dans chaque cluster\n",
        "import numpy\n",
        "numpy.unique(kmeans.labels_, return_counts=True)"
      ],
      "metadata": {
        "id": "GF5-Ge5Z8K3Y"
      },
      "execution_count": null,
      "outputs": []
    },
    {
      "cell_type": "markdown",
      "source": [
        "###<font color='purple'>Ajout de la colonne numéro de cluster </font>"
      ],
      "metadata": {
        "id": "63omv0EWzhtD"
      }
    },
    {
      "cell_type": "code",
      "source": [
        "#Ajout d'une nouvelle colonne qui affecte à chaque pays un numéro de cluster\n",
        "df_km=df_billets.copy()\n",
        "df_km['nocl'] = kmeans.labels_\n",
        "df_km"
      ],
      "metadata": {
        "id": "DqBaxzXjA2mH"
      },
      "execution_count": null,
      "outputs": []
    },
    {
      "cell_type": "code",
      "source": [
        "df_km=df_km.reset_index()"
      ],
      "metadata": {
        "id": "5PHrnaGV72Dt"
      },
      "execution_count": null,
      "outputs": []
    },
    {
      "cell_type": "markdown",
      "source": [
        "###<font color='purple'>Affichage des pays de chaque cluster</font>"
      ],
      "metadata": {
        "id": "Hrtt50_Hzpf_"
      }
    },
    {
      "cell_type": "code",
      "source": [
        "#Dataframe de chaque cluster\n",
        "clusterkm0=df_km[df_km['nocl']==0]\n",
        "clusterkm1=df_km[df_km['nocl']==1]\n",
        "clusterkm2=df_km[df_km['nocl']==2]\n",
        "clusterkm3=df_km[df_km['nocl']==3]\n",
        "clusterkm4=df_km[df_km['nocl']==4]\n",
        "clusterkm1.head()"
      ],
      "metadata": {
        "id": "61Dcy69x64GE"
      },
      "execution_count": null,
      "outputs": []
    },
    {
      "cell_type": "code",
      "source": [
        "print('Cluster 0 :', 'Nombre de billets:', len(clusterkm0), clusterkm0.index.unique())\n",
        "print('Cluster 1 :', 'Nombre de billets:', len(clusterkm1), clusterkm1.index.unique())"
      ],
      "metadata": {
        "id": "ozJfgnp17Tk7"
      },
      "execution_count": null,
      "outputs": []
    },
    {
      "cell_type": "markdown",
      "source": [
        "###<font color='purple'>Visualisation des clusters par variable</font>"
      ],
      "metadata": {
        "id": "EnCsweQCzwTB"
      }
    },
    {
      "cell_type": "code",
      "source": [
        "#Comparaison visuelle des clusters par boxplot\n",
        "plt.figure(figsize=(25, 15))\n",
        "sns.set(style=\"whitegrid\")\n",
        "plt.subplot(2, 3, 1)\n",
        "\n",
        "plt.subplot(231)\n",
        "sns.boxplot(data=df_km, x='nocl', y='diagonal')\n",
        "\n",
        "plt.subplot(232)\n",
        "sns.boxplot(data=df_km, x='nocl', y='height_left')\n",
        "\n",
        "plt.subplot(233)\n",
        "sns.boxplot(data=df_km, x='nocl', y='height_right')\n",
        "\n",
        "plt.subplot(234)\n",
        "sns.boxplot(data=df_km, x='nocl', y='margin_low')\n",
        "\n",
        "plt.subplot(235)\n",
        "sns.boxplot(data=df_km, x='nocl', y='margin_up')\n",
        "\n",
        "plt.subplot(236)\n",
        "sns.boxplot(data=df_km, x='nocl', y='length')\n",
        "\n",
        "plt.savefig(\"boxplots.png\")\n",
        "plt.show()"
      ],
      "metadata": {
        "id": "N6N13_REb5KW"
      },
      "execution_count": null,
      "outputs": []
    },
    {
      "cell_type": "markdown",
      "source": [
        "Caractéristiques des VRAIS / FAUX BILLETS :\n",
        "*   Les *faux* billets ont une ***hauteur*** (droite/gauche) et une ***marge*** (bas/haut) plus **grandes** que les vrais billets\n",
        "*   Les *faux* billets ont une **longueur** plus **petite** que celles des *vrais* billets\n",
        "*   Les *faux* billets ont une **diagonale** un peu plus petite que celles des *vrais* billets\n"
      ],
      "metadata": {
        "id": "qasMrd0A1YmN"
      }
    },
    {
      "cell_type": "markdown",
      "source": [
        "###<font color='purple'>Centroides</font>"
      ],
      "metadata": {
        "id": "vW3q7q12ztka"
      }
    },
    {
      "cell_type": "code",
      "source": [
        "#Centroïdes des 5 clusters dans la forme centrée réduite\n",
        "centroids = kmeans.cluster_centers_\n",
        "df_cent=pd.DataFrame(centroids, columns=df_billets.columns).round(decimals = 2) \n",
        "df_cent"
      ],
      "metadata": {
        "id": "8d7pwVcVKzWL"
      },
      "execution_count": null,
      "outputs": []
    },
    {
      "cell_type": "markdown",
      "source": [
        "###<font color='purple'>ClusterMap</font>"
      ],
      "metadata": {
        "id": "AEBC7xY2z7AT"
      }
    },
    {
      "cell_type": "code",
      "source": [
        "#Clustermap entre clusters et variables\n",
        "sns.clustermap(df_cent, figsize=(10, 6), annot=True, standard_scale=1, cmap='Blues')\n",
        "plt.savefig(\"clustermap.png\")\n",
        "plt.show()"
      ],
      "metadata": {
        "id": "o6Cw9XLSxibX"
      },
      "execution_count": null,
      "outputs": []
    },
    {
      "cell_type": "markdown",
      "source": [
        "## <a name=\"C27\"><font color='LightSeaGreen'>Analyse en Composantes Principales (PCA)</font></a>"
      ],
      "metadata": {
        "id": "lpNo40KcyPHS"
      }
    },
    {
      "cell_type": "markdown",
      "source": [
        "###<font color='purple'>Visualisation des clusters et variables sur un plan à 2 dimensions</font>"
      ],
      "metadata": {
        "id": "B94x99zX0MGb"
      }
    },
    {
      "cell_type": "code",
      "source": [
        "#df_billets=df_billets[['diagonal','height_left','height_right','margin_low','margin_up','length']]"
      ],
      "metadata": {
        "id": "pu23Ptx-xaWY"
      },
      "execution_count": null,
      "outputs": []
    },
    {
      "cell_type": "code",
      "source": [
        "from sklearn.decomposition import PCA\n",
        "from sklearn import decomposition, preprocessing\n",
        "\n",
        "n_comp=4\n",
        "\n",
        "# Création du PCA pour réduire les données à 2 dimensions pour la visualisation\n",
        "pca = PCA(n_components=n_comp)\n",
        "pca.fit(X_scaled)\n",
        "\n",
        "# Cercle des corrélations\n",
        "from functions import display_circles\n",
        "pcs = pca.components_\n",
        "display_circles(pcs, n_comp, pca, [(0,1),(2,3)], labels = np.array(df_billets.columns))\n",
        "\n",
        "# Projection des individus (nouvel espace vectoriel)\n",
        "X_projected = pca.transform(X_scaled)\n",
        "\n",
        "# Affiche un scatter plot des points des data dans le nouvel espace vectoriel\n",
        "from functions import display_factorial_planes\n",
        "display_factorial_planes(X_projected, n_comp, pca, [(0,1),(2,3)], labels=None, illustrative_var = clusters, alpha = 0.8)\n",
        "\n",
        "# Eboulis des valeurs propres\n",
        "from functions import display_scree_plot\n",
        "display_scree_plot(pca)\n",
        "\n",
        "plt.savefig(\"PCA.png\")\n",
        "plt.show()"
      ],
      "metadata": {
        "id": "n7TVs4r1Jtdp"
      },
      "execution_count": null,
      "outputs": []
    },
    {
      "cell_type": "code",
      "source": [
        "#Pourcentage de variance expliquée par les composantes principales à l'aide de .explained_variance_ratio_\n",
        "print(pca.explained_variance_ratio_.cumsum())"
      ],
      "metadata": {
        "id": "lD4PpXW0zikX"
      },
      "execution_count": null,
      "outputs": []
    },
    {
      "cell_type": "markdown",
      "source": [
        "2 composantes sont suffisantes pour avoir au moins 60% de la variance."
      ],
      "metadata": {
        "id": "JyIKAWV-Fgw7"
      }
    },
    {
      "cell_type": "markdown",
      "source": [
        "###<font color='purple'>Projection des billets en 2 clusters sur F1 et F2</font>"
      ],
      "metadata": {
        "id": "teBRbDnN0b6i"
      }
    },
    {
      "cell_type": "code",
      "source": [
        "#Coordonnées factorielles \n",
        "plt.figure(figsize=(40, 15))\n",
        "plt.subplot(121)\n",
        "plt.scatter(X_projected[:, 0], X_projected[:, 1], c=kmeans.labels_, cmap='plasma')\n",
        "for i,(x,y) in enumerate(X_projected[:,[0,1]]):\n",
        "                    plt.text(x, y, df_billets.index[i], fontsize='13') \n",
        "plt.xlabel('F{} ({}%)'.format(1, round(100*pca.explained_variance_ratio_[0],1)))\n",
        "plt.ylabel('F{} ({}%)'.format(2, round(100*pca.explained_variance_ratio_[1],1)))\n",
        "plt.title(\"Projection en 5 clusters des {} individus sur le 1er plan factoriel\".format(X_projected.shape[0]))\n",
        "plt.legend()\n",
        "plt.savefig(\"projection_clusters.png\")\n",
        "plt.show()"
      ],
      "metadata": {
        "id": "IfaHTnWZGcH6"
      },
      "execution_count": null,
      "outputs": []
    },
    {
      "cell_type": "markdown",
      "source": [
        "###<font color='purple'>Calcul des composantes F1 et F2</font>"
      ],
      "metadata": {
        "id": "tD7r8FZC0mna"
      }
    },
    {
      "cell_type": "code",
      "source": [
        "#Composantes F1 et F2 : coordonnées des pays sur l'espace vectoriel à 2 dimensions\n",
        "df_comp_km = pd.DataFrame(X_projected, index=df_billets.index, columns=[\"F\" + str(i+1) for i in range(4)]).iloc[:, :2].round (decimals = 2)\n",
        "df_comp_km.head()"
      ],
      "metadata": {
        "id": "eHzkhvAoOLyY"
      },
      "execution_count": null,
      "outputs": []
    },
    {
      "cell_type": "markdown",
      "source": [
        "# **<font color='indianred'>Partie 5 : Classification Supervisée</font>**"
      ],
      "metadata": {
        "id": "oIkY5qQp8Zoo"
      }
    },
    {
      "cell_type": "code",
      "source": [
        "from sklearn.neighbors import KNeighborsClassifier\n",
        "model = KNeighborsClassifier()\n",
        "y = df_billets['nature']\n",
        "X = df_billets.drop('nature', axis=1)"
      ],
      "metadata": {
        "id": "uUpJU4WHiewT"
      },
      "execution_count": null,
      "outputs": []
    },
    {
      "cell_type": "code",
      "source": [
        "y"
      ],
      "metadata": {
        "id": "KF7k_ldH9ruW"
      },
      "execution_count": null,
      "outputs": []
    },
    {
      "cell_type": "code",
      "source": [
        "model.fit(X, y) # entrainement du modele\n",
        "model.score(X, y) # évaluation"
      ],
      "metadata": {
        "id": "rEPRA0oL9slJ"
      },
      "execution_count": null,
      "outputs": []
    },
    {
      "cell_type": "code",
      "source": [
        "#fonction (diagonal\theight_left\theight_right\tmargin_low\tmargin_up\tlength)\n",
        "def nature_billet(model, diagonal=175, height_left=104, height_right=103, margin_low=4.5, margin_up=3, length=112):\n",
        "  x = np.array([diagonal, height_left, height_right, margin_low, margin_up, length]).reshape(1, 6)\n",
        "  print(model.predict(x))\n",
        "  print(model.predict_proba(x))"
      ],
      "metadata": {
        "id": "xoMJJ7Wq-Emr"
      },
      "execution_count": null,
      "outputs": []
    },
    {
      "cell_type": "code",
      "source": [
        "nature_billet(model)"
      ],
      "metadata": {
        "id": "R6rG4ibk-_4A"
      },
      "execution_count": null,
      "outputs": []
    },
    {
      "cell_type": "code",
      "source": [
        ""
      ],
      "metadata": {
        "id": "RxCdii-s_EM1"
      },
      "execution_count": null,
      "outputs": []
    }
  ]
}